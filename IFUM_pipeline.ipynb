{
 "cells": [
  {
   "cell_type": "code",
   "execution_count": 1,
   "id": "2b64c1fc-8229-4002-ba6b-1547ad980376",
   "metadata": {},
   "outputs": [],
   "source": [
    "# import libraries\n",
    "import os\n",
    "import numpy as np\n",
    "from tqdm import tqdm\n",
    "\n",
    "from ifum_stitch import Stitch\n",
    "from ifum_maskopt import Mask\n",
    "from ifum_rectify import Rectify\n",
    "from ifum_calibrate import Calibrate\n",
    "from ifum_stack import Stack\n",
    "\n",
    "# suppress warnings\n",
    "# import warnings\n",
    "# warnings.filterwarnings('ignore')"
   ]
  },
  {
   "cell_type": "code",
   "execution_count": 2,
   "id": "e19ce70a-5c4a-4840-9d39-3f459cc1ec3e",
   "metadata": {},
   "outputs": [],
   "source": [
    "# directory containing unprocessed files\n",
    "directory = \"C:\\\\Users\\\\daniel\\\\OneDrive - The University of Chicago\\\\Documents\\\\cool lamps\\\\summer_24\\\\IFUM data\\\\ut20240212\\\\\"\n",
    "\n",
    "# all files included in a single stack, repeat where necessary\n",
    "# only include string in file that includes all files from single exposure\n",
    "data_filenames = [\"1156\",\"1157\",\"1158\",\"1162\",\"1163\",\"1164\",\"1168\",\"1169\",\"1170\"]\n",
    "arc_filenames = [\"1161\",\"1161\",\"1161\",\"1167\",\"1167\",\"1167\",\"1172\",\"1172\",\"1172\"]\n",
    "flat_filenames = [\"1160\",\"1160\",\"1160\",\"1166\",\"1166\",\"1166\",\"1171\",\"1171\",\"1171\"]\n",
    "\n",
    "# mask???\n",
    "# mode LR,STD,HR\n",
    "mode = \"STD\"\n",
    "\n",
    "# bad masks (on scale 1-276)\n",
    "bad_blues = [23]\n",
    "bad_reds = []\n",
    "\n",
    "# stars to use in WCS (list RA,Dec)\n",
    "# all stars should be present in at least some dithers\n",
    "wcs_stars = [[74.8322, -58.6579],\n",
    "             [74.8279, -58.6548],\n",
    "             [74.8314, -58.6526],\n",
    "             [74.8254, -58.6572],\n",
    "             [74.8303, -58.6543]]\n",
    "\n",
    "# plot or not\n",
    "plot = False"
   ]
  },
  {
   "cell_type": "code",
   "execution_count": 3,
   "id": "fe84b6bd-d950-4a1c-8ab7-7dbd7e6349ce",
   "metadata": {},
   "outputs": [],
   "source": [
    "# assert statements!!!\n",
    "bad_masks = [np.array(bad_blues)-1,np.array(bad_reds)-1]\n",
    "wcs_stars = np.array(wcs_stars)\n",
    "if mode == \"STD\":\n",
    "    total_masks = 552\n",
    "    mask_groups = 12\n",
    "else:\n",
    "    print(\"invalid mode\")"
   ]
  },
  {
   "cell_type": "markdown",
   "id": "a2204d75-610a-4699-9728-2c91e9bf8386",
   "metadata": {},
   "source": [
    "<h1><strong><span style=\"color:purple\">STITCH</h1>\n",
    "\n",
    "<span style=\"color:orange\"><strong>creates 2 files, one for each detector, for both the data and arc files. also produces a cosmic ray mask for the data."
   ]
  },
  {
   "cell_type": "code",
   "execution_count": 4,
   "id": "9f971b0b-fe1a-4984-9779-d3fa8c12b5b7",
   "metadata": {},
   "outputs": [
    {
     "name": "stderr",
     "output_type": "stream",
     "text": [
      "100%|██████████| 27/27 [00:32<00:00,  1.21s/it]"
     ]
    },
    {
     "name": "stdout",
     "output_type": "stream",
     "text": [
      "stitched files saved\n"
     ]
    },
    {
     "name": "stderr",
     "output_type": "stream",
     "text": [
      "\n"
     ]
    }
   ],
   "source": [
    "# out directory where all files are stored\n",
    "if not os.path.exists(\"out\"):\n",
    "    os.makedirs(\"out\")\n",
    "\n",
    "# stitch and create file\n",
    "for file in tqdm(data_filenames+arc_filenames+flat_filenames):\n",
    "    file_to_stitch = Stitch(directory,file,None,None,None,None,None)\n",
    "    file_to_stitch.load_files()\n",
    "    file_to_stitch.save_file()\n",
    "print(\"stitched files saved\")"
   ]
  },
  {
   "cell_type": "code",
   "execution_count": 5,
   "id": "867e5d75-4558-4f46-8e2b-cc12dc3e15f0",
   "metadata": {},
   "outputs": [
    {
     "name": "stderr",
     "output_type": "stream",
     "text": [
      "100%|██████████| 9/9 [00:47<00:00,  5.30s/it]"
     ]
    },
    {
     "name": "stdout",
     "output_type": "stream",
     "text": [
      "internal bias solved\n"
     ]
    },
    {
     "name": "stderr",
     "output_type": "stream",
     "text": [
      "\n"
     ]
    }
   ],
   "source": [
    "# use flat and median filter to get rid of internal bias\n",
    "for datafilename, arcfilename, flatfilename in tqdm(zip(data_filenames, arc_filenames, flat_filenames),total=len(data_filenames)):\n",
    "    file_for_bias = Stitch(directory,None,None,\"b\",datafilename,arcfilename,flatfilename)\n",
    "    file_for_bias.bias_sub()\n",
    "    file_for_bias = Stitch(directory,None,None,\"r\",datafilename,arcfilename,flatfilename)\n",
    "    file_for_bias.bias_sub()\n",
    "print(\"internal bias solved\")"
   ]
  },
  {
   "cell_type": "code",
   "execution_count": 6,
   "id": "c7e4fc5e-cee2-4d39-a16f-45937e3d05c3",
   "metadata": {},
   "outputs": [
    {
     "name": "stderr",
     "output_type": "stream",
     "text": [
      "100%|██████████| 9/9 [15:00<00:00, 100.04s/it]"
     ]
    },
    {
     "name": "stdout",
     "output_type": "stream",
     "text": [
      "cosmic ray masks created\n"
     ]
    },
    {
     "name": "stderr",
     "output_type": "stream",
     "text": [
      "\n"
     ]
    }
   ],
   "source": [
    "# create cosmic ray masks\n",
    "for datafilename in tqdm(data_filenames):\n",
    "    file_for_cmray = Stitch(directory,None,None,\"b\",datafilename,None,None)\n",
    "    file_for_cmray.cmray_mask(data_filenames)\n",
    "    file_for_cmray = Stitch(directory,None,None,\"r\",datafilename,None,None)\n",
    "    file_for_cmray.cmray_mask(data_filenames)\n",
    "print(\"cosmic ray masks created\")"
   ]
  },
  {
   "cell_type": "markdown",
   "id": "d34902f8-4c8e-48f3-b3cc-5cec54c69fcf",
   "metadata": {},
   "source": [
    "<h1><strong><span style=\"color:purple\">OPTIMIZE MASK</h1>\n",
    "\n",
    "<span style=\"color:orange\"><strong>use current mask for single gaussian fits to get better mask guess  "
   ]
  },
  {
   "cell_type": "code",
   "execution_count": null,
   "id": "2938c38a-cd5c-4050-b739-4d5a602ad64a",
   "metadata": {},
   "outputs": [
    {
     "name": "stderr",
     "output_type": "stream",
     "text": [
      "  0%|          | 0/3 [00:00<?, ?it/s]c:\\Users\\daniel\\OneDrive - The University of Chicago\\Documents\\cool lamps\\IFUM_pipeline\\ifum_maskopt.py:128: OptimizeWarning: Covariance of the parameters could not be estimated\n",
      "  continuum,_ = scipy.optimize.curve_fit(self.f_2,cutoffs[0::6],flat_data[cutoffs[0::6],x])\n",
      "100%|██████████| 3/3 [32:09<00:00, 643.04s/it]\n"
     ]
    }
   ],
   "source": [
    "# first guess; complex guess\n",
    "# IMPLEMENT RANSAC??? (HBDSCAN?)\n",
    "for flatfilename in tqdm(np.unique(flat_filenames)):\n",
    "    file_for_mask = Mask(\"b\",flatfilename,bad_masks,total_masks,mask_groups)\n",
    "    mask_polys0 = file_for_mask.first_guess(3)\n",
    "    file_for_mask.mask_poly(mask_polys0,40)\n",
    "\n",
    "    file_for_mask = Mask(\"r\",flatfilename,bad_masks,total_masks,mask_groups)\n",
    "    mask_polys0 = file_for_mask.first_guess(3)\n",
    "    file_for_mask.mask_poly(mask_polys0,40)"
   ]
  },
  {
   "cell_type": "code",
   "execution_count": 4,
   "id": "501d82b2-3e68-499b-b6f6-a69d8ef0c626",
   "metadata": {
    "scrolled": true
   },
   "outputs": [],
   "source": [
    "center_deg = 5\n",
    "sigma_deg = 3\n",
    "\n",
    "for flatfilename in np.unique(flat_filenames):\n",
    "    file_for_mask = Mask(\"b\",flatfilename,bad_masks,total_masks,mask_groups)\n",
    "    file_for_mask.plot_trace_fits(center_deg,sigma_deg)\n",
    "\n",
    "    file_for_mask = Mask(\"r\",flatfilename,bad_masks,total_masks,mask_groups)\n",
    "    file_for_mask.plot_trace_fits(center_deg,sigma_deg)    "
   ]
  },
  {
   "cell_type": "code",
   "execution_count": 9,
   "id": "cb568aeb-f3a6-44a9-af49-e9b0303c7be9",
   "metadata": {},
   "outputs": [
    {
     "name": "stderr",
     "output_type": "stream",
     "text": [
      "100%|██████████| 3/3 [05:47<00:00, 115.79s/it]\n"
     ]
    }
   ],
   "source": [
    "sig_mult = 1.5\n",
    "\n",
    "for flatfilename in tqdm(np.unique(flat_filenames)):\n",
    "    file_for_mask = Mask(\"b\",flatfilename,bad_masks,total_masks,mask_groups)\n",
    "    file_for_mask.get_flat_traces(center_deg,sigma_deg)\n",
    "    file_for_mask.create_mask(sig_mult)\n",
    "    \n",
    "    file_for_mask = Mask(\"r\",flatfilename,bad_masks,total_masks,mask_groups)\n",
    "    file_for_mask.get_flat_traces(center_deg,sigma_deg)\n",
    "    file_for_mask.create_mask(sig_mult)"
   ]
  },
  {
   "cell_type": "code",
   "execution_count": 4,
   "id": "ecfff313",
   "metadata": {},
   "outputs": [
    {
     "name": "stderr",
     "output_type": "stream",
     "text": [
      "100%|██████████| 3/3 [28:27<00:00, 569.08s/it]\n"
     ]
    }
   ],
   "source": [
    "# optimize arc files\n",
    "expected_peaks = 15\n",
    "sig_mult = 1.5\n",
    "\n",
    "for arcfilename, flatfilename in tqdm(zip(np.unique(arc_filenames), np.unique(flat_filenames)),total=len(np.unique(arc_filenames))):\n",
    "    file_for_mask = Mask(\"b\",flatfilename,bad_masks,total_masks,mask_groups)\n",
    "    file_for_mask.optimize_trace(arcfilename,sig_mult,expected_peaks=expected_peaks)\n",
    "    \n",
    "    file_for_mask = Mask(\"r\",flatfilename,bad_masks,total_masks,mask_groups)\n",
    "    file_for_mask.optimize_trace(arcfilename,sig_mult,expected_peaks=expected_peaks)"
   ]
  },
  {
   "cell_type": "code",
   "execution_count": 5,
   "id": "ec5e0476",
   "metadata": {},
   "outputs": [
    {
     "name": "stderr",
     "output_type": "stream",
     "text": [
      "  0%|          | 0/9 [00:00<?, ?it/s]c:\\Users\\daniel\\OneDrive - The University of Chicago\\Documents\\cool lamps\\IFUM_pipeline\\ifum_utils.py:125: RuntimeWarning: Mean of empty slice\n",
      "  spectra = np.nanmean(cut_i,axis=0)\n",
      "c:\\Users\\daniel\\OneDrive - The University of Chicago\\Documents\\cool lamps\\IFUM_pipeline\\ifum_utils.py:125: RuntimeWarning: Mean of empty slice\n",
      "  spectra = np.nanmean(cut_i,axis=0)\n",
      "c:\\Users\\daniel\\OneDrive - The University of Chicago\\Documents\\cool lamps\\IFUM_pipeline\\ifum_maskopt.py:357: OptimizeWarning: Covariance of the parameters could not be estimated\n",
      "  popt,_ = scipy.optimize.curve_fit(ifum_utils.gauss,x[mask_area],intensities[i][mask_area],p0=p0)\n",
      " 11%|█         | 1/9 [16:00<2:08:03, 960.38s/it]c:\\Users\\daniel\\OneDrive - The University of Chicago\\Documents\\cool lamps\\IFUM_pipeline\\ifum_utils.py:125: RuntimeWarning: Mean of empty slice\n",
      "  spectra = np.nanmean(cut_i,axis=0)\n",
      "c:\\Users\\daniel\\OneDrive - The University of Chicago\\Documents\\cool lamps\\IFUM_pipeline\\ifum_utils.py:125: RuntimeWarning: Mean of empty slice\n",
      "  spectra = np.nanmean(cut_i,axis=0)\n",
      " 22%|██▏       | 2/9 [36:50<2:11:56, 1130.88s/it]c:\\Users\\daniel\\OneDrive - The University of Chicago\\Documents\\cool lamps\\IFUM_pipeline\\ifum_utils.py:125: RuntimeWarning: Mean of empty slice\n",
      "  spectra = np.nanmean(cut_i,axis=0)\n",
      "c:\\Users\\daniel\\OneDrive - The University of Chicago\\Documents\\cool lamps\\IFUM_pipeline\\ifum_maskopt.py:357: OptimizeWarning: Covariance of the parameters could not be estimated\n",
      "  popt,_ = scipy.optimize.curve_fit(ifum_utils.gauss,x[mask_area],intensities[i][mask_area],p0=p0)\n",
      "c:\\Users\\daniel\\OneDrive - The University of Chicago\\Documents\\cool lamps\\IFUM_pipeline\\ifum_utils.py:125: RuntimeWarning: Mean of empty slice\n",
      "  spectra = np.nanmean(cut_i,axis=0)\n",
      " 33%|███▎      | 3/9 [1:06:15<2:22:01, 1420.27s/it]c:\\Users\\daniel\\OneDrive - The University of Chicago\\Documents\\cool lamps\\IFUM_pipeline\\ifum_utils.py:125: RuntimeWarning: Mean of empty slice\n",
      "  spectra = np.nanmean(cut_i,axis=0)\n",
      "c:\\Users\\daniel\\OneDrive - The University of Chicago\\Documents\\cool lamps\\IFUM_pipeline\\ifum_maskopt.py:357: OptimizeWarning: Covariance of the parameters could not be estimated\n",
      "  popt,_ = scipy.optimize.curve_fit(ifum_utils.gauss,x[mask_area],intensities[i][mask_area],p0=p0)\n",
      "c:\\Users\\daniel\\OneDrive - The University of Chicago\\Documents\\cool lamps\\IFUM_pipeline\\ifum_utils.py:27: RuntimeWarning: overflow encountered in square\n",
      "  res = np.nanmean((image_points-gauss_points)**2)\n",
      "c:\\Users\\daniel\\anaconda3\\envs\\IFUM\\Lib\\site-packages\\scipy\\optimize\\_numdiff.py:596: RuntimeWarning: invalid value encountered in subtract\n",
      "  df = fun(x1) - f0\n",
      "c:\\Users\\daniel\\OneDrive - The University of Chicago\\Documents\\cool lamps\\IFUM_pipeline\\ifum_utils.py:125: RuntimeWarning: Mean of empty slice\n",
      "  spectra = np.nanmean(cut_i,axis=0)\n",
      " 44%|████▍     | 4/9 [1:17:48<1:34:26, 1133.30s/it]c:\\Users\\daniel\\OneDrive - The University of Chicago\\Documents\\cool lamps\\IFUM_pipeline\\ifum_utils.py:125: RuntimeWarning: Mean of empty slice\n",
      "  spectra = np.nanmean(cut_i,axis=0)\n",
      "c:\\Users\\daniel\\OneDrive - The University of Chicago\\Documents\\cool lamps\\IFUM_pipeline\\ifum_maskopt.py:357: OptimizeWarning: Covariance of the parameters could not be estimated\n",
      "  popt,_ = scipy.optimize.curve_fit(ifum_utils.gauss,x[mask_area],intensities[i][mask_area],p0=p0)\n",
      "c:\\Users\\daniel\\OneDrive - The University of Chicago\\Documents\\cool lamps\\IFUM_pipeline\\ifum_utils.py:125: RuntimeWarning: Mean of empty slice\n",
      "  spectra = np.nanmean(cut_i,axis=0)\n",
      "c:\\Users\\daniel\\OneDrive - The University of Chicago\\Documents\\cool lamps\\IFUM_pipeline\\ifum_utils.py:13: RuntimeWarning: overflow encountered in exp\n",
      "  return A*np.exp(-(a*(x-x0)**2+2*b*(x-x0)*(y-y0)+c*(y-y0)**2))+H\n",
      "c:\\Users\\daniel\\OneDrive - The University of Chicago\\Documents\\cool lamps\\IFUM_pipeline\\ifum_utils.py:27: RuntimeWarning: overflow encountered in square\n",
      "  res = np.nanmean((image_points-gauss_points)**2)\n",
      "c:\\Users\\daniel\\anaconda3\\envs\\IFUM\\Lib\\site-packages\\scipy\\optimize\\_numdiff.py:596: RuntimeWarning: invalid value encountered in subtract\n",
      "  df = fun(x1) - f0\n",
      " 56%|█████▌    | 5/9 [1:30:35<1:06:43, 1000.99s/it]c:\\Users\\daniel\\OneDrive - The University of Chicago\\Documents\\cool lamps\\IFUM_pipeline\\ifum_utils.py:125: RuntimeWarning: Mean of empty slice\n",
      "  spectra = np.nanmean(cut_i,axis=0)\n",
      "c:\\Users\\daniel\\OneDrive - The University of Chicago\\Documents\\cool lamps\\IFUM_pipeline\\ifum_utils.py:125: RuntimeWarning: Mean of empty slice\n",
      "  spectra = np.nanmean(cut_i,axis=0)\n",
      " 67%|██████▋   | 6/9 [1:44:02<46:45, 935.12s/it]   c:\\Users\\daniel\\OneDrive - The University of Chicago\\Documents\\cool lamps\\IFUM_pipeline\\ifum_utils.py:125: RuntimeWarning: Mean of empty slice\n",
      "  spectra = np.nanmean(cut_i,axis=0)\n",
      "c:\\Users\\daniel\\OneDrive - The University of Chicago\\Documents\\cool lamps\\IFUM_pipeline\\ifum_maskopt.py:357: OptimizeWarning: Covariance of the parameters could not be estimated\n",
      "  popt,_ = scipy.optimize.curve_fit(ifum_utils.gauss,x[mask_area],intensities[i][mask_area],p0=p0)\n",
      "c:\\Users\\daniel\\OneDrive - The University of Chicago\\Documents\\cool lamps\\IFUM_pipeline\\ifum_utils.py:27: RuntimeWarning: overflow encountered in square\n",
      "  res = np.nanmean((image_points-gauss_points)**2)\n",
      "c:\\Users\\daniel\\anaconda3\\envs\\IFUM\\Lib\\site-packages\\scipy\\optimize\\_numdiff.py:596: RuntimeWarning: invalid value encountered in subtract\n",
      "  df = fun(x1) - f0\n",
      "c:\\Users\\daniel\\OneDrive - The University of Chicago\\Documents\\cool lamps\\IFUM_pipeline\\ifum_utils.py:125: RuntimeWarning: Mean of empty slice\n",
      "  spectra = np.nanmean(cut_i,axis=0)\n",
      "c:\\Users\\daniel\\OneDrive - The University of Chicago\\Documents\\cool lamps\\IFUM_pipeline\\ifum_utils.py:27: RuntimeWarning: overflow encountered in square\n",
      "  res = np.nanmean((image_points-gauss_points)**2)\n",
      "c:\\Users\\daniel\\anaconda3\\envs\\IFUM\\Lib\\site-packages\\scipy\\optimize\\_numdiff.py:596: RuntimeWarning: invalid value encountered in subtract\n",
      "  df = fun(x1) - f0\n",
      " 78%|███████▊  | 7/9 [1:56:51<29:21, 880.87s/it]c:\\Users\\daniel\\OneDrive - The University of Chicago\\Documents\\cool lamps\\IFUM_pipeline\\ifum_utils.py:125: RuntimeWarning: Mean of empty slice\n",
      "  spectra = np.nanmean(cut_i,axis=0)\n",
      "c:\\Users\\daniel\\OneDrive - The University of Chicago\\Documents\\cool lamps\\IFUM_pipeline\\ifum_maskopt.py:357: OptimizeWarning: Covariance of the parameters could not be estimated\n",
      "  popt,_ = scipy.optimize.curve_fit(ifum_utils.gauss,x[mask_area],intensities[i][mask_area],p0=p0)\n",
      "c:\\Users\\daniel\\OneDrive - The University of Chicago\\Documents\\cool lamps\\IFUM_pipeline\\ifum_utils.py:13: RuntimeWarning: overflow encountered in exp\n",
      "  return A*np.exp(-(a*(x-x0)**2+2*b*(x-x0)*(y-y0)+c*(y-y0)**2))+H\n",
      "c:\\Users\\daniel\\OneDrive - The University of Chicago\\Documents\\cool lamps\\IFUM_pipeline\\ifum_utils.py:27: RuntimeWarning: overflow encountered in square\n",
      "  res = np.nanmean((image_points-gauss_points)**2)\n",
      "c:\\Users\\daniel\\anaconda3\\envs\\IFUM\\Lib\\site-packages\\scipy\\optimize\\_numdiff.py:596: RuntimeWarning: invalid value encountered in subtract\n",
      "  df = fun(x1) - f0\n",
      "c:\\Users\\daniel\\OneDrive - The University of Chicago\\Documents\\cool lamps\\IFUM_pipeline\\ifum_utils.py:125: RuntimeWarning: Mean of empty slice\n",
      "  spectra = np.nanmean(cut_i,axis=0)\n",
      "c:\\Users\\daniel\\OneDrive - The University of Chicago\\Documents\\cool lamps\\IFUM_pipeline\\ifum_maskopt.py:357: OptimizeWarning: Covariance of the parameters could not be estimated\n",
      "  popt,_ = scipy.optimize.curve_fit(ifum_utils.gauss,x[mask_area],intensities[i][mask_area],p0=p0)\n",
      " 89%|████████▉ | 8/9 [2:10:03<14:12, 852.56s/it]c:\\Users\\daniel\\OneDrive - The University of Chicago\\Documents\\cool lamps\\IFUM_pipeline\\ifum_utils.py:125: RuntimeWarning: Mean of empty slice\n",
      "  spectra = np.nanmean(cut_i,axis=0)\n",
      "c:\\Users\\daniel\\OneDrive - The University of Chicago\\Documents\\cool lamps\\IFUM_pipeline\\ifum_maskopt.py:357: OptimizeWarning: Covariance of the parameters could not be estimated\n",
      "  popt,_ = scipy.optimize.curve_fit(ifum_utils.gauss,x[mask_area],intensities[i][mask_area],p0=p0)\n",
      "c:\\Users\\daniel\\OneDrive - The University of Chicago\\Documents\\cool lamps\\IFUM_pipeline\\ifum_utils.py:125: RuntimeWarning: Mean of empty slice\n",
      "  spectra = np.nanmean(cut_i,axis=0)\n",
      "c:\\Users\\daniel\\OneDrive - The University of Chicago\\Documents\\cool lamps\\IFUM_pipeline\\ifum_utils.py:13: RuntimeWarning: overflow encountered in exp\n",
      "  return A*np.exp(-(a*(x-x0)**2+2*b*(x-x0)*(y-y0)+c*(y-y0)**2))+H\n",
      "c:\\Users\\daniel\\anaconda3\\envs\\IFUM\\Lib\\site-packages\\scipy\\optimize\\_numdiff.py:596: RuntimeWarning: invalid value encountered in subtract\n",
      "  df = fun(x1) - f0\n",
      "c:\\Users\\daniel\\OneDrive - The University of Chicago\\Documents\\cool lamps\\IFUM_pipeline\\ifum_utils.py:13: RuntimeWarning: overflow encountered in exp\n",
      "  return A*np.exp(-(a*(x-x0)**2+2*b*(x-x0)*(y-y0)+c*(y-y0)**2))+H\n",
      "c:\\Users\\daniel\\OneDrive - The University of Chicago\\Documents\\cool lamps\\IFUM_pipeline\\ifum_utils.py:13: RuntimeWarning: overflow encountered in multiply\n",
      "  return A*np.exp(-(a*(x-x0)**2+2*b*(x-x0)*(y-y0)+c*(y-y0)**2))+H\n",
      "c:\\Users\\daniel\\OneDrive - The University of Chicago\\Documents\\cool lamps\\IFUM_pipeline\\ifum_utils.py:27: RuntimeWarning: overflow encountered in square\n",
      "  res = np.nanmean((image_points-gauss_points)**2)\n",
      "100%|██████████| 9/9 [2:25:04<00:00, 967.21s/it]\n"
     ]
    }
   ],
   "source": [
    "# optimize data files\n",
    "expected_peaks = 25\n",
    "sig_mult = 1.5\n",
    "\n",
    "for datafilename, arcfilename, flatfilename in tqdm(zip(data_filenames, arc_filenames, flat_filenames),total=len(data_filenames)):\n",
    "    file_for_mask = Mask(\"b\",flatfilename,bad_masks,total_masks,mask_groups)\n",
    "    file_for_mask.optimize_trace(datafilename,sig_mult,True,expected_peaks=expected_peaks)\n",
    "    file_for_mask.get_rots(arcfilename,datafilename)\n",
    "    \n",
    "    file_for_mask = Mask(\"r\",flatfilename,bad_masks,total_masks,mask_groups)\n",
    "    file_for_mask.optimize_trace(datafilename,sig_mult,True,expected_peaks=expected_peaks)\n",
    "    file_for_mask.get_rots(arcfilename,datafilename)"
   ]
  },
  {
   "cell_type": "code",
   "execution_count": 6,
   "id": "5f0a2af9",
   "metadata": {},
   "outputs": [
    {
     "name": "stderr",
     "output_type": "stream",
     "text": [
      "100%|██████████| 9/9 [58:07<00:00, 387.47s/it]  \n"
     ]
    }
   ],
   "source": [
    "# create masks for data\n",
    "sig_mult = 1.5\n",
    "\n",
    "for datafilename, flatfilename in tqdm(zip(data_filenames, flat_filenames),total=len(data_filenames)):\n",
    "    file_for_mask = Mask(\"b\",flatfilename,bad_masks,total_masks,mask_groups)\n",
    "    file_for_mask.create_mask(sig_mult,datafilename)\n",
    "    \n",
    "    file_for_mask = Mask(\"r\",flatfilename,bad_masks,total_masks,mask_groups)\n",
    "    file_for_mask.create_mask(sig_mult,datafilename)"
   ]
  },
  {
   "cell_type": "code",
   "execution_count": 7,
   "id": "04b7d76a",
   "metadata": {},
   "outputs": [
    {
     "name": "stderr",
     "output_type": "stream",
     "text": [
      "100%|██████████| 3/3 [06:48<00:00, 136.13s/it]\n"
     ]
    }
   ],
   "source": [
    "# create masks for arc!\n",
    "sig_mult = 1.5\n",
    "\n",
    "for arcfilename, flatfilename in tqdm(zip(np.unique(arc_filenames), np.unique(flat_filenames)),total=len(np.unique(arc_filenames))):\n",
    "    file_for_mask = Mask(\"b\",flatfilename,bad_masks,total_masks,mask_groups)\n",
    "    file_for_mask.create_mask(sig_mult,arcfilename)\n",
    "    \n",
    "    file_for_mask = Mask(\"r\",flatfilename,bad_masks,total_masks,mask_groups)\n",
    "    file_for_mask.create_mask(sig_mult,arcfilename)"
   ]
  },
  {
   "cell_type": "markdown",
   "id": "c9501a20",
   "metadata": {},
   "source": [
    "<h1><strong><span style=\"color:purple\">RECTIFY</h1>\n",
    "\n",
    "<span style=\"color:orange\"><strong>rectify + calibrate"
   ]
  },
  {
   "cell_type": "code",
   "execution_count": 10,
   "id": "242193f8-2862-432f-b525-358c78b8c0d3",
   "metadata": {},
   "outputs": [
    {
     "name": "stderr",
     "output_type": "stream",
     "text": [
      "  0%|          | 0/9 [00:00<?, ?it/s]c:\\Users\\daniel\\OneDrive - The University of Chicago\\Documents\\cool lamps\\IFUM_pipeline\\ifum_utils.py:125: RuntimeWarning: Mean of empty slice\n",
      "  spectra = np.nanmean(cut_i,axis=0)\n",
      "c:\\Users\\daniel\\OneDrive - The University of Chicago\\Documents\\cool lamps\\IFUM_pipeline\\ifum_utils.py:125: RuntimeWarning: Mean of empty slice\n",
      "  spectra = np.nanmean(cut_i,axis=0)\n",
      " 11%|█         | 1/9 [01:58<15:51, 118.99s/it]c:\\Users\\daniel\\OneDrive - The University of Chicago\\Documents\\cool lamps\\IFUM_pipeline\\ifum_utils.py:125: RuntimeWarning: Mean of empty slice\n",
      "  spectra = np.nanmean(cut_i,axis=0)\n",
      "c:\\Users\\daniel\\OneDrive - The University of Chicago\\Documents\\cool lamps\\IFUM_pipeline\\ifum_utils.py:125: RuntimeWarning: Mean of empty slice\n",
      "  spectra = np.nanmean(cut_i,axis=0)\n",
      " 22%|██▏       | 2/9 [03:54<13:38, 116.95s/it]c:\\Users\\daniel\\OneDrive - The University of Chicago\\Documents\\cool lamps\\IFUM_pipeline\\ifum_utils.py:125: RuntimeWarning: Mean of empty slice\n",
      "  spectra = np.nanmean(cut_i,axis=0)\n",
      "c:\\Users\\daniel\\OneDrive - The University of Chicago\\Documents\\cool lamps\\IFUM_pipeline\\ifum_utils.py:125: RuntimeWarning: Mean of empty slice\n",
      "  spectra = np.nanmean(cut_i,axis=0)\n",
      " 33%|███▎      | 3/9 [06:04<12:17, 122.87s/it]c:\\Users\\daniel\\OneDrive - The University of Chicago\\Documents\\cool lamps\\IFUM_pipeline\\ifum_utils.py:125: RuntimeWarning: Mean of empty slice\n",
      "  spectra = np.nanmean(cut_i,axis=0)\n",
      "c:\\Users\\daniel\\OneDrive - The University of Chicago\\Documents\\cool lamps\\IFUM_pipeline\\ifum_utils.py:125: RuntimeWarning: Mean of empty slice\n",
      "  spectra = np.nanmean(cut_i,axis=0)\n",
      " 44%|████▍     | 4/9 [08:00<10:00, 120.19s/it]c:\\Users\\daniel\\OneDrive - The University of Chicago\\Documents\\cool lamps\\IFUM_pipeline\\ifum_utils.py:125: RuntimeWarning: Mean of empty slice\n",
      "  spectra = np.nanmean(cut_i,axis=0)\n",
      "c:\\Users\\daniel\\OneDrive - The University of Chicago\\Documents\\cool lamps\\IFUM_pipeline\\ifum_utils.py:125: RuntimeWarning: Mean of empty slice\n",
      "  spectra = np.nanmean(cut_i,axis=0)\n",
      " 56%|█████▌    | 5/9 [09:58<07:57, 119.27s/it]c:\\Users\\daniel\\OneDrive - The University of Chicago\\Documents\\cool lamps\\IFUM_pipeline\\ifum_utils.py:125: RuntimeWarning: Mean of empty slice\n",
      "  spectra = np.nanmean(cut_i,axis=0)\n",
      "c:\\Users\\daniel\\OneDrive - The University of Chicago\\Documents\\cool lamps\\IFUM_pipeline\\ifum_utils.py:125: RuntimeWarning: Mean of empty slice\n",
      "  spectra = np.nanmean(cut_i,axis=0)\n",
      " 67%|██████▋   | 6/9 [11:49<05:50, 116.71s/it]c:\\Users\\daniel\\OneDrive - The University of Chicago\\Documents\\cool lamps\\IFUM_pipeline\\ifum_utils.py:125: RuntimeWarning: Mean of empty slice\n",
      "  spectra = np.nanmean(cut_i,axis=0)\n",
      "c:\\Users\\daniel\\OneDrive - The University of Chicago\\Documents\\cool lamps\\IFUM_pipeline\\ifum_utils.py:125: RuntimeWarning: Mean of empty slice\n",
      "  spectra = np.nanmean(cut_i,axis=0)\n",
      " 78%|███████▊  | 7/9 [13:41<03:50, 115.01s/it]c:\\Users\\daniel\\OneDrive - The University of Chicago\\Documents\\cool lamps\\IFUM_pipeline\\ifum_utils.py:125: RuntimeWarning: Mean of empty slice\n",
      "  spectra = np.nanmean(cut_i,axis=0)\n",
      "c:\\Users\\daniel\\OneDrive - The University of Chicago\\Documents\\cool lamps\\IFUM_pipeline\\ifum_utils.py:125: RuntimeWarning: Mean of empty slice\n",
      "  spectra = np.nanmean(cut_i,axis=0)\n",
      " 89%|████████▉ | 8/9 [15:32<01:53, 113.69s/it]c:\\Users\\daniel\\OneDrive - The University of Chicago\\Documents\\cool lamps\\IFUM_pipeline\\ifum_utils.py:125: RuntimeWarning: Mean of empty slice\n",
      "  spectra = np.nanmean(cut_i,axis=0)\n",
      "c:\\Users\\daniel\\OneDrive - The University of Chicago\\Documents\\cool lamps\\IFUM_pipeline\\ifum_utils.py:125: RuntimeWarning: Mean of empty slice\n",
      "  spectra = np.nanmean(cut_i,axis=0)\n",
      "100%|██████████| 9/9 [17:28<00:00, 116.55s/it]\n",
      "  0%|          | 0/3 [00:00<?, ?it/s]c:\\Users\\daniel\\OneDrive - The University of Chicago\\Documents\\cool lamps\\IFUM_pipeline\\ifum_utils.py:125: RuntimeWarning: Mean of empty slice\n",
      "  spectra = np.nanmean(cut_i,axis=0)\n",
      " 33%|███▎      | 1/3 [01:45<03:30, 105.50s/it]c:\\Users\\daniel\\OneDrive - The University of Chicago\\Documents\\cool lamps\\IFUM_pipeline\\ifum_utils.py:125: RuntimeWarning: Mean of empty slice\n",
      "  spectra = np.nanmean(cut_i,axis=0)\n",
      " 67%|██████▋   | 2/3 [03:32<01:46, 106.43s/it]c:\\Users\\daniel\\OneDrive - The University of Chicago\\Documents\\cool lamps\\IFUM_pipeline\\ifum_utils.py:125: RuntimeWarning: Mean of empty slice\n",
      "  spectra = np.nanmean(cut_i,axis=0)\n",
      "100%|██████████| 3/3 [05:20<00:00, 106.94s/it]\n"
     ]
    }
   ],
   "source": [
    "for datafilename, arcfilename, flatfilename in tqdm(zip(data_filenames, arc_filenames, flat_filenames),total=len(data_filenames)):\n",
    "    file_for_rect = Rectify(\"b\",datafilename,arcfilename,flatfilename,bad_masks,total_masks,mask_groups)\n",
    "    file_for_rect.rectify(\"data\")\n",
    "\n",
    "    file_for_rect = Rectify(\"r\",datafilename,arcfilename,flatfilename,bad_masks,total_masks,mask_groups)\n",
    "    file_for_rect.rectify(\"data\")\n",
    "\n",
    "for arcfilename, flatfilename in tqdm(zip(np.unique(arc_filenames), np.unique(flat_filenames)),total=len(np.unique(arc_filenames))):\n",
    "    file_for_rect = Rectify(\"b\",\"NA\",arcfilename,flatfilename,bad_masks,total_masks,mask_groups)\n",
    "    file_for_rect.rectify(\"arc\")\n",
    "\n",
    "    file_for_rect = Rectify(\"r\",\"NA\",arcfilename,flatfilename,bad_masks,total_masks,mask_groups)\n",
    "    file_for_rect.rectify(\"arc\")"
   ]
  },
  {
   "cell_type": "code",
   "execution_count": 4,
   "id": "ad138d44",
   "metadata": {},
   "outputs": [
    {
     "name": "stderr",
     "output_type": "stream",
     "text": [
      "  0%|          | 0/9 [00:00<?, ?it/s]"
     ]
    },
    {
     "name": "stderr",
     "output_type": "stream",
     "text": [
      " 11%|█         | 1/9 [00:27<03:37, 27.14s/it]c:\\Users\\daniel\\OneDrive - The University of Chicago\\Documents\\cool lamps\\IFUM_pipeline\\ifum_rectify.py:193: OptimizeWarning: Covariance of the parameters could not be estimated\n",
      "  popt,pcov = scipy.optimize.curve_fit(ifum_utils.gauss,data_xs[m-1][mask_area],data_intensities[m-1][mask_area],p0=p0)\n",
      "c:\\Users\\daniel\\OneDrive - The University of Chicago\\Documents\\cool lamps\\IFUM_pipeline\\ifum_rectify.py:228: OptimizeWarning: Covariance of the parameters could not be estimated\n",
      "  popt,pcov = scipy.optimize.curve_fit(ifum_utils.gauss,arc_xs[m-1][mask_area],arc_intensities[m-1][mask_area],p0=p0)\n",
      "100%|██████████| 9/9 [03:40<00:00, 24.52s/it]\n"
     ]
    }
   ],
   "source": [
    "# calibrate (rectified xs to wls)\n",
    "for datafilename, arcfilename, flatfilename in tqdm(zip(data_filenames, arc_filenames, flat_filenames),total=len(data_filenames)):\n",
    "    file_for_calib = Rectify(\"b\",datafilename,arcfilename,flatfilename,bad_masks,total_masks,mask_groups)\n",
    "    file_for_calib.calib()\n",
    "\n",
    "    file_for_calib = Rectify(\"r\",datafilename,arcfilename,flatfilename,bad_masks,total_masks,mask_groups)\n",
    "    file_for_calib.calib()"
   ]
  },
  {
   "cell_type": "markdown",
   "id": "cf8e450c",
   "metadata": {},
   "source": [
    "<h1><strong><span style=\"color:purple\">CALIBRATE</h1>\n",
    "\n",
    "<span style=\"color:orange\"><strong>calibrate"
   ]
  },
  {
   "cell_type": "code",
   "execution_count": 4,
   "id": "79210543",
   "metadata": {},
   "outputs": [
    {
     "name": "stderr",
     "output_type": "stream",
     "text": [
      "100%|██████████| 9/9 [3:28:17<00:00, 1388.62s/it]  \n"
     ]
    }
   ],
   "source": [
    "sig_mult = 1.5\n",
    "bins = np.arange(7500,10000,1)\n",
    "\n",
    "for datafilename, arcfilename, flatfilename in tqdm(zip(data_filenames, arc_filenames, flat_filenames),total=len(data_filenames)):\n",
    "    file_for_calib = Calibrate(datafilename,arcfilename,flatfilename,bad_masks,total_masks,mask_groups)\n",
    "    file_for_calib.get_spectra(sig_mult,bins,color=\"b\")\n",
    "    file_for_calib.get_spectra(sig_mult,bins,color=\"r\")"
   ]
  },
  {
   "cell_type": "code",
   "execution_count": 4,
   "id": "bb3db84e",
   "metadata": {},
   "outputs": [
    {
     "name": "stderr",
     "output_type": "stream",
     "text": [
      "  0%|          | 0/9 [00:00<?, ?it/s]"
     ]
    },
    {
     "name": "stderr",
     "output_type": "stream",
     "text": [
      "c:\\Users\\daniel\\OneDrive - The University of Chicago\\Documents\\cool lamps\\IFUM_pipeline\\ifum_calibrate.py:128: OptimizeWarning: Covariance of the parameters could not be estimated\n",
      "  popt,pcov = scipy.optimize.curve_fit(self.gauss_background,\n",
      "c:\\Users\\daniel\\OneDrive - The University of Chicago\\Documents\\cool lamps\\IFUM_pipeline\\ifum_calibrate.py:181: RuntimeWarning: divide by zero encountered in divide\n",
      "  ratio = avg_sky/sky_int\n",
      " 11%|█         | 1/9 [00:34<04:33, 34.14s/it]c:\\Users\\daniel\\OneDrive - The University of Chicago\\Documents\\cool lamps\\IFUM_pipeline\\ifum_utils.py:359: RankWarning: Polyfit may be poorly conditioned\n",
      "  fit = np.polyfit(x[polymask],y[polymask],deg,w=weight[polymask])\n",
      " 33%|███▎      | 3/9 [01:56<03:58, 39.73s/it]c:\\Users\\daniel\\OneDrive - The University of Chicago\\Documents\\cool lamps\\IFUM_pipeline\\ifum_utils.py:359: RankWarning: Polyfit may be poorly conditioned\n",
      "  fit = np.polyfit(x[polymask],y[polymask],deg,w=weight[polymask])\n",
      "c:\\Users\\daniel\\OneDrive - The University of Chicago\\Documents\\cool lamps\\IFUM_pipeline\\ifum_utils.py:359: RankWarning: Polyfit may be poorly conditioned\n",
      "  fit = np.polyfit(x[polymask],y[polymask],deg,w=weight[polymask])\n",
      "c:\\Users\\daniel\\OneDrive - The University of Chicago\\Documents\\cool lamps\\IFUM_pipeline\\ifum_utils.py:359: RankWarning: Polyfit may be poorly conditioned\n",
      "  fit = np.polyfit(x[polymask],y[polymask],deg,w=weight[polymask])\n",
      "c:\\Users\\daniel\\OneDrive - The University of Chicago\\Documents\\cool lamps\\IFUM_pipeline\\ifum_utils.py:359: RankWarning: Polyfit may be poorly conditioned\n",
      "  fit = np.polyfit(x[polymask],y[polymask],deg,w=weight[polymask])\n",
      "c:\\Users\\daniel\\OneDrive - The University of Chicago\\Documents\\cool lamps\\IFUM_pipeline\\ifum_utils.py:359: RankWarning: Polyfit may be poorly conditioned\n",
      "  fit = np.polyfit(x[polymask],y[polymask],deg,w=weight[polymask])\n",
      "c:\\Users\\daniel\\OneDrive - The University of Chicago\\Documents\\cool lamps\\IFUM_pipeline\\ifum_utils.py:359: RankWarning: Polyfit may be poorly conditioned\n",
      "  fit = np.polyfit(x[polymask],y[polymask],deg,w=weight[polymask])\n",
      "c:\\Users\\daniel\\OneDrive - The University of Chicago\\Documents\\cool lamps\\IFUM_pipeline\\ifum_utils.py:359: RankWarning: Polyfit may be poorly conditioned\n",
      "  fit = np.polyfit(x[polymask],y[polymask],deg,w=weight[polymask])\n",
      "c:\\Users\\daniel\\OneDrive - The University of Chicago\\Documents\\cool lamps\\IFUM_pipeline\\ifum_utils.py:359: RankWarning: Polyfit may be poorly conditioned\n",
      "  fit = np.polyfit(x[polymask],y[polymask],deg,w=weight[polymask])\n",
      "c:\\Users\\daniel\\OneDrive - The University of Chicago\\Documents\\cool lamps\\IFUM_pipeline\\ifum_utils.py:359: RankWarning: Polyfit may be poorly conditioned\n",
      "  fit = np.polyfit(x[polymask],y[polymask],deg,w=weight[polymask])\n",
      "c:\\Users\\daniel\\OneDrive - The University of Chicago\\Documents\\cool lamps\\IFUM_pipeline\\ifum_utils.py:359: RankWarning: Polyfit may be poorly conditioned\n",
      "  fit = np.polyfit(x[polymask],y[polymask],deg,w=weight[polymask])\n",
      " 78%|███████▊  | 7/9 [04:15<01:11, 35.86s/it]c:\\Users\\daniel\\OneDrive - The University of Chicago\\Documents\\cool lamps\\IFUM_pipeline\\ifum_utils.py:359: RankWarning: Polyfit may be poorly conditioned\n",
      "  fit = np.polyfit(x[polymask],y[polymask],deg,w=weight[polymask])\n",
      "c:\\Users\\daniel\\OneDrive - The University of Chicago\\Documents\\cool lamps\\IFUM_pipeline\\ifum_utils.py:359: RankWarning: Polyfit may be poorly conditioned\n",
      "  fit = np.polyfit(x[polymask],y[polymask],deg,w=weight[polymask])\n",
      "c:\\Users\\daniel\\OneDrive - The University of Chicago\\Documents\\cool lamps\\IFUM_pipeline\\ifum_utils.py:359: RankWarning: Polyfit may be poorly conditioned\n",
      "  fit = np.polyfit(x[polymask],y[polymask],deg,w=weight[polymask])\n",
      "c:\\Users\\daniel\\OneDrive - The University of Chicago\\Documents\\cool lamps\\IFUM_pipeline\\ifum_utils.py:359: RankWarning: Polyfit may be poorly conditioned\n",
      "  fit = np.polyfit(x[polymask],y[polymask],deg,w=weight[polymask])\n",
      "c:\\Users\\daniel\\OneDrive - The University of Chicago\\Documents\\cool lamps\\IFUM_pipeline\\ifum_utils.py:359: RankWarning: Polyfit may be poorly conditioned\n",
      "  fit = np.polyfit(x[polymask],y[polymask],deg,w=weight[polymask])\n",
      "c:\\Users\\daniel\\OneDrive - The University of Chicago\\Documents\\cool lamps\\IFUM_pipeline\\ifum_utils.py:359: RankWarning: Polyfit may be poorly conditioned\n",
      "  fit = np.polyfit(x[polymask],y[polymask],deg,w=weight[polymask])\n",
      "c:\\Users\\daniel\\OneDrive - The University of Chicago\\Documents\\cool lamps\\IFUM_pipeline\\ifum_utils.py:359: RankWarning: Polyfit may be poorly conditioned\n",
      "  fit = np.polyfit(x[polymask],y[polymask],deg,w=weight[polymask])\n",
      "c:\\Users\\daniel\\OneDrive - The University of Chicago\\Documents\\cool lamps\\IFUM_pipeline\\ifum_utils.py:359: RankWarning: Polyfit may be poorly conditioned\n",
      "  fit = np.polyfit(x[polymask],y[polymask],deg,w=weight[polymask])\n",
      "c:\\Users\\daniel\\OneDrive - The University of Chicago\\Documents\\cool lamps\\IFUM_pipeline\\ifum_utils.py:359: RankWarning: Polyfit may be poorly conditioned\n",
      "  fit = np.polyfit(x[polymask],y[polymask],deg,w=weight[polymask])\n",
      "c:\\Users\\daniel\\OneDrive - The University of Chicago\\Documents\\cool lamps\\IFUM_pipeline\\ifum_utils.py:359: RankWarning: Polyfit may be poorly conditioned\n",
      "  fit = np.polyfit(x[polymask],y[polymask],deg,w=weight[polymask])\n",
      "100%|██████████| 9/9 [05:24<00:00, 36.08s/it]\n"
     ]
    }
   ],
   "source": [
    "# intenisty calibrate all spectra, combine blue and red amplifiers\n",
    "\n",
    "for datafilename, arcfilename, flatfilename in tqdm(zip(data_filenames, arc_filenames, flat_filenames),total=len(data_filenames)):\n",
    "    file_for_calib = Calibrate(datafilename,arcfilename,flatfilename,bad_masks,total_masks,mask_groups)\n",
    "    file_for_calib.intensity_corr()"
   ]
  },
  {
   "cell_type": "code",
   "execution_count": 5,
   "id": "f20a67eb",
   "metadata": {},
   "outputs": [
    {
     "name": "stderr",
     "output_type": "stream",
     "text": [
      " 11%|█         | 1/9 [00:27<03:41, 27.69s/it]\n"
     ]
    },
    {
     "ename": "KeyboardInterrupt",
     "evalue": "",
     "output_type": "error",
     "traceback": [
      "\u001b[31m---------------------------------------------------------------------------\u001b[39m",
      "\u001b[31mKeyboardInterrupt\u001b[39m                         Traceback (most recent call last)",
      "\u001b[36mCell\u001b[39m\u001b[36m \u001b[39m\u001b[32mIn[5]\u001b[39m\u001b[32m, line 5\u001b[39m\n\u001b[32m      3\u001b[39m \u001b[38;5;28;01mfor\u001b[39;00m datafilename, arcfilename, flatfilename \u001b[38;5;129;01min\u001b[39;00m tqdm(\u001b[38;5;28mzip\u001b[39m(data_filenames, arc_filenames, flat_filenames),total=\u001b[38;5;28mlen\u001b[39m(data_filenames)):\n\u001b[32m      4\u001b[39m     file_for_calib = Calibrate(datafilename,arcfilename,flatfilename,bad_masks,total_masks,mask_groups)\n\u001b[32m----> \u001b[39m\u001b[32m5\u001b[39m     \u001b[43mfile_for_calib\u001b[49m\u001b[43m.\u001b[49m\u001b[43m_viz\u001b[49m\u001b[43m(\u001b[49m\u001b[43m)\u001b[49m\n",
      "\u001b[36mFile \u001b[39m\u001b[32mc:\\Users\\daniel\\OneDrive - The University of Chicago\\Documents\\cool lamps\\IFUM_pipeline\\ifum_calibrate.py:223\u001b[39m, in \u001b[36mCalibrate._viz\u001b[39m\u001b[34m(self)\u001b[39m\n\u001b[32m    221\u001b[39m sky_mean = np.nanmedian(npzdata[\u001b[33m\"\u001b[39m\u001b[33mintensity\u001b[39m\u001b[33m\"\u001b[39m],axis=\u001b[32m0\u001b[39m)\n\u001b[32m    222\u001b[39m \u001b[38;5;28;01mfor\u001b[39;00m m \u001b[38;5;129;01min\u001b[39;00m np.arange(\u001b[38;5;28mself\u001b[39m.total_masks):\n\u001b[32m--> \u001b[39m\u001b[32m223\u001b[39m     plt.plot(npzdata[\u001b[33m\"\u001b[39m\u001b[33mwl\u001b[39m\u001b[33m\"\u001b[39m],\u001b[43mnpzdata\u001b[49m\u001b[43m[\u001b[49m\u001b[33;43m\"\u001b[39;49m\u001b[33;43mintensity\u001b[39;49m\u001b[33;43m\"\u001b[39;49m\u001b[43m]\u001b[49m[m]-sky_mean,color=\u001b[33m\"\u001b[39m\u001b[33mgray\u001b[39m\u001b[33m\"\u001b[39m,alpha=\u001b[32m0.5\u001b[39m)\n\u001b[32m    224\u001b[39m plt.show()\n",
      "\u001b[36mFile \u001b[39m\u001b[32mc:\\Users\\daniel\\anaconda3\\envs\\IFUM\\Lib\\site-packages\\numpy\\lib\\_npyio_impl.py:254\u001b[39m, in \u001b[36mNpzFile.__getitem__\u001b[39m\u001b[34m(self, key)\u001b[39m\n\u001b[32m    252\u001b[39m \u001b[38;5;28;01mif\u001b[39;00m magic == \u001b[38;5;28mformat\u001b[39m.MAGIC_PREFIX:\n\u001b[32m    253\u001b[39m     \u001b[38;5;28mbytes\u001b[39m = \u001b[38;5;28mself\u001b[39m.zip.open(key)\n\u001b[32m--> \u001b[39m\u001b[32m254\u001b[39m     \u001b[38;5;28;01mreturn\u001b[39;00m \u001b[38;5;28;43mformat\u001b[39;49m\u001b[43m.\u001b[49m\u001b[43mread_array\u001b[49m\u001b[43m(\u001b[49m\u001b[38;5;28;43mbytes\u001b[39;49m\u001b[43m,\u001b[49m\n\u001b[32m    255\u001b[39m \u001b[43m                             \u001b[49m\u001b[43mallow_pickle\u001b[49m\u001b[43m=\u001b[49m\u001b[38;5;28;43mself\u001b[39;49m\u001b[43m.\u001b[49m\u001b[43mallow_pickle\u001b[49m\u001b[43m,\u001b[49m\n\u001b[32m    256\u001b[39m \u001b[43m                             \u001b[49m\u001b[43mpickle_kwargs\u001b[49m\u001b[43m=\u001b[49m\u001b[38;5;28;43mself\u001b[39;49m\u001b[43m.\u001b[49m\u001b[43mpickle_kwargs\u001b[49m\u001b[43m,\u001b[49m\n\u001b[32m    257\u001b[39m \u001b[43m                             \u001b[49m\u001b[43mmax_header_size\u001b[49m\u001b[43m=\u001b[49m\u001b[38;5;28;43mself\u001b[39;49m\u001b[43m.\u001b[49m\u001b[43mmax_header_size\u001b[49m\u001b[43m)\u001b[49m\n\u001b[32m    258\u001b[39m \u001b[38;5;28;01melse\u001b[39;00m:\n\u001b[32m    259\u001b[39m     \u001b[38;5;28;01mreturn\u001b[39;00m \u001b[38;5;28mself\u001b[39m.zip.read(key)\n",
      "\u001b[36mFile \u001b[39m\u001b[32mc:\\Users\\daniel\\anaconda3\\envs\\IFUM\\Lib\\site-packages\\numpy\\lib\\format.py:851\u001b[39m, in \u001b[36mread_array\u001b[39m\u001b[34m(fp, allow_pickle, pickle_kwargs, max_header_size)\u001b[39m\n\u001b[32m    849\u001b[39m             read_count = \u001b[38;5;28mmin\u001b[39m(max_read_count, count - i)\n\u001b[32m    850\u001b[39m             read_size = \u001b[38;5;28mint\u001b[39m(read_count * dtype.itemsize)\n\u001b[32m--> \u001b[39m\u001b[32m851\u001b[39m             data = \u001b[43m_read_bytes\u001b[49m\u001b[43m(\u001b[49m\u001b[43mfp\u001b[49m\u001b[43m,\u001b[49m\u001b[43m \u001b[49m\u001b[43mread_size\u001b[49m\u001b[43m,\u001b[49m\u001b[43m \u001b[49m\u001b[33;43m\"\u001b[39;49m\u001b[33;43marray data\u001b[39;49m\u001b[33;43m\"\u001b[39;49m\u001b[43m)\u001b[49m\n\u001b[32m    852\u001b[39m             array[i:i+read_count] = numpy.frombuffer(data, dtype=dtype,\n\u001b[32m    853\u001b[39m                                                      count=read_count)\n\u001b[32m    855\u001b[39m \u001b[38;5;28;01mif\u001b[39;00m fortran_order:\n",
      "\u001b[36mFile \u001b[39m\u001b[32mc:\\Users\\daniel\\anaconda3\\envs\\IFUM\\Lib\\site-packages\\numpy\\lib\\format.py:986\u001b[39m, in \u001b[36m_read_bytes\u001b[39m\u001b[34m(fp, size, error_template)\u001b[39m\n\u001b[32m    981\u001b[39m \u001b[38;5;28;01mwhile\u001b[39;00m \u001b[38;5;28;01mTrue\u001b[39;00m:\n\u001b[32m    982\u001b[39m     \u001b[38;5;66;03m# io files (default in python3) return None or raise on\u001b[39;00m\n\u001b[32m    983\u001b[39m     \u001b[38;5;66;03m# would-block, python2 file will truncate, probably nothing can be\u001b[39;00m\n\u001b[32m    984\u001b[39m     \u001b[38;5;66;03m# done about that.  note that regular files can't be non-blocking\u001b[39;00m\n\u001b[32m    985\u001b[39m     \u001b[38;5;28;01mtry\u001b[39;00m:\n\u001b[32m--> \u001b[39m\u001b[32m986\u001b[39m         r = \u001b[43mfp\u001b[49m\u001b[43m.\u001b[49m\u001b[43mread\u001b[49m\u001b[43m(\u001b[49m\u001b[43msize\u001b[49m\u001b[43m \u001b[49m\u001b[43m-\u001b[49m\u001b[43m \u001b[49m\u001b[38;5;28;43mlen\u001b[39;49m\u001b[43m(\u001b[49m\u001b[43mdata\u001b[49m\u001b[43m)\u001b[49m\u001b[43m)\u001b[49m\n\u001b[32m    987\u001b[39m         data += r\n\u001b[32m    988\u001b[39m         \u001b[38;5;28;01mif\u001b[39;00m \u001b[38;5;28mlen\u001b[39m(r) == \u001b[32m0\u001b[39m \u001b[38;5;129;01mor\u001b[39;00m \u001b[38;5;28mlen\u001b[39m(data) == size:\n",
      "\u001b[36mFile \u001b[39m\u001b[32mc:\\Users\\daniel\\anaconda3\\envs\\IFUM\\Lib\\zipfile\\__init__.py:1015\u001b[39m, in \u001b[36mZipExtFile.read\u001b[39m\u001b[34m(self, n)\u001b[39m\n\u001b[32m   1013\u001b[39m \u001b[38;5;28mself\u001b[39m._offset = \u001b[32m0\u001b[39m\n\u001b[32m   1014\u001b[39m \u001b[38;5;28;01mwhile\u001b[39;00m n > \u001b[32m0\u001b[39m \u001b[38;5;129;01mand\u001b[39;00m \u001b[38;5;129;01mnot\u001b[39;00m \u001b[38;5;28mself\u001b[39m._eof:\n\u001b[32m-> \u001b[39m\u001b[32m1015\u001b[39m     data = \u001b[38;5;28;43mself\u001b[39;49m\u001b[43m.\u001b[49m\u001b[43m_read1\u001b[49m\u001b[43m(\u001b[49m\u001b[43mn\u001b[49m\u001b[43m)\u001b[49m\n\u001b[32m   1016\u001b[39m     \u001b[38;5;28;01mif\u001b[39;00m n < \u001b[38;5;28mlen\u001b[39m(data):\n\u001b[32m   1017\u001b[39m         \u001b[38;5;28mself\u001b[39m._readbuffer = data\n",
      "\u001b[36mFile \u001b[39m\u001b[32mc:\\Users\\daniel\\anaconda3\\envs\\IFUM\\Lib\\zipfile\\__init__.py:1105\u001b[39m, in \u001b[36mZipExtFile._read1\u001b[39m\u001b[34m(self, n)\u001b[39m\n\u001b[32m   1103\u001b[39m \u001b[38;5;28;01mif\u001b[39;00m \u001b[38;5;28mself\u001b[39m._left <= \u001b[32m0\u001b[39m:\n\u001b[32m   1104\u001b[39m     \u001b[38;5;28mself\u001b[39m._eof = \u001b[38;5;28;01mTrue\u001b[39;00m\n\u001b[32m-> \u001b[39m\u001b[32m1105\u001b[39m \u001b[38;5;28;43mself\u001b[39;49m\u001b[43m.\u001b[49m\u001b[43m_update_crc\u001b[49m\u001b[43m(\u001b[49m\u001b[43mdata\u001b[49m\u001b[43m)\u001b[49m\n\u001b[32m   1106\u001b[39m \u001b[38;5;28;01mreturn\u001b[39;00m data\n",
      "\u001b[36mFile \u001b[39m\u001b[32mc:\\Users\\daniel\\anaconda3\\envs\\IFUM\\Lib\\zipfile\\__init__.py:1030\u001b[39m, in \u001b[36mZipExtFile._update_crc\u001b[39m\u001b[34m(self, newdata)\u001b[39m\n\u001b[32m   1027\u001b[39m \u001b[38;5;28;01mif\u001b[39;00m \u001b[38;5;28mself\u001b[39m._expected_crc \u001b[38;5;129;01mis\u001b[39;00m \u001b[38;5;28;01mNone\u001b[39;00m:\n\u001b[32m   1028\u001b[39m     \u001b[38;5;66;03m# No need to compute the CRC if we don't have a reference value\u001b[39;00m\n\u001b[32m   1029\u001b[39m     \u001b[38;5;28;01mreturn\u001b[39;00m\n\u001b[32m-> \u001b[39m\u001b[32m1030\u001b[39m \u001b[38;5;28mself\u001b[39m._running_crc = \u001b[43mcrc32\u001b[49m\u001b[43m(\u001b[49m\u001b[43mnewdata\u001b[49m\u001b[43m,\u001b[49m\u001b[43m \u001b[49m\u001b[38;5;28;43mself\u001b[39;49m\u001b[43m.\u001b[49m\u001b[43m_running_crc\u001b[49m\u001b[43m)\u001b[49m\n\u001b[32m   1031\u001b[39m \u001b[38;5;66;03m# Check the CRC if we're at the end of the file\u001b[39;00m\n\u001b[32m   1032\u001b[39m \u001b[38;5;28;01mif\u001b[39;00m \u001b[38;5;28mself\u001b[39m._eof \u001b[38;5;129;01mand\u001b[39;00m \u001b[38;5;28mself\u001b[39m._running_crc != \u001b[38;5;28mself\u001b[39m._expected_crc:\n",
      "\u001b[31mKeyboardInterrupt\u001b[39m: "
     ]
    }
   ],
   "source": [
    "# ONLY VIZ\n",
    "\n",
    "for datafilename, arcfilename, flatfilename in tqdm(zip(data_filenames, arc_filenames, flat_filenames),total=len(data_filenames)):\n",
    "    file_for_calib = Calibrate(datafilename,arcfilename,flatfilename,bad_masks,total_masks,mask_groups)\n",
    "    file_for_calib._viz()"
   ]
  },
  {
   "cell_type": "markdown",
   "id": "d909ef5c",
   "metadata": {},
   "source": [
    "<h1><strong><span style=\"color:purple\">STACK</h1>\n",
    "\n",
    "<span style=\"color:orange\"><strong>stack dithers"
   ]
  },
  {
   "cell_type": "code",
   "execution_count": 5,
   "id": "e1d41067",
   "metadata": {},
   "outputs": [
    {
     "name": "stdout",
     "output_type": "stream",
     "text": [
      "hexagon grid: 99.000,88.777\n",
      "pixel grid: 99,89\n",
      "8811 pixels\n"
     ]
    },
    {
     "name": "stderr",
     "output_type": "stream",
     "text": [
      "overlap percentages: 100%|\u001b[38;2;255;165;0m██████████\u001b[0m| 8811/8811 [00:37<00:00, 233.53it/s]\n"
     ]
    },
    {
     "name": "stdout",
     "output_type": "stream",
     "text": [
      "8691 (98.638%) of pixels overlap with hexagon grid\n",
      "8183 (92.873%) of pixels overlap fully with hexagon grid\n"
     ]
    },
    {
     "name": "stderr",
     "output_type": "stream",
     "text": [
      "graphing pixels: 100%|\u001b[38;2;218;112;214m██████████\u001b[0m| 8811/8811 [00:15<00:00, 575.67it/s]\n"
     ]
    },
    {
     "name": "stdout",
     "output_type": "stream",
     "text": [
      "plotting...\n"
     ]
    },
    {
     "name": "stderr",
     "output_type": "stream",
     "text": [
      "c:\\Users\\daniel\\OneDrive - The University of Chicago\\Documents\\cool lamps\\IFUM_pipeline\\ifum_stack.py:76: RuntimeWarning: invalid value encountered in divide\n",
      "  new_percentages = old_percentages/(old_percentages.sum(axis=1,keepdims=True))\n",
      "graphing pixels: 100%|\u001b[38;2;218;112;214m██████████\u001b[0m| 8811/8811 [00:14<00:00, 614.04it/s]\n"
     ]
    },
    {
     "name": "stdout",
     "output_type": "stream",
     "text": [
      "plotting...\n"
     ]
    },
    {
     "name": "stderr",
     "output_type": "stream",
     "text": [
      "c:\\Users\\daniel\\OneDrive - The University of Chicago\\Documents\\cool lamps\\IFUM_pipeline\\ifum_stack.py:114: RuntimeWarning: All-NaN slice encountered\n",
      "  intensity_skysub = intensity-np.nanmedian(intensity,axis=0)\n",
      "100%|██████████| 99/99 [02:26<00:00,  1.47s/it]\n",
      "100%|██████████| 99/99 [01:55<00:00,  1.17s/it]\n",
      "100%|██████████| 99/99 [02:12<00:00,  1.34s/it]\n",
      "100%|██████████| 99/99 [01:53<00:00,  1.15s/it]\n",
      "100%|██████████| 99/99 [02:17<00:00,  1.39s/it]\n",
      "100%|██████████| 99/99 [02:10<00:00,  1.32s/it]\n",
      "100%|██████████| 99/99 [02:17<00:00,  1.39s/it]\n",
      "100%|██████████| 99/99 [02:11<00:00,  1.32s/it]\n",
      "100%|██████████| 99/99 [02:15<00:00,  1.37s/it]\n"
     ]
    }
   ],
   "source": [
    "# individually create datacubes to be used in dither stack\n",
    "\n",
    "files_for_stack = Stack(data_filenames,bad_masks,total_masks,mask_groups,wcs_stars)\n",
    "files_for_stack.hex_to_grid()\n",
    "files_for_stack.spectra_to_datacube()"
   ]
  },
  {
   "cell_type": "code",
   "execution_count": 5,
   "id": "9bf64aa5",
   "metadata": {},
   "outputs": [
    {
     "name": "stderr",
     "output_type": "stream",
     "text": [
      "C:\\Users\\daniel\\AppData\\Local\\Temp\\ipykernel_4092\\3019807052.py:5: RuntimeWarning: All-NaN slice encountered\n",
      "  data__ = data__-np.nanmedian(data__,axis=0)\n"
     ]
    }
   ],
   "source": [
    "from astropy.io import fits\n",
    "import scipy\n",
    "file__ = fits.open(r\"C:\\Users\\daniel\\OneDrive - The University of Chicago\\Documents\\cool lamps\\IFUM_pipeline\\spectrabins_int.fits\")\n",
    "data__ = file__[0].data\n",
    "data__ = data__-np.nanmedian(data__,axis=0)\n",
    "# data__ = data__-scipy.ndimage.median_filter(data__,size=(1,12))\n",
    "fits.writeto(\"test.fits\",data__,overwrite=True)\n",
    "# median_image = scipy.ndimage.median_filter(data__,size=(1,9))\n"
   ]
  },
  {
   "cell_type": "code",
   "execution_count": 6,
   "id": "c62b6175",
   "metadata": {},
   "outputs": [
    {
     "name": "stdout",
     "output_type": "stream",
     "text": [
      "calculting 2D cross-correlation shift guesses...\n"
     ]
    },
    {
     "name": "stderr",
     "output_type": "stream",
     "text": [
      "c:\\Users\\daniel\\anaconda3\\envs\\IFUM\\Lib\\site-packages\\numpy\\lib\\_nanfunctions_impl.py:1217: RuntimeWarning: All-NaN slice encountered\n",
      "  return fnb._ureduce(a, func=_nanmedian, keepdims=keepdims,\n"
     ]
    },
    {
     "name": "stdout",
     "output_type": "stream",
     "text": [
      "select 5 WCS stars in order; see popup window\n",
      "optimizing WCS star coordinates...\n",
      "performing WCS transforms...\n"
     ]
    },
    {
     "name": "stderr",
     "output_type": "stream",
     "text": [
      "c:\\Users\\daniel\\OneDrive - The University of Chicago\\Documents\\cool lamps\\IFUM_pipeline\\ifum_utils.py:318: RuntimeWarning: divide by zero encountered in scalar divide\n",
      "  theta = np.degrees(np.arctan(180./(np.pi*(np.sqrt(x__[i]*x__[i]+y__[i]*y__[i])))))\n"
     ]
    },
    {
     "name": "stdout",
     "output_type": "stream",
     "text": [
      "\t1156 used 5 reference stars\n"
     ]
    },
    {
     "name": "stderr",
     "output_type": "stream",
     "text": [
      "c:\\Users\\daniel\\OneDrive - The University of Chicago\\Documents\\cool lamps\\IFUM_pipeline\\ifum_utils.py:318: RuntimeWarning: divide by zero encountered in scalar divide\n",
      "  theta = np.degrees(np.arctan(180./(np.pi*(np.sqrt(x__[i]*x__[i]+y__[i]*y__[i])))))\n"
     ]
    },
    {
     "name": "stdout",
     "output_type": "stream",
     "text": [
      "\t1157 used 5 reference stars\n"
     ]
    },
    {
     "name": "stderr",
     "output_type": "stream",
     "text": [
      "c:\\Users\\daniel\\OneDrive - The University of Chicago\\Documents\\cool lamps\\IFUM_pipeline\\ifum_utils.py:318: RuntimeWarning: divide by zero encountered in scalar divide\n",
      "  theta = np.degrees(np.arctan(180./(np.pi*(np.sqrt(x__[i]*x__[i]+y__[i]*y__[i])))))\n"
     ]
    },
    {
     "name": "stdout",
     "output_type": "stream",
     "text": [
      "\t1158 used 5 reference stars\n"
     ]
    },
    {
     "name": "stderr",
     "output_type": "stream",
     "text": [
      "c:\\Users\\daniel\\OneDrive - The University of Chicago\\Documents\\cool lamps\\IFUM_pipeline\\ifum_utils.py:318: RuntimeWarning: divide by zero encountered in scalar divide\n",
      "  theta = np.degrees(np.arctan(180./(np.pi*(np.sqrt(x__[i]*x__[i]+y__[i]*y__[i])))))\n"
     ]
    },
    {
     "name": "stdout",
     "output_type": "stream",
     "text": [
      "\t1162 used 5 reference stars\n"
     ]
    },
    {
     "name": "stderr",
     "output_type": "stream",
     "text": [
      "c:\\Users\\daniel\\OneDrive - The University of Chicago\\Documents\\cool lamps\\IFUM_pipeline\\ifum_utils.py:318: RuntimeWarning: divide by zero encountered in scalar divide\n",
      "  theta = np.degrees(np.arctan(180./(np.pi*(np.sqrt(x__[i]*x__[i]+y__[i]*y__[i])))))\n"
     ]
    },
    {
     "name": "stdout",
     "output_type": "stream",
     "text": [
      "\t1163 used 4 reference stars\n"
     ]
    },
    {
     "name": "stderr",
     "output_type": "stream",
     "text": [
      "c:\\Users\\daniel\\OneDrive - The University of Chicago\\Documents\\cool lamps\\IFUM_pipeline\\ifum_utils.py:318: RuntimeWarning: divide by zero encountered in scalar divide\n",
      "  theta = np.degrees(np.arctan(180./(np.pi*(np.sqrt(x__[i]*x__[i]+y__[i]*y__[i])))))\n"
     ]
    },
    {
     "name": "stdout",
     "output_type": "stream",
     "text": [
      "\t1164 used 4 reference stars\n"
     ]
    },
    {
     "name": "stderr",
     "output_type": "stream",
     "text": [
      "c:\\Users\\daniel\\OneDrive - The University of Chicago\\Documents\\cool lamps\\IFUM_pipeline\\ifum_utils.py:318: RuntimeWarning: divide by zero encountered in scalar divide\n",
      "  theta = np.degrees(np.arctan(180./(np.pi*(np.sqrt(x__[i]*x__[i]+y__[i]*y__[i])))))\n"
     ]
    },
    {
     "name": "stdout",
     "output_type": "stream",
     "text": [
      "\t1168 used 5 reference stars\n"
     ]
    },
    {
     "name": "stderr",
     "output_type": "stream",
     "text": [
      "c:\\Users\\daniel\\OneDrive - The University of Chicago\\Documents\\cool lamps\\IFUM_pipeline\\ifum_utils.py:318: RuntimeWarning: divide by zero encountered in scalar divide\n",
      "  theta = np.degrees(np.arctan(180./(np.pi*(np.sqrt(x__[i]*x__[i]+y__[i]*y__[i])))))\n"
     ]
    },
    {
     "name": "stdout",
     "output_type": "stream",
     "text": [
      "\t1169 used 5 reference stars\n"
     ]
    },
    {
     "name": "stderr",
     "output_type": "stream",
     "text": [
      "c:\\Users\\daniel\\OneDrive - The University of Chicago\\Documents\\cool lamps\\IFUM_pipeline\\ifum_utils.py:318: RuntimeWarning: divide by zero encountered in scalar divide\n",
      "  theta = np.degrees(np.arctan(180./(np.pi*(np.sqrt(x__[i]*x__[i]+y__[i]*y__[i])))))\n"
     ]
    },
    {
     "name": "stdout",
     "output_type": "stream",
     "text": [
      "\t1170 used 5 reference stars\n",
      "WCS transformations complete\n"
     ]
    }
   ],
   "source": [
    "# transform data to WCS using cross-correlation\n",
    "files_for_stack = Stack(data_filenames,bad_masks,total_masks,mask_groups,wcs_stars)\n",
    "files_for_stack.wcs_datacubes()"
   ]
  },
  {
   "cell_type": "code",
   "execution_count": 4,
   "id": "cf8bb6c6",
   "metadata": {},
   "outputs": [
    {
     "name": "stdout",
     "output_type": "stream",
     "text": [
      "(552, 2500)\n",
      "(552, 2500)\n",
      "(552, 2500)\n",
      "(552, 2500)\n",
      "(552, 2500)\n",
      "(552, 2500)\n",
      "(552, 2500)\n",
      "(552, 2500)\n",
      "(552, 2500)\n"
     ]
    }
   ],
   "source": [
    "# calibrate intensity for all datacubes\n",
    "files_for_stack = Stack(data_filenames,bad_masks,total_masks,mask_groups,wcs_stars)\n",
    "files_for_stack.full_intensity_callibration()"
   ]
  },
  {
   "cell_type": "code",
   "execution_count": 4,
   "id": "faf096b2",
   "metadata": {},
   "outputs": [
    {
     "name": "stdout",
     "output_type": "stream",
     "text": [
      "(2376,)\n",
      "[<POLYGON ((0.008 -71.828, 3.643 -71.828, 3.643 -68.911, 0.008 -68.911, 0.008...>\n",
      " <POLYGON ((3.643 -71.828, 7.279 -71.828, 7.279 -68.911, 3.643 -68.911, 3.643...>\n",
      " <POLYGON ((7.279 -71.828, 10.915 -71.828, 10.915 -68.911, 7.279 -68.911, 7.2...>\n",
      " ...\n",
      " <POLYGON ((349.054 -4.72, 352.69 -4.72, 352.69 -1.802, 349.054 -1.802, 349.0...>\n",
      " <POLYGON ((352.69 -4.72, 356.326 -4.72, 356.326 -1.802, 352.69 -1.802, 352.6...>\n",
      " <POLYGON ((356.326 -4.72, 359.962 -4.72, 359.962 -1.802, 356.326 -1.802, 356...>]\n",
      "(4968,)\n",
      "[<POLYGON ((74.821 -58.659, 74.821 -58.658, 74.821 -58.658, 74.821 -58.658, 7...>\n",
      " <POLYGON ((74.821 -58.659, 74.821 -58.658, 74.822 -58.658, 74.822 -58.658, 7...>\n",
      " <POLYGON ((74.822 -58.659, 74.822 -58.658, 74.822 -58.658, 74.822 -58.658, 7...>\n",
      " ...\n",
      " <POLYGON ((74.823 -58.653, 74.823 -58.652, 74.823 -58.652, 74.823 -58.652, 7...>\n",
      " <POLYGON ((74.822 -58.653, 74.822 -58.652, 74.822 -58.652, 74.823 -58.652, 7...>\n",
      " <POLYGON ((74.822 -58.653, 74.822 -58.652, 74.822 -58.652, 74.822 -58.652, 7...>]\n",
      "hexes\n",
      "Self-intersection[135.694934420327 -59.9302063041715]\n",
      "Self-intersection[125.499602592233 -65.0248938295376]\n",
      "Self-intersection[110.166329200858 -68.4065899522114]\n",
      "Self-intersection[79.4682484115217 -69.2264834129309]\n",
      "Self-intersection[118.591093012267 -64.6026987225198]\n",
      "Self-intersection[130.721585458655 -59.6240739865697]\n",
      "Self-intersection[125.484029330227 -59.2071955900628]\n",
      "Self-intersection[111.655918559692 -63.8784363187877]\n",
      "Self-intersection[74.4934307094742 -66.936692773816]\n",
      "Self-intersection[103.045925623399 -67.2493086799022]\n",
      "Self-intersection[75.9514133223923 -69.0124647876627]\n",
      "Self-intersection[49.9578905976681 -66.5991919823603]\n"
     ]
    },
    {
     "ename": "KeyboardInterrupt",
     "evalue": "",
     "output_type": "error",
     "traceback": [
      "\u001b[31m---------------------------------------------------------------------------\u001b[39m",
      "\u001b[31mKeyboardInterrupt\u001b[39m                         Traceback (most recent call last)",
      "\u001b[36mCell\u001b[39m\u001b[36m \u001b[39m\u001b[32mIn[4]\u001b[39m\u001b[32m, line 3\u001b[39m\n\u001b[32m      1\u001b[39m \u001b[38;5;66;03m# stack datacubes\u001b[39;00m\n\u001b[32m      2\u001b[39m files_for_stack = Stack(data_filenames,bad_masks,total_masks,mask_groups,wcs_stars)\n\u001b[32m----> \u001b[39m\u001b[32m3\u001b[39m \u001b[43mfiles_for_stack\u001b[49m\u001b[43m.\u001b[49m\u001b[43mstack_datacubes\u001b[49m\u001b[43m(\u001b[49m\u001b[43m)\u001b[49m\n",
      "\u001b[36mFile \u001b[39m\u001b[32mc:\\Users\\daniel\\OneDrive - The University of Chicago\\Documents\\cool lamps\\IFUM_pipeline\\ifum_stack.py:407\u001b[39m, in \u001b[36mStack.stack_datacubes\u001b[39m\u001b[34m(self)\u001b[39m\n\u001b[32m    405\u001b[39m         \u001b[38;5;28mprint\u001b[39m(explain_validity(wcs_pixel))\n\u001b[32m    406\u001b[39m         plt.fill(*wcs_pixel.exterior.xy,color=\u001b[33m\"\u001b[39m\u001b[33mblue\u001b[39m\u001b[33m\"\u001b[39m,alpha=\u001b[32m0.5\u001b[39m,edgecolor=\u001b[33m\"\u001b[39m\u001b[33mblack\u001b[39m\u001b[33m\"\u001b[39m)\n\u001b[32m--> \u001b[39m\u001b[32m407\u001b[39m         \u001b[43mplt\u001b[49m\u001b[43m.\u001b[49m\u001b[43mshow\u001b[49m\u001b[43m(\u001b[49m\u001b[43m)\u001b[49m\n\u001b[32m    409\u001b[39m percentages = ifum_hexagonify.get_overlap_percentages(wcs_pixels,all_wcs_hexes)\n\u001b[32m    410\u001b[39m \u001b[38;5;28;01mfor\u001b[39;00m bad_mask \u001b[38;5;129;01min\u001b[39;00m \u001b[38;5;28mself\u001b[39m.bad_masks[\u001b[32m0\u001b[39m]:\n",
      "\u001b[36mFile \u001b[39m\u001b[32mc:\\Users\\daniel\\anaconda3\\envs\\IFUM\\Lib\\site-packages\\matplotlib\\pyplot.py:614\u001b[39m, in \u001b[36mshow\u001b[39m\u001b[34m(*args, **kwargs)\u001b[39m\n\u001b[32m    570\u001b[39m \u001b[38;5;250m\u001b[39m\u001b[33;03m\"\"\"\u001b[39;00m\n\u001b[32m    571\u001b[39m \u001b[33;03mDisplay all open figures.\u001b[39;00m\n\u001b[32m    572\u001b[39m \n\u001b[32m   (...)\u001b[39m\u001b[32m    611\u001b[39m \u001b[33;03mexplicitly there.\u001b[39;00m\n\u001b[32m    612\u001b[39m \u001b[33;03m\"\"\"\u001b[39;00m\n\u001b[32m    613\u001b[39m _warn_if_gui_out_of_main_thread()\n\u001b[32m--> \u001b[39m\u001b[32m614\u001b[39m \u001b[38;5;28;01mreturn\u001b[39;00m \u001b[43m_get_backend_mod\u001b[49m\u001b[43m(\u001b[49m\u001b[43m)\u001b[49m\u001b[43m.\u001b[49m\u001b[43mshow\u001b[49m\u001b[43m(\u001b[49m\u001b[43m*\u001b[49m\u001b[43margs\u001b[49m\u001b[43m,\u001b[49m\u001b[43m \u001b[49m\u001b[43m*\u001b[49m\u001b[43m*\u001b[49m\u001b[43mkwargs\u001b[49m\u001b[43m)\u001b[49m\n",
      "\u001b[36mFile \u001b[39m\u001b[32mc:\\Users\\daniel\\anaconda3\\envs\\IFUM\\Lib\\site-packages\\matplotlib\\backend_bases.py:3547\u001b[39m, in \u001b[36m_Backend.show\u001b[39m\u001b[34m(cls, block)\u001b[39m\n\u001b[32m   3545\u001b[39m     block = \u001b[38;5;129;01mnot\u001b[39;00m ipython_pylab \u001b[38;5;129;01mand\u001b[39;00m \u001b[38;5;129;01mnot\u001b[39;00m is_interactive()\n\u001b[32m   3546\u001b[39m \u001b[38;5;28;01mif\u001b[39;00m block:\n\u001b[32m-> \u001b[39m\u001b[32m3547\u001b[39m     \u001b[38;5;28;43mcls\u001b[39;49m\u001b[43m.\u001b[49m\u001b[43mmainloop\u001b[49m\u001b[43m(\u001b[49m\u001b[43m)\u001b[49m\n",
      "\u001b[36mFile \u001b[39m\u001b[32mc:\\Users\\daniel\\anaconda3\\envs\\IFUM\\Lib\\site-packages\\matplotlib\\backends\\_backend_tk.py:544\u001b[39m, in \u001b[36mFigureManagerTk.start_main_loop\u001b[39m\u001b[34m(cls)\u001b[39m\n\u001b[32m    542\u001b[39m manager_class._owns_mainloop = \u001b[38;5;28;01mTrue\u001b[39;00m\n\u001b[32m    543\u001b[39m \u001b[38;5;28;01mtry\u001b[39;00m:\n\u001b[32m--> \u001b[39m\u001b[32m544\u001b[39m     \u001b[43mfirst_manager\u001b[49m\u001b[43m.\u001b[49m\u001b[43mwindow\u001b[49m\u001b[43m.\u001b[49m\u001b[43mmainloop\u001b[49m\u001b[43m(\u001b[49m\u001b[43m)\u001b[49m\n\u001b[32m    545\u001b[39m \u001b[38;5;28;01mfinally\u001b[39;00m:\n\u001b[32m    546\u001b[39m     manager_class._owns_mainloop = \u001b[38;5;28;01mFalse\u001b[39;00m\n",
      "\u001b[36mFile \u001b[39m\u001b[32mc:\\Users\\daniel\\anaconda3\\envs\\IFUM\\Lib\\tkinter\\__init__.py:1599\u001b[39m, in \u001b[36mMisc.mainloop\u001b[39m\u001b[34m(self, n)\u001b[39m\n\u001b[32m   1597\u001b[39m \u001b[38;5;28;01mdef\u001b[39;00m\u001b[38;5;250m \u001b[39m\u001b[34mmainloop\u001b[39m(\u001b[38;5;28mself\u001b[39m, n=\u001b[32m0\u001b[39m):\n\u001b[32m   1598\u001b[39m \u001b[38;5;250m    \u001b[39m\u001b[33;03m\"\"\"Call the mainloop of Tk.\"\"\"\u001b[39;00m\n\u001b[32m-> \u001b[39m\u001b[32m1599\u001b[39m     \u001b[38;5;28;43mself\u001b[39;49m\u001b[43m.\u001b[49m\u001b[43mtk\u001b[49m\u001b[43m.\u001b[49m\u001b[43mmainloop\u001b[49m\u001b[43m(\u001b[49m\u001b[43mn\u001b[49m\u001b[43m)\u001b[49m\n",
      "\u001b[31mKeyboardInterrupt\u001b[39m: "
     ]
    }
   ],
   "source": [
    "# stack datacubes\n",
    "files_for_stack = Stack(data_filenames,bad_masks,total_masks,mask_groups,wcs_stars)\n",
    "files_for_stack.stack_datacubes()"
   ]
  },
  {
   "cell_type": "code",
   "execution_count": null,
   "id": "b59d0768",
   "metadata": {},
   "outputs": [],
   "source": []
  },
  {
   "cell_type": "code",
   "execution_count": null,
   "id": "175c2632",
   "metadata": {},
   "outputs": [],
   "source": []
  }
 ],
 "metadata": {
  "kernelspec": {
   "display_name": "IFUM",
   "language": "python",
   "name": "python3"
  },
  "language_info": {
   "codemirror_mode": {
    "name": "ipython",
    "version": 3
   },
   "file_extension": ".py",
   "mimetype": "text/x-python",
   "name": "python",
   "nbconvert_exporter": "python",
   "pygments_lexer": "ipython3",
   "version": "3.13.2"
  }
 },
 "nbformat": 4,
 "nbformat_minor": 5
}
