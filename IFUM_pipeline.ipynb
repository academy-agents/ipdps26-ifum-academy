{
 "cells": [
  {
   "cell_type": "code",
   "execution_count": 1,
   "id": "2b64c1fc-8229-4002-ba6b-1547ad980376",
   "metadata": {},
   "outputs": [],
   "source": [
    "# import libraries\n",
    "import os\n",
    "import numpy as np\n",
    "from tqdm import tqdm\n",
    "\n",
    "from ifum_stitch import Stitch\n",
    "from ifum_maskopt import Mask\n",
    "from ifum_rectify import Rectify\n",
    "from ifum_calibrate import Calibrate\n",
    "from ifum_stack import Stack\n",
    "\n",
    "# suppress warnings\n",
    "import warnings\n",
    "warnings.filterwarnings('ignore')"
   ]
  },
  {
   "cell_type": "code",
   "execution_count": 2,
   "id": "e19ce70a-5c4a-4840-9d39-3f459cc1ec3e",
   "metadata": {},
   "outputs": [],
   "source": [
    "# directory containing unprocessed files\n",
    "directory = \"C:\\\\Users\\\\daniel\\\\OneDrive - The University of Chicago\\\\Documents\\\\cool lamps\\\\summer_24\\\\IFUM data\\\\ut20240212\\\\\"\n",
    "\n",
    "# all files included in a single stack, repeat where necessary\n",
    "# only include string in file that includes all files from single exposure\n",
    "data_filenames = [\"1156\",\"1157\",\"1158\",\"1162\",\"1163\",\"1164\",\"1168\",\"1169\",\"1170\"]\n",
    "arc_filenames = [\"1161\",\"1161\",\"1161\",\"1167\",\"1167\",\"1167\",\"1172\",\"1172\",\"1172\"]\n",
    "flat_filenames = [\"1160\",\"1160\",\"1160\",\"1166\",\"1166\",\"1166\",\"1171\",\"1171\",\"1171\"]\n",
    "\n",
    "# mask???\n",
    "# mode LR,STD,HR\n",
    "mode = \"STD\"\n",
    "\n",
    "# bad masks (on scale 1-276)\n",
    "bad_blues = [23]\n",
    "bad_reds = []\n",
    "\n",
    "# stars to use in WCS (list RA,Dec)\n",
    "# all stars should be present in at least some dithers\n",
    "wcs_stars = [[74.8322, -58.6579],\n",
    "             [74.8279, -58.6548],\n",
    "             [74.8314, -58.6526],\n",
    "             [74.8254, -58.6572],\n",
    "             [74.8303, -58.6543]]\n",
    "\n",
    "# plot or not\n",
    "plot = False"
   ]
  },
  {
   "cell_type": "code",
   "execution_count": 3,
   "id": "fe84b6bd-d950-4a1c-8ab7-7dbd7e6349ce",
   "metadata": {},
   "outputs": [],
   "source": [
    "# assert statements!!!\n",
    "bad_masks = [np.array(bad_blues)-1,np.array(bad_reds)-1]\n",
    "wcs_stars = np.array(wcs_stars)\n",
    "if mode == \"STD\":\n",
    "    total_masks = 552\n",
    "    mask_groups = 12\n",
    "else:\n",
    "    print(\"invalid mode\")"
   ]
  },
  {
   "cell_type": "markdown",
   "id": "a2204d75-610a-4699-9728-2c91e9bf8386",
   "metadata": {},
   "source": [
    "<h1><strong><span style=\"color:purple\">STITCH</h1>\n",
    "\n",
    "<span style=\"color:orange\"><strong>creates 2 files, one for each detector, for both the data and arc files. also produces a cosmic ray mask for the data."
   ]
  },
  {
   "cell_type": "code",
   "execution_count": 4,
   "id": "9f971b0b-fe1a-4984-9779-d3fa8c12b5b7",
   "metadata": {},
   "outputs": [
    {
     "name": "stderr",
     "output_type": "stream",
     "text": [
      "100%|██████████| 27/27 [00:32<00:00,  1.21s/it]"
     ]
    },
    {
     "name": "stdout",
     "output_type": "stream",
     "text": [
      "stitched files saved\n"
     ]
    },
    {
     "name": "stderr",
     "output_type": "stream",
     "text": [
      "\n"
     ]
    }
   ],
   "source": [
    "# out directory where all files are stored\n",
    "if not os.path.exists(\"out\"):\n",
    "    os.makedirs(\"out\")\n",
    "\n",
    "# stitch and create file\n",
    "for file in tqdm(data_filenames+arc_filenames+flat_filenames):\n",
    "    file_to_stitch = Stitch(directory,file,None,None,None,None,None)\n",
    "    file_to_stitch.load_files()\n",
    "    file_to_stitch.save_file()\n",
    "print(\"stitched files saved\")"
   ]
  },
  {
   "cell_type": "code",
   "execution_count": 5,
   "id": "867e5d75-4558-4f46-8e2b-cc12dc3e15f0",
   "metadata": {},
   "outputs": [
    {
     "name": "stderr",
     "output_type": "stream",
     "text": [
      "100%|██████████| 9/9 [00:47<00:00,  5.30s/it]"
     ]
    },
    {
     "name": "stdout",
     "output_type": "stream",
     "text": [
      "internal bias solved\n"
     ]
    },
    {
     "name": "stderr",
     "output_type": "stream",
     "text": [
      "\n"
     ]
    }
   ],
   "source": [
    "# use flat and median filter to get rid of internal bias\n",
    "for datafilename, arcfilename, flatfilename in tqdm(zip(data_filenames, arc_filenames, flat_filenames),total=len(data_filenames)):\n",
    "    file_for_bias = Stitch(directory,None,None,\"b\",datafilename,arcfilename,flatfilename)\n",
    "    file_for_bias.bias_sub()\n",
    "    file_for_bias = Stitch(directory,None,None,\"r\",datafilename,arcfilename,flatfilename)\n",
    "    file_for_bias.bias_sub()\n",
    "print(\"internal bias solved\")"
   ]
  },
  {
   "cell_type": "code",
   "execution_count": 6,
   "id": "c7e4fc5e-cee2-4d39-a16f-45937e3d05c3",
   "metadata": {},
   "outputs": [
    {
     "name": "stderr",
     "output_type": "stream",
     "text": [
      "100%|██████████| 9/9 [15:00<00:00, 100.04s/it]"
     ]
    },
    {
     "name": "stdout",
     "output_type": "stream",
     "text": [
      "cosmic ray masks created\n"
     ]
    },
    {
     "name": "stderr",
     "output_type": "stream",
     "text": [
      "\n"
     ]
    }
   ],
   "source": [
    "# create cosmic ray masks\n",
    "for datafilename in tqdm(data_filenames):\n",
    "    file_for_cmray = Stitch(directory,None,None,\"b\",datafilename,None,None)\n",
    "    file_for_cmray.cmray_mask(data_filenames)\n",
    "    file_for_cmray = Stitch(directory,None,None,\"r\",datafilename,None,None)\n",
    "    file_for_cmray.cmray_mask(data_filenames)\n",
    "print(\"cosmic ray masks created\")"
   ]
  },
  {
   "cell_type": "markdown",
   "id": "d34902f8-4c8e-48f3-b3cc-5cec54c69fcf",
   "metadata": {},
   "source": [
    "<h1><strong><span style=\"color:purple\">OPTIMIZE MASK</h1>\n",
    "\n",
    "<span style=\"color:orange\"><strong>use current mask for single gaussian fits to get better mask guess  "
   ]
  },
  {
   "cell_type": "code",
   "execution_count": null,
   "id": "2938c38a-cd5c-4050-b739-4d5a602ad64a",
   "metadata": {},
   "outputs": [
    {
     "name": "stderr",
     "output_type": "stream",
     "text": [
      "  0%|          | 0/3 [00:00<?, ?it/s]c:\\Users\\daniel\\OneDrive - The University of Chicago\\Documents\\cool lamps\\IFUM_pipeline\\ifum_maskopt.py:128: OptimizeWarning: Covariance of the parameters could not be estimated\n",
      "  continuum,_ = scipy.optimize.curve_fit(self.f_2,cutoffs[0::6],flat_data[cutoffs[0::6],x])\n",
      "100%|██████████| 3/3 [32:09<00:00, 643.04s/it]\n"
     ]
    }
   ],
   "source": [
    "# first guess; complex guess\n",
    "# IMPLEMENT RANSAC??? (HBDSCAN?)\n",
    "for flatfilename in tqdm(np.unique(flat_filenames)):\n",
    "    file_for_mask = Mask(\"b\",flatfilename,bad_masks,total_masks,mask_groups)\n",
    "    mask_polys0 = file_for_mask.first_guess(3)\n",
    "    file_for_mask.mask_poly(mask_polys0,40)\n",
    "\n",
    "    file_for_mask = Mask(\"r\",flatfilename,bad_masks,total_masks,mask_groups)\n",
    "    mask_polys0 = file_for_mask.first_guess(3)\n",
    "    file_for_mask.mask_poly(mask_polys0,40)"
   ]
  },
  {
   "cell_type": "code",
   "execution_count": 4,
   "id": "501d82b2-3e68-499b-b6f6-a69d8ef0c626",
   "metadata": {
    "scrolled": true
   },
   "outputs": [],
   "source": [
    "center_deg = 5\n",
    "sigma_deg = 3\n",
    "\n",
    "for flatfilename in np.unique(flat_filenames):\n",
    "    file_for_mask = Mask(\"b\",flatfilename,bad_masks,total_masks,mask_groups)\n",
    "    file_for_mask.plot_trace_fits(center_deg,sigma_deg)\n",
    "\n",
    "    file_for_mask = Mask(\"r\",flatfilename,bad_masks,total_masks,mask_groups)\n",
    "    file_for_mask.plot_trace_fits(center_deg,sigma_deg)    "
   ]
  },
  {
   "cell_type": "code",
   "execution_count": 9,
   "id": "cb568aeb-f3a6-44a9-af49-e9b0303c7be9",
   "metadata": {},
   "outputs": [
    {
     "name": "stderr",
     "output_type": "stream",
     "text": [
      "100%|██████████| 3/3 [05:47<00:00, 115.79s/it]\n"
     ]
    }
   ],
   "source": [
    "sig_mult = 1.5\n",
    "\n",
    "for flatfilename in tqdm(np.unique(flat_filenames)):\n",
    "    file_for_mask = Mask(\"b\",flatfilename,bad_masks,total_masks,mask_groups)\n",
    "    file_for_mask.get_flat_traces(center_deg,sigma_deg)\n",
    "    file_for_mask.create_mask(sig_mult)\n",
    "    \n",
    "    file_for_mask = Mask(\"r\",flatfilename,bad_masks,total_masks,mask_groups)\n",
    "    file_for_mask.get_flat_traces(center_deg,sigma_deg)\n",
    "    file_for_mask.create_mask(sig_mult)"
   ]
  },
  {
   "cell_type": "code",
   "execution_count": 4,
   "id": "ecfff313",
   "metadata": {},
   "outputs": [
    {
     "name": "stderr",
     "output_type": "stream",
     "text": [
      "100%|██████████| 3/3 [28:27<00:00, 569.08s/it]\n"
     ]
    }
   ],
   "source": [
    "# optimize arc files\n",
    "expected_peaks = 15\n",
    "sig_mult = 1.5\n",
    "\n",
    "for arcfilename, flatfilename in tqdm(zip(np.unique(arc_filenames), np.unique(flat_filenames)),total=len(np.unique(arc_filenames))):\n",
    "    file_for_mask = Mask(\"b\",flatfilename,bad_masks,total_masks,mask_groups)\n",
    "    file_for_mask.optimize_trace(arcfilename,sig_mult,expected_peaks=expected_peaks)\n",
    "    \n",
    "    file_for_mask = Mask(\"r\",flatfilename,bad_masks,total_masks,mask_groups)\n",
    "    file_for_mask.optimize_trace(arcfilename,sig_mult,expected_peaks=expected_peaks)"
   ]
  },
  {
   "cell_type": "code",
   "execution_count": 5,
   "id": "ec5e0476",
   "metadata": {},
   "outputs": [
    {
     "name": "stderr",
     "output_type": "stream",
     "text": [
      "  0%|          | 0/9 [00:00<?, ?it/s]c:\\Users\\daniel\\OneDrive - The University of Chicago\\Documents\\cool lamps\\IFUM_pipeline\\ifum_utils.py:125: RuntimeWarning: Mean of empty slice\n",
      "  spectra = np.nanmean(cut_i,axis=0)\n",
      "c:\\Users\\daniel\\OneDrive - The University of Chicago\\Documents\\cool lamps\\IFUM_pipeline\\ifum_utils.py:125: RuntimeWarning: Mean of empty slice\n",
      "  spectra = np.nanmean(cut_i,axis=0)\n",
      "c:\\Users\\daniel\\OneDrive - The University of Chicago\\Documents\\cool lamps\\IFUM_pipeline\\ifum_maskopt.py:357: OptimizeWarning: Covariance of the parameters could not be estimated\n",
      "  popt,_ = scipy.optimize.curve_fit(ifum_utils.gauss,x[mask_area],intensities[i][mask_area],p0=p0)\n",
      " 11%|█         | 1/9 [16:00<2:08:03, 960.38s/it]c:\\Users\\daniel\\OneDrive - The University of Chicago\\Documents\\cool lamps\\IFUM_pipeline\\ifum_utils.py:125: RuntimeWarning: Mean of empty slice\n",
      "  spectra = np.nanmean(cut_i,axis=0)\n",
      "c:\\Users\\daniel\\OneDrive - The University of Chicago\\Documents\\cool lamps\\IFUM_pipeline\\ifum_utils.py:125: RuntimeWarning: Mean of empty slice\n",
      "  spectra = np.nanmean(cut_i,axis=0)\n",
      " 22%|██▏       | 2/9 [36:50<2:11:56, 1130.88s/it]c:\\Users\\daniel\\OneDrive - The University of Chicago\\Documents\\cool lamps\\IFUM_pipeline\\ifum_utils.py:125: RuntimeWarning: Mean of empty slice\n",
      "  spectra = np.nanmean(cut_i,axis=0)\n",
      "c:\\Users\\daniel\\OneDrive - The University of Chicago\\Documents\\cool lamps\\IFUM_pipeline\\ifum_maskopt.py:357: OptimizeWarning: Covariance of the parameters could not be estimated\n",
      "  popt,_ = scipy.optimize.curve_fit(ifum_utils.gauss,x[mask_area],intensities[i][mask_area],p0=p0)\n",
      "c:\\Users\\daniel\\OneDrive - The University of Chicago\\Documents\\cool lamps\\IFUM_pipeline\\ifum_utils.py:125: RuntimeWarning: Mean of empty slice\n",
      "  spectra = np.nanmean(cut_i,axis=0)\n",
      " 33%|███▎      | 3/9 [1:06:15<2:22:01, 1420.27s/it]c:\\Users\\daniel\\OneDrive - The University of Chicago\\Documents\\cool lamps\\IFUM_pipeline\\ifum_utils.py:125: RuntimeWarning: Mean of empty slice\n",
      "  spectra = np.nanmean(cut_i,axis=0)\n",
      "c:\\Users\\daniel\\OneDrive - The University of Chicago\\Documents\\cool lamps\\IFUM_pipeline\\ifum_maskopt.py:357: OptimizeWarning: Covariance of the parameters could not be estimated\n",
      "  popt,_ = scipy.optimize.curve_fit(ifum_utils.gauss,x[mask_area],intensities[i][mask_area],p0=p0)\n",
      "c:\\Users\\daniel\\OneDrive - The University of Chicago\\Documents\\cool lamps\\IFUM_pipeline\\ifum_utils.py:27: RuntimeWarning: overflow encountered in square\n",
      "  res = np.nanmean((image_points-gauss_points)**2)\n",
      "c:\\Users\\daniel\\anaconda3\\envs\\IFUM\\Lib\\site-packages\\scipy\\optimize\\_numdiff.py:596: RuntimeWarning: invalid value encountered in subtract\n",
      "  df = fun(x1) - f0\n",
      "c:\\Users\\daniel\\OneDrive - The University of Chicago\\Documents\\cool lamps\\IFUM_pipeline\\ifum_utils.py:125: RuntimeWarning: Mean of empty slice\n",
      "  spectra = np.nanmean(cut_i,axis=0)\n",
      " 44%|████▍     | 4/9 [1:17:48<1:34:26, 1133.30s/it]c:\\Users\\daniel\\OneDrive - The University of Chicago\\Documents\\cool lamps\\IFUM_pipeline\\ifum_utils.py:125: RuntimeWarning: Mean of empty slice\n",
      "  spectra = np.nanmean(cut_i,axis=0)\n",
      "c:\\Users\\daniel\\OneDrive - The University of Chicago\\Documents\\cool lamps\\IFUM_pipeline\\ifum_maskopt.py:357: OptimizeWarning: Covariance of the parameters could not be estimated\n",
      "  popt,_ = scipy.optimize.curve_fit(ifum_utils.gauss,x[mask_area],intensities[i][mask_area],p0=p0)\n",
      "c:\\Users\\daniel\\OneDrive - The University of Chicago\\Documents\\cool lamps\\IFUM_pipeline\\ifum_utils.py:125: RuntimeWarning: Mean of empty slice\n",
      "  spectra = np.nanmean(cut_i,axis=0)\n",
      "c:\\Users\\daniel\\OneDrive - The University of Chicago\\Documents\\cool lamps\\IFUM_pipeline\\ifum_utils.py:13: RuntimeWarning: overflow encountered in exp\n",
      "  return A*np.exp(-(a*(x-x0)**2+2*b*(x-x0)*(y-y0)+c*(y-y0)**2))+H\n",
      "c:\\Users\\daniel\\OneDrive - The University of Chicago\\Documents\\cool lamps\\IFUM_pipeline\\ifum_utils.py:27: RuntimeWarning: overflow encountered in square\n",
      "  res = np.nanmean((image_points-gauss_points)**2)\n",
      "c:\\Users\\daniel\\anaconda3\\envs\\IFUM\\Lib\\site-packages\\scipy\\optimize\\_numdiff.py:596: RuntimeWarning: invalid value encountered in subtract\n",
      "  df = fun(x1) - f0\n",
      " 56%|█████▌    | 5/9 [1:30:35<1:06:43, 1000.99s/it]c:\\Users\\daniel\\OneDrive - The University of Chicago\\Documents\\cool lamps\\IFUM_pipeline\\ifum_utils.py:125: RuntimeWarning: Mean of empty slice\n",
      "  spectra = np.nanmean(cut_i,axis=0)\n",
      "c:\\Users\\daniel\\OneDrive - The University of Chicago\\Documents\\cool lamps\\IFUM_pipeline\\ifum_utils.py:125: RuntimeWarning: Mean of empty slice\n",
      "  spectra = np.nanmean(cut_i,axis=0)\n",
      " 67%|██████▋   | 6/9 [1:44:02<46:45, 935.12s/it]   c:\\Users\\daniel\\OneDrive - The University of Chicago\\Documents\\cool lamps\\IFUM_pipeline\\ifum_utils.py:125: RuntimeWarning: Mean of empty slice\n",
      "  spectra = np.nanmean(cut_i,axis=0)\n",
      "c:\\Users\\daniel\\OneDrive - The University of Chicago\\Documents\\cool lamps\\IFUM_pipeline\\ifum_maskopt.py:357: OptimizeWarning: Covariance of the parameters could not be estimated\n",
      "  popt,_ = scipy.optimize.curve_fit(ifum_utils.gauss,x[mask_area],intensities[i][mask_area],p0=p0)\n",
      "c:\\Users\\daniel\\OneDrive - The University of Chicago\\Documents\\cool lamps\\IFUM_pipeline\\ifum_utils.py:27: RuntimeWarning: overflow encountered in square\n",
      "  res = np.nanmean((image_points-gauss_points)**2)\n",
      "c:\\Users\\daniel\\anaconda3\\envs\\IFUM\\Lib\\site-packages\\scipy\\optimize\\_numdiff.py:596: RuntimeWarning: invalid value encountered in subtract\n",
      "  df = fun(x1) - f0\n",
      "c:\\Users\\daniel\\OneDrive - The University of Chicago\\Documents\\cool lamps\\IFUM_pipeline\\ifum_utils.py:125: RuntimeWarning: Mean of empty slice\n",
      "  spectra = np.nanmean(cut_i,axis=0)\n",
      "c:\\Users\\daniel\\OneDrive - The University of Chicago\\Documents\\cool lamps\\IFUM_pipeline\\ifum_utils.py:27: RuntimeWarning: overflow encountered in square\n",
      "  res = np.nanmean((image_points-gauss_points)**2)\n",
      "c:\\Users\\daniel\\anaconda3\\envs\\IFUM\\Lib\\site-packages\\scipy\\optimize\\_numdiff.py:596: RuntimeWarning: invalid value encountered in subtract\n",
      "  df = fun(x1) - f0\n",
      " 78%|███████▊  | 7/9 [1:56:51<29:21, 880.87s/it]c:\\Users\\daniel\\OneDrive - The University of Chicago\\Documents\\cool lamps\\IFUM_pipeline\\ifum_utils.py:125: RuntimeWarning: Mean of empty slice\n",
      "  spectra = np.nanmean(cut_i,axis=0)\n",
      "c:\\Users\\daniel\\OneDrive - The University of Chicago\\Documents\\cool lamps\\IFUM_pipeline\\ifum_maskopt.py:357: OptimizeWarning: Covariance of the parameters could not be estimated\n",
      "  popt,_ = scipy.optimize.curve_fit(ifum_utils.gauss,x[mask_area],intensities[i][mask_area],p0=p0)\n",
      "c:\\Users\\daniel\\OneDrive - The University of Chicago\\Documents\\cool lamps\\IFUM_pipeline\\ifum_utils.py:13: RuntimeWarning: overflow encountered in exp\n",
      "  return A*np.exp(-(a*(x-x0)**2+2*b*(x-x0)*(y-y0)+c*(y-y0)**2))+H\n",
      "c:\\Users\\daniel\\OneDrive - The University of Chicago\\Documents\\cool lamps\\IFUM_pipeline\\ifum_utils.py:27: RuntimeWarning: overflow encountered in square\n",
      "  res = np.nanmean((image_points-gauss_points)**2)\n",
      "c:\\Users\\daniel\\anaconda3\\envs\\IFUM\\Lib\\site-packages\\scipy\\optimize\\_numdiff.py:596: RuntimeWarning: invalid value encountered in subtract\n",
      "  df = fun(x1) - f0\n",
      "c:\\Users\\daniel\\OneDrive - The University of Chicago\\Documents\\cool lamps\\IFUM_pipeline\\ifum_utils.py:125: RuntimeWarning: Mean of empty slice\n",
      "  spectra = np.nanmean(cut_i,axis=0)\n",
      "c:\\Users\\daniel\\OneDrive - The University of Chicago\\Documents\\cool lamps\\IFUM_pipeline\\ifum_maskopt.py:357: OptimizeWarning: Covariance of the parameters could not be estimated\n",
      "  popt,_ = scipy.optimize.curve_fit(ifum_utils.gauss,x[mask_area],intensities[i][mask_area],p0=p0)\n",
      " 89%|████████▉ | 8/9 [2:10:03<14:12, 852.56s/it]c:\\Users\\daniel\\OneDrive - The University of Chicago\\Documents\\cool lamps\\IFUM_pipeline\\ifum_utils.py:125: RuntimeWarning: Mean of empty slice\n",
      "  spectra = np.nanmean(cut_i,axis=0)\n",
      "c:\\Users\\daniel\\OneDrive - The University of Chicago\\Documents\\cool lamps\\IFUM_pipeline\\ifum_maskopt.py:357: OptimizeWarning: Covariance of the parameters could not be estimated\n",
      "  popt,_ = scipy.optimize.curve_fit(ifum_utils.gauss,x[mask_area],intensities[i][mask_area],p0=p0)\n",
      "c:\\Users\\daniel\\OneDrive - The University of Chicago\\Documents\\cool lamps\\IFUM_pipeline\\ifum_utils.py:125: RuntimeWarning: Mean of empty slice\n",
      "  spectra = np.nanmean(cut_i,axis=0)\n",
      "c:\\Users\\daniel\\OneDrive - The University of Chicago\\Documents\\cool lamps\\IFUM_pipeline\\ifum_utils.py:13: RuntimeWarning: overflow encountered in exp\n",
      "  return A*np.exp(-(a*(x-x0)**2+2*b*(x-x0)*(y-y0)+c*(y-y0)**2))+H\n",
      "c:\\Users\\daniel\\anaconda3\\envs\\IFUM\\Lib\\site-packages\\scipy\\optimize\\_numdiff.py:596: RuntimeWarning: invalid value encountered in subtract\n",
      "  df = fun(x1) - f0\n",
      "c:\\Users\\daniel\\OneDrive - The University of Chicago\\Documents\\cool lamps\\IFUM_pipeline\\ifum_utils.py:13: RuntimeWarning: overflow encountered in exp\n",
      "  return A*np.exp(-(a*(x-x0)**2+2*b*(x-x0)*(y-y0)+c*(y-y0)**2))+H\n",
      "c:\\Users\\daniel\\OneDrive - The University of Chicago\\Documents\\cool lamps\\IFUM_pipeline\\ifum_utils.py:13: RuntimeWarning: overflow encountered in multiply\n",
      "  return A*np.exp(-(a*(x-x0)**2+2*b*(x-x0)*(y-y0)+c*(y-y0)**2))+H\n",
      "c:\\Users\\daniel\\OneDrive - The University of Chicago\\Documents\\cool lamps\\IFUM_pipeline\\ifum_utils.py:27: RuntimeWarning: overflow encountered in square\n",
      "  res = np.nanmean((image_points-gauss_points)**2)\n",
      "100%|██████████| 9/9 [2:25:04<00:00, 967.21s/it]\n"
     ]
    }
   ],
   "source": [
    "# optimize data files\n",
    "expected_peaks = 25\n",
    "sig_mult = 1.5\n",
    "\n",
    "for datafilename, arcfilename, flatfilename in tqdm(zip(data_filenames, arc_filenames, flat_filenames),total=len(data_filenames)):\n",
    "    file_for_mask = Mask(\"b\",flatfilename,bad_masks,total_masks,mask_groups)\n",
    "    file_for_mask.optimize_trace(datafilename,sig_mult,True,expected_peaks=expected_peaks)\n",
    "    file_for_mask.get_rots(arcfilename,datafilename)\n",
    "    \n",
    "    file_for_mask = Mask(\"r\",flatfilename,bad_masks,total_masks,mask_groups)\n",
    "    file_for_mask.optimize_trace(datafilename,sig_mult,True,expected_peaks=expected_peaks)\n",
    "    file_for_mask.get_rots(arcfilename,datafilename)"
   ]
  },
  {
   "cell_type": "code",
   "execution_count": 6,
   "id": "5f0a2af9",
   "metadata": {},
   "outputs": [
    {
     "name": "stderr",
     "output_type": "stream",
     "text": [
      "100%|██████████| 9/9 [58:07<00:00, 387.47s/it]  \n"
     ]
    }
   ],
   "source": [
    "# create masks for data\n",
    "sig_mult = 1.5\n",
    "\n",
    "for datafilename, flatfilename in tqdm(zip(data_filenames, flat_filenames),total=len(data_filenames)):\n",
    "    file_for_mask = Mask(\"b\",flatfilename,bad_masks,total_masks,mask_groups)\n",
    "    file_for_mask.create_mask(sig_mult,datafilename)\n",
    "    \n",
    "    file_for_mask = Mask(\"r\",flatfilename,bad_masks,total_masks,mask_groups)\n",
    "    file_for_mask.create_mask(sig_mult,datafilename)"
   ]
  },
  {
   "cell_type": "code",
   "execution_count": 7,
   "id": "04b7d76a",
   "metadata": {},
   "outputs": [
    {
     "name": "stderr",
     "output_type": "stream",
     "text": [
      "100%|██████████| 3/3 [06:48<00:00, 136.13s/it]\n"
     ]
    }
   ],
   "source": [
    "# create masks for arc!\n",
    "sig_mult = 1.5\n",
    "\n",
    "for arcfilename, flatfilename in tqdm(zip(np.unique(arc_filenames), np.unique(flat_filenames)),total=len(np.unique(arc_filenames))):\n",
    "    file_for_mask = Mask(\"b\",flatfilename,bad_masks,total_masks,mask_groups)\n",
    "    file_for_mask.create_mask(sig_mult,arcfilename)\n",
    "    \n",
    "    file_for_mask = Mask(\"r\",flatfilename,bad_masks,total_masks,mask_groups)\n",
    "    file_for_mask.create_mask(sig_mult,arcfilename)"
   ]
  },
  {
   "cell_type": "markdown",
   "id": "c9501a20",
   "metadata": {},
   "source": [
    "<h1><strong><span style=\"color:purple\">RECTIFY</h1>\n",
    "\n",
    "<span style=\"color:orange\"><strong>rectify + calibrate"
   ]
  },
  {
   "cell_type": "code",
   "execution_count": null,
   "id": "14c3c573",
   "metadata": {},
   "outputs": [],
   "source": [
    "sig_mult = 1.5\n",
    "\n",
    "for datafilename, arcfilename, flatfilename in tqdm(zip(data_filenames, arc_filenames, flat_filenames),total=len(data_filenames)):\n",
    "    file_for_rect = Rectify(\"b\",datafilename,arcfilename,flatfilename,bad_masks,total_masks,mask_groups)\n",
    "    file_for_rect.optimize_centers(\"data\",sig_mult)\n",
    "    \n",
    "    file_for_rect = Rectify(\"r\",datafilename,arcfilename,flatfilename,bad_masks,total_masks,mask_groups)\n",
    "    file_for_rect.optimize_centers(\"data\",sig_mult)\n",
    "\n",
    "for arcfilename, flatfilename in tqdm(zip(np.unique(arc_filenames), np.unique(flat_filenames)),total=len(np.unique(arc_filenames))):\n",
    "    file_for_rect = Rectify(\"b\",\"NA\",arcfilename,flatfilename,bad_masks,total_masks,mask_groups)\n",
    "    file_for_rect.optimize_centers(\"arc\",sig_mult)    \n",
    "\n",
    "    file_for_rect = Rectify(\"r\",\"NA\",arcfilename,flatfilename,bad_masks,total_masks,mask_groups)\n",
    "    file_for_rect.optimize_centers(\"arc\",sig_mult)    "
   ]
  },
  {
   "cell_type": "code",
   "execution_count": 4,
   "id": "242193f8-2862-432f-b525-358c78b8c0d3",
   "metadata": {},
   "outputs": [
    {
     "name": "stderr",
     "output_type": "stream",
     "text": [
      "  0%|          | 0/9 [00:00<?, ?it/s]"
     ]
    },
    {
     "name": "stdout",
     "output_type": "stream",
     "text": [
      "1 0.8292429292222714\n",
      "1 0.8237829704496938\n",
      "1 0.8085815255109997\n",
      "1 0.8111318413025984\n",
      "1 0.809169897587399\n",
      "1 0.8005480740311685\n",
      "1 0.8081694577051909\n",
      "1 0.8001923530794502\n",
      "1 0.7963900927466441\n",
      "1 0.8051313432640839\n",
      "1 0.8026505475080364\n",
      "1 0.8062995961379041\n",
      "1 0.8088330532327633\n",
      "1 0.8036511482648635\n",
      "1 0.8040251542789065\n",
      "1 0.8006611191531033\n",
      "1 0.8105157682913864\n",
      "1 0.806049396539242\n",
      "1 0.8357874870121488\n",
      "1 0.8126718143715466\n",
      "1 0.8140548599782429\n",
      "1 0.8198876189136972\n",
      "1 0.8179102587256151\n",
      "1 0.8155110076308468\n",
      "1 0.8221862146379325\n",
      "0 0.6901203420143913\n",
      "0 0.693478553997165\n",
      "0 0.6807505013826591\n",
      "0 0.6614258186288765\n",
      "0 0.6562154660877466\n",
      "0 0.651056767037609\n",
      "0 0.6553687942214476\n",
      "0 0.6532017778487371\n",
      "BAD center\n",
      "0 0.6563862796684667\n",
      "0 0.6415414108856119\n",
      "0 0.6372968187542499\n",
      "0 0.6394600730040979\n",
      "0 0.6371340823410624\n",
      "0 0.6351890052938224\n",
      "0 0.633795406152944\n",
      "0 0.632641799730939\n",
      "0 0.6358670014169389\n",
      "0 0.6328026774862004\n",
      "0 0.6324716531417856\n",
      "0 0.634843564405109\n",
      "0 0.636848189743269\n",
      "0 0.6361322890566257\n",
      "0 0.6386934188685208\n",
      "0 0.6378057193705463\n"
     ]
    },
    {
     "name": "stderr",
     "output_type": "stream",
     "text": [
      " 11%|█         | 1/9 [00:03<00:29,  3.75s/it]"
     ]
    },
    {
     "name": "stdout",
     "output_type": "stream",
     "text": [
      "1 0.8450318443808413\n",
      "1 0.8304221865996322\n",
      "1 0.8005767461612506\n",
      "1 0.8100138522086493\n",
      "1 0.8085236170995187\n",
      "1 0.8044765788860617\n",
      "1 0.8042294127021739\n",
      "1 0.804482469499398\n",
      "1 0.8043179569379961\n",
      "1 0.8041857882939911\n",
      "1 0.8120278924943806\n",
      "1 0.8018512430235863\n",
      "1 0.8074035649037518\n",
      "1 0.8004604756150635\n",
      "1 0.8029122875809686\n",
      "1 0.8005546641122934\n",
      "1 0.8084435022278659\n",
      "1 0.801944663819445\n",
      "1 0.8179120100018719\n",
      "1 0.8103446744030645\n",
      "1 0.8123504383139165\n",
      "1 0.8099112864046181\n",
      "1 0.815900912111683\n",
      "1 0.8322623694860868\n",
      "1 0.814932648677362\n",
      "0 0.7127721709824693\n",
      "0 0.6641728259959514\n",
      "0 0.6823484280863424\n",
      "0 0.684117499976304\n",
      "0 0.6711154094766159\n",
      "0 0.6534224931386164\n",
      "0 0.6579503182147866\n",
      "0 0.6578637226270858\n",
      "0 0.6501769119670796\n",
      "BAD center\n",
      "0 0.6423450564575851\n",
      "0 0.6371064780839439\n",
      "0 0.6392764895850924\n",
      "0 0.6350999970725191\n",
      "0 0.6352330687689097\n",
      "0 0.634774621575827\n",
      "0 0.6336448255594134\n",
      "0 0.6361832789863737\n",
      "0 0.6316877965891189\n",
      "0 0.6351862620586415\n",
      "0 0.6269025771771282\n",
      "0 0.6322129529214928\n",
      "0 0.6298719990209963\n",
      "0 0.6341314864485408\n",
      "0 0.6392422417686539\n"
     ]
    },
    {
     "name": "stderr",
     "output_type": "stream",
     "text": [
      " 22%|██▏       | 2/9 [00:07<00:25,  3.61s/it]"
     ]
    },
    {
     "name": "stdout",
     "output_type": "stream",
     "text": [
      "11 1.0076272532540427\n",
      "1 0.832132009141423\n",
      "1 0.8232247620572731\n",
      "1 0.8236217137308489\n",
      "1 0.808482258995837\n",
      "1 0.8059901115260186\n",
      "1 0.8175322728989991\n",
      "1 0.7971508751901567\n",
      "1 0.797684312731581\n",
      "1 0.8053716156411991\n",
      "1 0.8102768833302222\n",
      "1 0.8017061852444902\n",
      "1 0.8069647391934884\n",
      "1 0.7966613757389082\n",
      "1 0.8038864763823665\n",
      "1 0.7994061311433087\n",
      "1 0.8049547909652388\n",
      "1 0.8062623875420903\n",
      "1 0.8118583854619351\n",
      "1 0.8117594417514931\n",
      "1 0.8106298329506878\n",
      "1 0.8161844798369188\n",
      "1 0.8130530168905017\n",
      "1 0.8135533572886223\n",
      "1 0.8329188919521467\n",
      "0 0.6931117115874716\n",
      "0 0.6975242618859907\n",
      "0 0.6794173987649745\n",
      "0 0.6632315701766384\n",
      "0 0.6538761132243225\n",
      "0 0.651558407619538\n",
      "0 0.6568644278377243\n",
      "0 0.6522862538938061\n",
      "0 0.6384532519523153\n",
      "0 0.6441309838873375\n",
      "0 0.6385500450932263\n",
      "0 0.63377436391702\n",
      "0 0.6417831012288129\n",
      "0 0.6389287078876117\n",
      "0 0.6365845012912789\n",
      "0 0.6379717730314634\n",
      "0 0.6368238898420593\n",
      "0 0.6267992197029939\n",
      "0 0.6276300173342314\n",
      "0 0.631564050259711\n",
      "0 0.6261769667260815\n",
      "0 0.6289086724720356\n",
      "0 0.6349158687659732\n"
     ]
    },
    {
     "name": "stderr",
     "output_type": "stream",
     "text": [
      " 33%|███▎      | 3/9 [00:10<00:21,  3.52s/it]"
     ]
    },
    {
     "name": "stdout",
     "output_type": "stream",
     "text": [
      "0 0.6384567224865682\n",
      "0 0.6355379414735508\n",
      "11 0.9828314534637251\n",
      "1 0.83074157686153\n",
      "1 0.8237023692742013\n",
      "1 0.8047957133237343\n",
      "1 0.8101665218845719\n",
      "1 0.8096680149250278\n",
      "1 0.8029602268165658\n",
      "1 0.807080497354159\n",
      "1 0.8117441077816634\n",
      "1 0.8066798213643264\n",
      "1 0.804356706181585\n",
      "1 0.8055171269565963\n",
      "1 0.801611190042835\n",
      "1 0.8056320421314531\n",
      "1 0.8044682649063482\n",
      "1 0.8030460180917075\n",
      "1 0.8059735817623718\n",
      "1 0.8053283653350468\n",
      "1 0.8027530120653955\n",
      "1 0.8112898261854454\n",
      "1 0.8100153721410439\n",
      "1 0.8136886721449987\n",
      "1 0.8198164192075656\n",
      "1 0.8130823761456122\n",
      "1 0.8182043570981358\n",
      "0 0.7246459043224456\n",
      "0 0.6887851751728427\n",
      "0 0.6866692398549407\n",
      "0 0.6621044294957634\n",
      "0 0.6592691668804057\n",
      "0 0.6503139480879255\n",
      "0 0.6602074383868775\n",
      "0 0.6507159401620559\n",
      "0 0.6352640037082194\n",
      "0 0.6435586577801755\n",
      "0 0.6358614081269554\n",
      "0 0.6317689687377579\n",
      "0 0.6350483130741374\n",
      "0 0.6367672956990498\n",
      "0 0.6373753107994843\n",
      "0 0.6423197788173304\n",
      "0 0.6291367934836136\n",
      "0 0.63942222031635\n",
      "0 0.6215550537224716\n",
      "0 0.6251986793755896\n",
      "0 0.6328309728598361\n",
      "0 0.6261783799101162\n",
      "0 0.6282269567325465\n"
     ]
    },
    {
     "name": "stderr",
     "output_type": "stream",
     "text": [
      " 44%|████▍     | 4/9 [00:14<00:17,  3.45s/it]"
     ]
    },
    {
     "name": "stdout",
     "output_type": "stream",
     "text": [
      "0 0.6302393261296949\n",
      "0 0.628063296089668\n",
      "11 1.0300188496129161\n",
      "1 0.82343019173695\n",
      "1 0.8196805288873138\n",
      "1 0.8078023088350909\n",
      "1 0.8044978794674865\n",
      "1 0.8078227809970874\n",
      "1 0.8053113336155685\n",
      "1 0.8051373379979152\n",
      "1 0.7973658222810989\n",
      "1 0.8010538220883681\n",
      "1 0.8032334395331749\n",
      "1 0.8089045627264384\n",
      "1 0.8034378950321016\n",
      "1 0.7993504026061757\n",
      "1 0.7986870420265909\n",
      "1 0.8005409068975882\n",
      "1 0.8040696089820966\n",
      "1 0.811872791206896\n",
      "1 0.8184538844956483\n",
      "1 0.8167151460745735\n",
      "1 0.8168802573408107\n",
      "1 0.8118834453798739\n",
      "1 0.8230168627414955\n",
      "1 0.8175570576533095\n",
      "1 0.8238215357808799\n",
      "0 0.6769620841575757\n",
      "0 0.6816969708731614\n",
      "0 0.6813823206307321\n",
      "0 0.6528119376365527\n",
      "0 0.6520600742225163\n",
      "0 0.6498867543212395\n",
      "0 0.6483190069015946\n",
      "0 0.6473959852809107\n",
      "0 0.6298783378760555\n",
      "0 0.6435278460846005\n",
      "0 0.6333368106810118\n",
      "0 0.6290643064810746\n",
      "0 0.6318750848622277\n",
      "0 0.6277406925541053\n",
      "0 0.6295643433922676\n",
      "0 0.6314325126520353\n",
      "0 0.6295985551509262\n",
      "0 0.6275175494934642\n",
      "0 0.6254567257071736\n",
      "0 0.6211195749641638\n",
      "0 0.625336460962454\n",
      "0 0.628865109010108\n",
      "0 0.6249207281671152\n",
      "0 0.6280213543278474\n"
     ]
    },
    {
     "name": "stderr",
     "output_type": "stream",
     "text": [
      " 56%|█████▌    | 5/9 [00:17<00:13,  3.42s/it]"
     ]
    },
    {
     "name": "stdout",
     "output_type": "stream",
     "text": [
      "0 0.6278078182619272\n",
      "12 0.8705167869020969\n",
      "1 0.8301853663532173\n",
      "1 0.8227036847314523\n",
      "1 0.8008475251086989\n",
      "1 0.8079785934642698\n",
      "1 0.8082043719009276\n",
      "1 0.8046207885588669\n",
      "1 0.8088343510733152\n",
      "1 0.8058036326687439\n",
      "1 0.8054640139745555\n",
      "1 0.798880762104023\n",
      "1 0.8084740201503301\n",
      "1 0.8002753488826555\n",
      "1 0.8025987583188621\n",
      "1 0.7995749060770938\n",
      "1 0.799864833220521\n",
      "1 0.8076550718643473\n",
      "1 0.812606842957195\n",
      "1 0.8050196966321302\n",
      "1 0.8082184638542369\n",
      "1 0.8058126107115756\n",
      "1 0.8154958756351667\n",
      "1 0.8129518468704066\n",
      "1 0.816604342954509\n",
      "1 0.8128378169345034\n",
      "0 0.7283051915577129\n",
      "0 0.6737597776407985\n",
      "0 0.6850756749934107\n",
      "0 0.6716056723414133\n",
      "0 0.6539601981144559\n",
      "0 0.6530375020970817\n",
      "0 0.6467520192841271\n",
      "0 0.6475447122417582\n",
      "0 0.6433282843700432\n",
      "BAD center\n",
      "0 0.6352220054413178\n",
      "0 0.6363808586994945\n",
      "0 0.6317712401532205\n",
      "0 0.630309592526934\n",
      "0 0.6316268705237944\n",
      "0 0.6303264028598223\n",
      "0 0.6257593510587589\n",
      "0 0.6266624957754224\n",
      "0 0.6244304164615088\n",
      "0 0.6252017876425372\n",
      "0 0.6384262604304551\n",
      "0 0.6274789977291763\n",
      "0 0.6203277297045198\n",
      "0 0.6246013540884519\n",
      "0 0.6255343185635884\n"
     ]
    },
    {
     "name": "stderr",
     "output_type": "stream",
     "text": [
      " 67%|██████▋   | 6/9 [00:20<00:10,  3.38s/it]"
     ]
    },
    {
     "name": "stdout",
     "output_type": "stream",
     "text": [
      "12 0.8639981080731359\n",
      "1 0.8361711327132302\n",
      "1 0.8216860320662738\n",
      "1 0.8117485925206364\n",
      "1 0.8041695950416088\n",
      "1 0.8075795738116777\n",
      "1 0.8084583976398393\n",
      "1 0.8052663720433111\n",
      "1 0.8081344154169146\n",
      "1 0.8028745649395856\n",
      "1 0.8053076252206991\n",
      "1 0.809928534362736\n",
      "1 0.8045098816968979\n",
      "1 0.8031770653291296\n",
      "1 0.806611229771198\n",
      "1 0.8025622626428324\n",
      "1 0.8068298052646566\n",
      "1 0.80354214924455\n",
      "1 0.8098275926748355\n",
      "1 0.8044080454850248\n",
      "1 0.806285321870368\n",
      "1 0.8149420475429656\n",
      "1 0.8092233091391817\n",
      "1 0.817823348403434\n",
      "1 0.817474381104621\n",
      "0 0.6619118621859338\n",
      "0 0.683892465625462\n",
      "0 0.6899905250731033\n",
      "0 0.6560143264721945\n",
      "0 0.6450108656702328\n",
      "0 0.6420052173188971\n",
      "0 0.649496415318363\n",
      "0 0.639530941067521\n",
      "BAD center\n",
      "0 0.6401642804572489\n",
      "0 0.6287533588458099\n",
      "0 0.6315744574628025\n",
      "0 0.6266163095948798\n",
      "0 0.6262864955207349\n",
      "0 0.6284706655453185\n",
      "0 0.6308439036930097\n",
      "0 0.6254514342186952\n",
      "0 0.6263093518886912\n",
      "0 0.6232461547193857\n",
      "0 0.6250769344570786\n",
      "0 0.6268998695433299\n",
      "0 0.6206221710482546\n",
      "0 0.6255653836666747\n",
      "0 0.6207883443704155\n"
     ]
    },
    {
     "name": "stderr",
     "output_type": "stream",
     "text": [
      " 78%|███████▊  | 7/9 [00:23<00:06,  3.33s/it]"
     ]
    },
    {
     "name": "stdout",
     "output_type": "stream",
     "text": [
      "0 0.6267339505416388\n",
      "12 0.865752069090287\n",
      "1 0.8305631768331101\n",
      "1 0.8237864186870854\n",
      "1 0.8230146386340855\n",
      "1 0.8074911297327207\n",
      "1 0.8048204139582974\n",
      "1 0.805564725723498\n",
      "1 0.8117909574613495\n",
      "1 0.807570448389865\n",
      "1 0.8061678101120536\n",
      "1 0.8029543915654495\n",
      "1 0.797698647693637\n",
      "1 0.8041392673787827\n",
      "1 0.8126526788519481\n",
      "1 0.8079439271858367\n",
      "1 0.8045323620503729\n",
      "1 0.804294618041788\n",
      "1 0.8042640610519122\n",
      "1 0.8056659011125424\n",
      "1 0.804282444754116\n",
      "1 0.8078756733414661\n",
      "1 0.8100454010949952\n",
      "1 0.81563384689265\n",
      "1 0.8219126892635932\n",
      "1 0.8139954796114812\n",
      "0 0.6813120232568171\n",
      "0 0.6739068353394596\n",
      "0 0.6666632283596521\n",
      "0 0.6491608951885343\n",
      "0 0.6378106661675237\n",
      "0 0.6413723323648153\n",
      "0 0.6397621449882718\n",
      "0 0.636814990327653\n",
      "BAD center\n",
      "0 0.6351036674516903\n",
      "0 0.6253681535427361\n",
      "0 0.6228326803124904\n",
      "0 0.6239209858960904\n",
      "0 0.6264079422819007\n",
      "0 0.6228064892906523\n",
      "0 0.6271681391913977\n",
      "0 0.6269518458246052\n",
      "0 0.6190701825240348\n",
      "0 0.6234571103834858\n",
      "0 0.6187292841880263\n",
      "0 0.6222384659821995\n",
      "0 0.6228604833556369\n",
      "0 0.6236884471320469\n"
     ]
    },
    {
     "name": "stderr",
     "output_type": "stream",
     "text": [
      " 89%|████████▉ | 8/9 [00:27<00:03,  3.31s/it]"
     ]
    },
    {
     "name": "stdout",
     "output_type": "stream",
     "text": [
      "0 0.6196045465026753\n",
      "0 0.6190954231502495\n",
      "12 0.9703524805419705\n",
      "1 0.8340902000905044\n",
      "1 0.8289775167377622\n",
      "1 0.8234739354919275\n",
      "1 0.8053549088758171\n",
      "1 0.8098826985648753\n",
      "1 0.8052328989763946\n",
      "1 0.807067280706856\n",
      "1 0.8062469483911769\n",
      "1 0.802000304155493\n",
      "1 0.8026143096265329\n",
      "1 0.7977452498484265\n",
      "1 0.8042961263972763\n",
      "1 0.8044128116203488\n",
      "1 0.8010535485648286\n",
      "1 0.8081104455334231\n",
      "1 0.8012530648945114\n",
      "1 0.8008916033548821\n",
      "1 0.803018896433978\n",
      "1 0.8043982854515686\n",
      "1 0.811032079034561\n",
      "1 0.8062675146514768\n",
      "1 0.8090307417208474\n",
      "1 0.8131864553882981\n",
      "1 0.8148667219452449\n",
      "0 0.670222834921605\n",
      "0 0.6758419298540662\n",
      "0 0.6653833279984216\n",
      "0 0.6516302756900649\n",
      "0 0.6383970115105019\n",
      "0 0.6297059699890653\n",
      "0 0.6387805728255362\n",
      "0 0.6308377775174242\n",
      "0 0.7551410774342305\n",
      "0 0.6331868616664066\n",
      "0 0.6266154845803037\n",
      "0 0.6251535495329313\n",
      "0 0.6251824973547264\n",
      "0 0.6199969938439959\n",
      "0 0.6269050512504293\n",
      "0 0.6245623520394958\n",
      "0 0.6264536107021471\n",
      "0 0.6242887236997843\n",
      "0 0.6159950633910456\n",
      "0 0.6209035637743163\n",
      "0 0.6224700597294879\n",
      "0 0.6204464169132914\n",
      "0 0.6210099055935613\n",
      "0 0.6218464289960323\n"
     ]
    },
    {
     "name": "stderr",
     "output_type": "stream",
     "text": [
      "100%|██████████| 9/9 [00:30<00:00,  3.37s/it]\n"
     ]
    },
    {
     "name": "stdout",
     "output_type": "stream",
     "text": [
      "0 0.6301540878183381\n"
     ]
    },
    {
     "name": "stderr",
     "output_type": "stream",
     "text": [
      "  0%|          | 0/3 [00:00<?, ?it/s]"
     ]
    },
    {
     "name": "stdout",
     "output_type": "stream",
     "text": [
      "1 0.809177327101835\n",
      "1 0.8112265948645706\n",
      "1 0.805727033931931\n",
      "1 0.8021712885154846\n",
      "1 0.8025019527850158\n",
      "1 0.7997541487754413\n",
      "1 0.7979456729124773\n",
      "1 0.8011745570633848\n",
      "1 0.8009210986729619\n",
      "1 0.7914252252853233\n",
      "1 0.7959234583641656\n",
      "1 0.802302812447874\n",
      "1 0.8102809335123519\n",
      "1 0.8043015580593497\n",
      "1 0.8217479643140542\n",
      "0 0.6880089098980261\n",
      "0 0.6677354076013127\n",
      "0 0.6738701702811926\n",
      "0 0.6691707977779053\n",
      "0 0.6676801813540549\n",
      "0 0.6648380785344848\n",
      "0 0.6578449107204866\n",
      "0 0.6545979442015895\n",
      "0 0.6541179158397669\n",
      "0 0.6451607348342099\n",
      "0 0.639257158578246\n",
      "0 0.6319665029498198\n",
      "0 0.6260465473784792\n",
      "0 0.6299482565432073\n",
      "0 0.6407548723246582\n"
     ]
    },
    {
     "name": "stderr",
     "output_type": "stream",
     "text": [
      " 33%|███▎      | 1/3 [00:02<00:04,  2.08s/it]"
     ]
    },
    {
     "name": "stdout",
     "output_type": "stream",
     "text": [
      "1 0.8124048064554549\n",
      "1 0.8086383990190381\n",
      "1 0.8027974007703566\n",
      "1 0.8076195388755718\n",
      "1 0.8002046351590139\n",
      "1 0.803683817178659\n",
      "1 0.7989612644175316\n",
      "1 0.7969670244467804\n",
      "1 0.7966217856062157\n",
      "1 0.7940407098100551\n",
      "1 0.7947736872709534\n",
      "1 0.8025572590355669\n",
      "1 0.8096652377055342\n",
      "1 0.8056698908594966\n",
      "1 0.8207899160001367\n",
      "0 0.6751122825456213\n",
      "0 0.6545345440649013\n",
      "0 0.6609020791521403\n",
      "0 0.6612522686356511\n",
      "0 0.653560003227732\n",
      "0 0.6526004754967906\n",
      "0 0.6446181464193236\n",
      "0 0.6435693020772127\n",
      "0 0.64261250294335\n",
      "0 0.6331779549578925\n",
      "0 0.6345921198718919\n",
      "0 0.6246128332725105\n",
      "0 0.6175174302372193\n"
     ]
    },
    {
     "name": "stderr",
     "output_type": "stream",
     "text": [
      " 67%|██████▋   | 2/3 [00:03<00:01,  1.97s/it]"
     ]
    },
    {
     "name": "stdout",
     "output_type": "stream",
     "text": [
      "0 0.6213747978282099\n",
      "0 0.6306346887914733\n",
      "1 0.8123719901478994\n",
      "1 0.8060440947086833\n",
      "1 0.8084400385861659\n",
      "1 0.8104896631172439\n",
      "1 0.8042482761670487\n",
      "1 0.8060160422910166\n",
      "1 0.8021313547196945\n",
      "1 0.7995793887370728\n",
      "1 0.7963913105330589\n",
      "1 0.7937823509294005\n",
      "1 0.7981637476561751\n",
      "1 0.8055645775079128\n",
      "1 0.8103056207601612\n",
      "1 0.8072209017648726\n",
      "1 0.8140690037774818\n",
      "0 0.6666755638175726\n",
      "0 0.6515009841013079\n",
      "0 0.653412199924727\n",
      "0 0.6532254913824151\n",
      "0 0.6446913645661713\n",
      "0 0.6450256218793194\n",
      "0 0.6375726663409018\n",
      "0 0.6361755732528421\n",
      "0 0.6354590751270387\n",
      "0 0.6294100253470671\n",
      "0 0.6268969613433918\n",
      "0 0.6208863576204415\n",
      "0 0.6129162466925573\n",
      "0 0.6204357408885703\n",
      "0 0.6297252781374105\n"
     ]
    },
    {
     "name": "stderr",
     "output_type": "stream",
     "text": [
      "100%|██████████| 3/3 [00:05<00:00,  1.98s/it]\n"
     ]
    }
   ],
   "source": [
    "for datafilename, arcfilename, flatfilename in tqdm(zip(data_filenames, arc_filenames, flat_filenames),total=len(data_filenames)):\n",
    "    file_for_rect = Rectify(\"b\",datafilename,arcfilename,flatfilename,bad_masks,total_masks,mask_groups)\n",
    "    file_for_rect.rectify(\"data\")\n",
    "\n",
    "    file_for_rect = Rectify(\"r\",datafilename,arcfilename,flatfilename,bad_masks,total_masks,mask_groups)\n",
    "    file_for_rect.rectify(\"data\")\n",
    "\n",
    "for arcfilename, flatfilename in tqdm(zip(np.unique(arc_filenames), np.unique(flat_filenames)),total=len(np.unique(arc_filenames))):\n",
    "    file_for_rect = Rectify(\"b\",\"NA\",arcfilename,flatfilename,bad_masks,total_masks,mask_groups)\n",
    "    file_for_rect.rectify(\"arc\")\n",
    "\n",
    "    file_for_rect = Rectify(\"r\",\"NA\",arcfilename,flatfilename,bad_masks,total_masks,mask_groups)\n",
    "    file_for_rect.rectify(\"arc\")"
   ]
  },
  {
   "cell_type": "code",
   "execution_count": 5,
   "id": "ad138d44",
   "metadata": {},
   "outputs": [
    {
     "name": "stderr",
     "output_type": "stream",
     "text": [
      "100%|██████████| 9/9 [02:36<00:00, 17.34s/it]\n"
     ]
    }
   ],
   "source": [
    "# calibrate (rectified xs to wls)\n",
    "for datafilename, arcfilename, flatfilename in tqdm(zip(data_filenames, arc_filenames, flat_filenames),total=len(data_filenames)):\n",
    "    file_for_calib = Rectify(\"b\",datafilename,arcfilename,flatfilename,bad_masks,total_masks,mask_groups)\n",
    "    file_for_calib.calib()\n",
    "\n",
    "    file_for_calib = Rectify(\"r\",datafilename,arcfilename,flatfilename,bad_masks,total_masks,mask_groups)\n",
    "    file_for_calib.calib()"
   ]
  },
  {
   "cell_type": "code",
   "execution_count": 6,
   "id": "d2b23388",
   "metadata": {},
   "outputs": [
    {
     "name": "stderr",
     "output_type": "stream",
     "text": [
      "100%|██████████| 9/9 [03:22<00:00, 22.53s/it]\n"
     ]
    }
   ],
   "source": [
    "# viz\n",
    "for datafilename, arcfilename, flatfilename in tqdm(zip(data_filenames, arc_filenames, flat_filenames),total=len(data_filenames)):\n",
    "    file_for_calib = Rectify(\"b\",datafilename,arcfilename,flatfilename,bad_masks,total_masks,mask_groups)\n",
    "    file_for_calib._viz()\n",
    "\n",
    "    file_for_calib = Rectify(\"r\",datafilename,arcfilename,flatfilename,bad_masks,total_masks,mask_groups)\n",
    "    file_for_calib._viz()"
   ]
  },
  {
   "cell_type": "markdown",
   "id": "cf8e450c",
   "metadata": {},
   "source": [
    "<h1><strong><span style=\"color:purple\">CALIBRATE</h1>\n",
    "\n",
    "<span style=\"color:orange\"><strong>calibrate"
   ]
  },
  {
   "cell_type": "code",
   "execution_count": 4,
   "id": "79210543",
   "metadata": {},
   "outputs": [
    {
     "name": "stderr",
     "output_type": "stream",
     "text": [
      "  0%|          | 0/9 [00:00<?, ?it/s]"
     ]
    },
    {
     "name": "stderr",
     "output_type": "stream",
     "text": [
      "100%|██████████| 9/9 [3:17:53<00:00, 1319.24s/it]  \n"
     ]
    }
   ],
   "source": [
    "sig_mult = 1.5\n",
    "bins = np.arange(7500,10000,1)\n",
    "\n",
    "for datafilename, arcfilename, flatfilename in tqdm(zip(data_filenames, arc_filenames, flat_filenames),total=len(data_filenames)):\n",
    "    file_for_calib = Calibrate(datafilename,arcfilename,flatfilename,bad_masks,total_masks,mask_groups)\n",
    "    file_for_calib.get_spectra(sig_mult,bins,color=\"b\")\n",
    "    file_for_calib.get_spectra(sig_mult,bins,color=\"r\")"
   ]
  },
  {
   "cell_type": "code",
   "execution_count": 5,
   "id": "bb3db84e",
   "metadata": {},
   "outputs": [
    {
     "name": "stderr",
     "output_type": "stream",
     "text": [
      "100%|██████████| 9/9 [03:28<00:00, 23.19s/it]\n"
     ]
    }
   ],
   "source": [
    "# intenisty calibrate all spectra, combine blue and red amplifiers\n",
    "\n",
    "for datafilename, arcfilename, flatfilename in tqdm(zip(data_filenames, arc_filenames, flat_filenames),total=len(data_filenames)):\n",
    "    file_for_calib = Calibrate(datafilename,arcfilename,flatfilename,bad_masks,total_masks,mask_groups)\n",
    "    file_for_calib.intensity_corr()"
   ]
  },
  {
   "cell_type": "code",
   "execution_count": 5,
   "id": "f20a67eb",
   "metadata": {},
   "outputs": [
    {
     "name": "stderr",
     "output_type": "stream",
     "text": [
      " 11%|█         | 1/9 [00:27<03:41, 27.69s/it]\n"
     ]
    },
    {
     "ename": "KeyboardInterrupt",
     "evalue": "",
     "output_type": "error",
     "traceback": [
      "\u001b[31m---------------------------------------------------------------------------\u001b[39m",
      "\u001b[31mKeyboardInterrupt\u001b[39m                         Traceback (most recent call last)",
      "\u001b[36mCell\u001b[39m\u001b[36m \u001b[39m\u001b[32mIn[5]\u001b[39m\u001b[32m, line 5\u001b[39m\n\u001b[32m      3\u001b[39m \u001b[38;5;28;01mfor\u001b[39;00m datafilename, arcfilename, flatfilename \u001b[38;5;129;01min\u001b[39;00m tqdm(\u001b[38;5;28mzip\u001b[39m(data_filenames, arc_filenames, flat_filenames),total=\u001b[38;5;28mlen\u001b[39m(data_filenames)):\n\u001b[32m      4\u001b[39m     file_for_calib = Calibrate(datafilename,arcfilename,flatfilename,bad_masks,total_masks,mask_groups)\n\u001b[32m----> \u001b[39m\u001b[32m5\u001b[39m     \u001b[43mfile_for_calib\u001b[49m\u001b[43m.\u001b[49m\u001b[43m_viz\u001b[49m\u001b[43m(\u001b[49m\u001b[43m)\u001b[49m\n",
      "\u001b[36mFile \u001b[39m\u001b[32mc:\\Users\\daniel\\OneDrive - The University of Chicago\\Documents\\cool lamps\\IFUM_pipeline\\ifum_calibrate.py:223\u001b[39m, in \u001b[36mCalibrate._viz\u001b[39m\u001b[34m(self)\u001b[39m\n\u001b[32m    221\u001b[39m sky_mean = np.nanmedian(npzdata[\u001b[33m\"\u001b[39m\u001b[33mintensity\u001b[39m\u001b[33m\"\u001b[39m],axis=\u001b[32m0\u001b[39m)\n\u001b[32m    222\u001b[39m \u001b[38;5;28;01mfor\u001b[39;00m m \u001b[38;5;129;01min\u001b[39;00m np.arange(\u001b[38;5;28mself\u001b[39m.total_masks):\n\u001b[32m--> \u001b[39m\u001b[32m223\u001b[39m     plt.plot(npzdata[\u001b[33m\"\u001b[39m\u001b[33mwl\u001b[39m\u001b[33m\"\u001b[39m],\u001b[43mnpzdata\u001b[49m\u001b[43m[\u001b[49m\u001b[33;43m\"\u001b[39;49m\u001b[33;43mintensity\u001b[39;49m\u001b[33;43m\"\u001b[39;49m\u001b[43m]\u001b[49m[m]-sky_mean,color=\u001b[33m\"\u001b[39m\u001b[33mgray\u001b[39m\u001b[33m\"\u001b[39m,alpha=\u001b[32m0.5\u001b[39m)\n\u001b[32m    224\u001b[39m plt.show()\n",
      "\u001b[36mFile \u001b[39m\u001b[32mc:\\Users\\daniel\\anaconda3\\envs\\IFUM\\Lib\\site-packages\\numpy\\lib\\_npyio_impl.py:254\u001b[39m, in \u001b[36mNpzFile.__getitem__\u001b[39m\u001b[34m(self, key)\u001b[39m\n\u001b[32m    252\u001b[39m \u001b[38;5;28;01mif\u001b[39;00m magic == \u001b[38;5;28mformat\u001b[39m.MAGIC_PREFIX:\n\u001b[32m    253\u001b[39m     \u001b[38;5;28mbytes\u001b[39m = \u001b[38;5;28mself\u001b[39m.zip.open(key)\n\u001b[32m--> \u001b[39m\u001b[32m254\u001b[39m     \u001b[38;5;28;01mreturn\u001b[39;00m \u001b[38;5;28;43mformat\u001b[39;49m\u001b[43m.\u001b[49m\u001b[43mread_array\u001b[49m\u001b[43m(\u001b[49m\u001b[38;5;28;43mbytes\u001b[39;49m\u001b[43m,\u001b[49m\n\u001b[32m    255\u001b[39m \u001b[43m                             \u001b[49m\u001b[43mallow_pickle\u001b[49m\u001b[43m=\u001b[49m\u001b[38;5;28;43mself\u001b[39;49m\u001b[43m.\u001b[49m\u001b[43mallow_pickle\u001b[49m\u001b[43m,\u001b[49m\n\u001b[32m    256\u001b[39m \u001b[43m                             \u001b[49m\u001b[43mpickle_kwargs\u001b[49m\u001b[43m=\u001b[49m\u001b[38;5;28;43mself\u001b[39;49m\u001b[43m.\u001b[49m\u001b[43mpickle_kwargs\u001b[49m\u001b[43m,\u001b[49m\n\u001b[32m    257\u001b[39m \u001b[43m                             \u001b[49m\u001b[43mmax_header_size\u001b[49m\u001b[43m=\u001b[49m\u001b[38;5;28;43mself\u001b[39;49m\u001b[43m.\u001b[49m\u001b[43mmax_header_size\u001b[49m\u001b[43m)\u001b[49m\n\u001b[32m    258\u001b[39m \u001b[38;5;28;01melse\u001b[39;00m:\n\u001b[32m    259\u001b[39m     \u001b[38;5;28;01mreturn\u001b[39;00m \u001b[38;5;28mself\u001b[39m.zip.read(key)\n",
      "\u001b[36mFile \u001b[39m\u001b[32mc:\\Users\\daniel\\anaconda3\\envs\\IFUM\\Lib\\site-packages\\numpy\\lib\\format.py:851\u001b[39m, in \u001b[36mread_array\u001b[39m\u001b[34m(fp, allow_pickle, pickle_kwargs, max_header_size)\u001b[39m\n\u001b[32m    849\u001b[39m             read_count = \u001b[38;5;28mmin\u001b[39m(max_read_count, count - i)\n\u001b[32m    850\u001b[39m             read_size = \u001b[38;5;28mint\u001b[39m(read_count * dtype.itemsize)\n\u001b[32m--> \u001b[39m\u001b[32m851\u001b[39m             data = \u001b[43m_read_bytes\u001b[49m\u001b[43m(\u001b[49m\u001b[43mfp\u001b[49m\u001b[43m,\u001b[49m\u001b[43m \u001b[49m\u001b[43mread_size\u001b[49m\u001b[43m,\u001b[49m\u001b[43m \u001b[49m\u001b[33;43m\"\u001b[39;49m\u001b[33;43marray data\u001b[39;49m\u001b[33;43m\"\u001b[39;49m\u001b[43m)\u001b[49m\n\u001b[32m    852\u001b[39m             array[i:i+read_count] = numpy.frombuffer(data, dtype=dtype,\n\u001b[32m    853\u001b[39m                                                      count=read_count)\n\u001b[32m    855\u001b[39m \u001b[38;5;28;01mif\u001b[39;00m fortran_order:\n",
      "\u001b[36mFile \u001b[39m\u001b[32mc:\\Users\\daniel\\anaconda3\\envs\\IFUM\\Lib\\site-packages\\numpy\\lib\\format.py:986\u001b[39m, in \u001b[36m_read_bytes\u001b[39m\u001b[34m(fp, size, error_template)\u001b[39m\n\u001b[32m    981\u001b[39m \u001b[38;5;28;01mwhile\u001b[39;00m \u001b[38;5;28;01mTrue\u001b[39;00m:\n\u001b[32m    982\u001b[39m     \u001b[38;5;66;03m# io files (default in python3) return None or raise on\u001b[39;00m\n\u001b[32m    983\u001b[39m     \u001b[38;5;66;03m# would-block, python2 file will truncate, probably nothing can be\u001b[39;00m\n\u001b[32m    984\u001b[39m     \u001b[38;5;66;03m# done about that.  note that regular files can't be non-blocking\u001b[39;00m\n\u001b[32m    985\u001b[39m     \u001b[38;5;28;01mtry\u001b[39;00m:\n\u001b[32m--> \u001b[39m\u001b[32m986\u001b[39m         r = \u001b[43mfp\u001b[49m\u001b[43m.\u001b[49m\u001b[43mread\u001b[49m\u001b[43m(\u001b[49m\u001b[43msize\u001b[49m\u001b[43m \u001b[49m\u001b[43m-\u001b[49m\u001b[43m \u001b[49m\u001b[38;5;28;43mlen\u001b[39;49m\u001b[43m(\u001b[49m\u001b[43mdata\u001b[49m\u001b[43m)\u001b[49m\u001b[43m)\u001b[49m\n\u001b[32m    987\u001b[39m         data += r\n\u001b[32m    988\u001b[39m         \u001b[38;5;28;01mif\u001b[39;00m \u001b[38;5;28mlen\u001b[39m(r) == \u001b[32m0\u001b[39m \u001b[38;5;129;01mor\u001b[39;00m \u001b[38;5;28mlen\u001b[39m(data) == size:\n",
      "\u001b[36mFile \u001b[39m\u001b[32mc:\\Users\\daniel\\anaconda3\\envs\\IFUM\\Lib\\zipfile\\__init__.py:1015\u001b[39m, in \u001b[36mZipExtFile.read\u001b[39m\u001b[34m(self, n)\u001b[39m\n\u001b[32m   1013\u001b[39m \u001b[38;5;28mself\u001b[39m._offset = \u001b[32m0\u001b[39m\n\u001b[32m   1014\u001b[39m \u001b[38;5;28;01mwhile\u001b[39;00m n > \u001b[32m0\u001b[39m \u001b[38;5;129;01mand\u001b[39;00m \u001b[38;5;129;01mnot\u001b[39;00m \u001b[38;5;28mself\u001b[39m._eof:\n\u001b[32m-> \u001b[39m\u001b[32m1015\u001b[39m     data = \u001b[38;5;28;43mself\u001b[39;49m\u001b[43m.\u001b[49m\u001b[43m_read1\u001b[49m\u001b[43m(\u001b[49m\u001b[43mn\u001b[49m\u001b[43m)\u001b[49m\n\u001b[32m   1016\u001b[39m     \u001b[38;5;28;01mif\u001b[39;00m n < \u001b[38;5;28mlen\u001b[39m(data):\n\u001b[32m   1017\u001b[39m         \u001b[38;5;28mself\u001b[39m._readbuffer = data\n",
      "\u001b[36mFile \u001b[39m\u001b[32mc:\\Users\\daniel\\anaconda3\\envs\\IFUM\\Lib\\zipfile\\__init__.py:1105\u001b[39m, in \u001b[36mZipExtFile._read1\u001b[39m\u001b[34m(self, n)\u001b[39m\n\u001b[32m   1103\u001b[39m \u001b[38;5;28;01mif\u001b[39;00m \u001b[38;5;28mself\u001b[39m._left <= \u001b[32m0\u001b[39m:\n\u001b[32m   1104\u001b[39m     \u001b[38;5;28mself\u001b[39m._eof = \u001b[38;5;28;01mTrue\u001b[39;00m\n\u001b[32m-> \u001b[39m\u001b[32m1105\u001b[39m \u001b[38;5;28;43mself\u001b[39;49m\u001b[43m.\u001b[49m\u001b[43m_update_crc\u001b[49m\u001b[43m(\u001b[49m\u001b[43mdata\u001b[49m\u001b[43m)\u001b[49m\n\u001b[32m   1106\u001b[39m \u001b[38;5;28;01mreturn\u001b[39;00m data\n",
      "\u001b[36mFile \u001b[39m\u001b[32mc:\\Users\\daniel\\anaconda3\\envs\\IFUM\\Lib\\zipfile\\__init__.py:1030\u001b[39m, in \u001b[36mZipExtFile._update_crc\u001b[39m\u001b[34m(self, newdata)\u001b[39m\n\u001b[32m   1027\u001b[39m \u001b[38;5;28;01mif\u001b[39;00m \u001b[38;5;28mself\u001b[39m._expected_crc \u001b[38;5;129;01mis\u001b[39;00m \u001b[38;5;28;01mNone\u001b[39;00m:\n\u001b[32m   1028\u001b[39m     \u001b[38;5;66;03m# No need to compute the CRC if we don't have a reference value\u001b[39;00m\n\u001b[32m   1029\u001b[39m     \u001b[38;5;28;01mreturn\u001b[39;00m\n\u001b[32m-> \u001b[39m\u001b[32m1030\u001b[39m \u001b[38;5;28mself\u001b[39m._running_crc = \u001b[43mcrc32\u001b[49m\u001b[43m(\u001b[49m\u001b[43mnewdata\u001b[49m\u001b[43m,\u001b[49m\u001b[43m \u001b[49m\u001b[38;5;28;43mself\u001b[39;49m\u001b[43m.\u001b[49m\u001b[43m_running_crc\u001b[49m\u001b[43m)\u001b[49m\n\u001b[32m   1031\u001b[39m \u001b[38;5;66;03m# Check the CRC if we're at the end of the file\u001b[39;00m\n\u001b[32m   1032\u001b[39m \u001b[38;5;28;01mif\u001b[39;00m \u001b[38;5;28mself\u001b[39m._eof \u001b[38;5;129;01mand\u001b[39;00m \u001b[38;5;28mself\u001b[39m._running_crc != \u001b[38;5;28mself\u001b[39m._expected_crc:\n",
      "\u001b[31mKeyboardInterrupt\u001b[39m: "
     ]
    }
   ],
   "source": [
    "# ONLY VIZ\n",
    "\n",
    "for datafilename, arcfilename, flatfilename in tqdm(zip(data_filenames, arc_filenames, flat_filenames),total=len(data_filenames)):\n",
    "    file_for_calib = Calibrate(datafilename,arcfilename,flatfilename,bad_masks,total_masks,mask_groups)\n",
    "    file_for_calib._viz()"
   ]
  },
  {
   "cell_type": "markdown",
   "id": "d909ef5c",
   "metadata": {},
   "source": [
    "<h1><strong><span style=\"color:purple\">STACK</h1>\n",
    "\n",
    "<span style=\"color:orange\"><strong>stack dithers"
   ]
  },
  {
   "cell_type": "code",
   "execution_count": 6,
   "id": "e1d41067",
   "metadata": {},
   "outputs": [
    {
     "name": "stdout",
     "output_type": "stream",
     "text": [
      "hexagon grid: 99.000,88.777\n",
      "pixel grid: 99,89\n",
      "8811 pixels\n"
     ]
    },
    {
     "name": "stderr",
     "output_type": "stream",
     "text": [
      "overlap percentages: 100%|\u001b[38;2;255;165;0m██████████\u001b[0m| 8811/8811 [00:21<00:00, 401.10it/s]\n"
     ]
    },
    {
     "name": "stdout",
     "output_type": "stream",
     "text": [
      "8691 (98.638%) of pixels overlap with hexagon grid\n",
      "8183 (92.873%) of pixels overlap fully with hexagon grid\n"
     ]
    },
    {
     "name": "stderr",
     "output_type": "stream",
     "text": [
      "graphing pixels: 100%|\u001b[38;2;218;112;214m██████████\u001b[0m| 8811/8811 [00:09<00:00, 917.94it/s] \n"
     ]
    },
    {
     "name": "stdout",
     "output_type": "stream",
     "text": [
      "plotting...\n"
     ]
    },
    {
     "name": "stderr",
     "output_type": "stream",
     "text": [
      "graphing pixels: 100%|\u001b[38;2;218;112;214m██████████\u001b[0m| 8811/8811 [00:10<00:00, 803.31it/s] \n"
     ]
    },
    {
     "name": "stdout",
     "output_type": "stream",
     "text": [
      "plotting...\n"
     ]
    },
    {
     "name": "stderr",
     "output_type": "stream",
     "text": [
      "100%|██████████| 99/99 [01:28<00:00,  1.12it/s]\n",
      "100%|██████████| 99/99 [01:43<00:00,  1.05s/it]\n",
      "100%|██████████| 99/99 [01:30<00:00,  1.09it/s]\n",
      "100%|██████████| 99/99 [01:38<00:00,  1.00it/s]\n",
      "100%|██████████| 99/99 [01:44<00:00,  1.05s/it]\n",
      "100%|██████████| 99/99 [01:44<00:00,  1.05s/it]\n",
      "100%|██████████| 99/99 [01:29<00:00,  1.11it/s]\n",
      "100%|██████████| 99/99 [01:27<00:00,  1.13it/s]\n",
      "100%|██████████| 99/99 [01:32<00:00,  1.07it/s]\n"
     ]
    }
   ],
   "source": [
    "# individually create datacubes to be used in dither stack\n",
    "\n",
    "files_for_stack = Stack(data_filenames,bad_masks,total_masks,mask_groups,wcs_stars)\n",
    "files_for_stack.hex_to_grid()\n",
    "files_for_stack.spectra_to_datacube()"
   ]
  },
  {
   "cell_type": "code",
   "execution_count": 7,
   "id": "c62b6175",
   "metadata": {},
   "outputs": [
    {
     "name": "stdout",
     "output_type": "stream",
     "text": [
      "calculting 2D cross-correlation shift guesses...\n",
      "select 5 WCS stars in order; see popup window\n",
      "optimizing WCS star coordinates...\n",
      "performing WCS transforms...\n",
      "\t1156 used 5 reference stars\n",
      "\t1157 used 5 reference stars\n",
      "\t1158 used 5 reference stars\n",
      "\t1162 used 5 reference stars\n",
      "\t1163 used 4 reference stars\n",
      "\t1164 used 4 reference stars\n",
      "\t1168 used 5 reference stars\n",
      "\t1169 used 5 reference stars\n",
      "\t1170 used 5 reference stars\n",
      "WCS transformations complete\n"
     ]
    }
   ],
   "source": [
    "# transform data to WCS using cross-correlation\n",
    "files_for_stack = Stack(data_filenames,bad_masks,total_masks,mask_groups,wcs_stars)\n",
    "files_for_stack.wcs_datacubes()"
   ]
  },
  {
   "cell_type": "code",
   "execution_count": 8,
   "id": "cf8bb6c6",
   "metadata": {},
   "outputs": [],
   "source": [
    "# calibrate intensity for all datacubes\n",
    "files_for_stack = Stack(data_filenames,bad_masks,total_masks,mask_groups,wcs_stars)\n",
    "files_for_stack.full_intensity_callibration()"
   ]
  },
  {
   "cell_type": "code",
   "execution_count": null,
   "id": "faf096b2",
   "metadata": {},
   "outputs": [
    {
     "name": "stderr",
     "output_type": "stream",
     "text": [
      "overlap percentages: 100%|\u001b[38;2;255;165;0m██████████\u001b[0m| 8712/8712 [03:16<00:00, 44.28it/s]\n",
      "100%|██████████| 99/99 [55:36<00:00, 33.70s/it]\n"
     ]
    },
    {
     "name": "stdout",
     "output_type": "stream",
     "text": [
      "final data cubes saved!\n"
     ]
    }
   ],
   "source": [
    "# stack datacubes\n",
    "files_for_stack = Stack(data_filenames,bad_masks,total_masks,mask_groups,wcs_stars)\n",
    "files_for_stack.stack_datacubes()"
   ]
  },
  {
   "cell_type": "code",
   "execution_count": null,
   "id": "b59d0768",
   "metadata": {},
   "outputs": [],
   "source": []
  },
  {
   "cell_type": "code",
   "execution_count": null,
   "id": "0b06a696",
   "metadata": {},
   "outputs": [],
   "source": []
  },
  {
   "cell_type": "code",
   "execution_count": null,
   "id": "cc4bc7ac",
   "metadata": {},
   "outputs": [],
   "source": []
  },
  {
   "cell_type": "code",
   "execution_count": null,
   "id": "175c2632",
   "metadata": {},
   "outputs": [],
   "source": []
  }
 ],
 "metadata": {
  "kernelspec": {
   "display_name": "IFUM",
   "language": "python",
   "name": "python3"
  },
  "language_info": {
   "codemirror_mode": {
    "name": "ipython",
    "version": 3
   },
   "file_extension": ".py",
   "mimetype": "text/x-python",
   "name": "python",
   "nbconvert_exporter": "python",
   "pygments_lexer": "ipython3",
   "version": "3.13.2"
  }
 },
 "nbformat": 4,
 "nbformat_minor": 5
}
