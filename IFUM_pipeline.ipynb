{
 "cells": [
  {
   "cell_type": "code",
   "execution_count": 1,
   "id": "2b64c1fc-8229-4002-ba6b-1547ad980376",
   "metadata": {},
   "outputs": [],
   "source": [
    "# import libraries\n",
    "import os\n",
    "import numpy as np\n",
    "from tqdm import tqdm\n",
    "\n",
    "from ifum_stitch import Stitch\n",
    "from ifum_maskopt import Mask\n",
    "from ifum_rectify import Rectify\n",
    "from ifum_calibrate import Calibrate\n",
    "from ifum_stack import Stack\n",
    "\n",
    "# suppress warnings\n",
    "import warnings\n",
    "warnings.filterwarnings('ignore')"
   ]
  },
  {
   "cell_type": "code",
   "execution_count": 2,
   "id": "e19ce70a-5c4a-4840-9d39-3f459cc1ec3e",
   "metadata": {},
   "outputs": [],
   "source": [
    "# directory containing unprocessed files\n",
    "\n",
    "directory = \"C:\\\\Users\\\\daniel\\\\OneDrive - The University of Chicago\\\\Documents\\\\cool lamps\\\\summer_24\\\\IFUM data\\\\ut20240212\\\\\"\n",
    "# directory = \"C:\\\\Users\\\\daniel\\\\OneDrive - The University of Chicago\\\\Documents\\\\cool lamps\\\\summer_24\\\\IFUM data\\\\ut20240210\\\\\"\n",
    "\n",
    "\n",
    "# all files included in a single stack, repeat where necessary\n",
    "# only include string in file that includes all files from single exposure\n",
    "\n",
    "# data_filenames = [\"1156\",\"1157\",\"1158\",\"1162\",\"1163\",\"1164\",\"1168\",\"1169\",\"1170\"]\n",
    "# arc_filenames = [\"1161\",\"1161\",\"1161\",\"1167\",\"1167\",\"1167\",\"1172\",\"1172\",\"1172\"]\n",
    "# flat_filenames = [\"1160\",\"1160\",\"1160\",\"1166\",\"1166\",\"1166\",\"1171\",\"1171\",\"1171\"]\n",
    "# data_filenames = [\"0721\",\"0722\",\"0723\",\"0727\",\"0728\",\"0729\",\"0736\",\"0737\",\"0738\"]\n",
    "# arc_filenames = [\"0725\",\"0725\",\"0725\",\"0733\",\"0733\",\"0733\",\"0740\",\"0740\",\"0740\"]\n",
    "# flat_filenames = [\"0724\",\"0724\",\"0724\",\"0734\",\"0734\",\"0734\",\"0739\",\"0739\",\"0739\"]\n",
    "data_filenames = [\"1177\",\"1178\"]\n",
    "arc_filenames = [\"1180\",\"1180\"]\n",
    "flat_filenames = [\"1179\",\"1179\"]\n",
    "# data_filenames = [\"0746\",\"0747\",\"0748\"]\n",
    "# arc_filenames = [\"0745\",\"0745\",\"0745\"]\n",
    "# flat_filenames = [\"0744\",\"0744\",\"0744\"]\n",
    "# data_filenames = [\"0756\",\"0757\",\"0758\"]\n",
    "# arc_filenames = [\"0755\",\"0755\",\"0755\"]\n",
    "# flat_filenames = [\"0754\",\"0754\",\"0754\"]\n",
    "# data_filenames = [\"1148\",\"1149\",\"1150\",\"1151\",\"1152\"]\n",
    "# arc_filenames = [\"1161\",\"1161\",\"1161\",\"1161\",\"1161\"]\n",
    "# flat_filenames = [\"1160\",\"1160\",\"1160\",\"1160\",\"1160\"]\n",
    "\n",
    "# mask???\n",
    "# mode LR,STD,HR\n",
    "mode = \"HR\"\n",
    "\n",
    "# far red, blue, ...\n",
    "wavelength = \"blue\" #\"far red\"\n",
    "\n",
    "# bad masks (on scale 1-x)\n",
    "# bad_blues = [23]\n",
    "# bad_reds = []\n",
    "bad_blues = [271,298,351]\n",
    "bad_reds = [189,216,243]\n",
    "\n",
    "# stars to use in WCS (list RA,Dec)\n",
    "# all stars should be present in at least some dithers\n",
    "\n",
    "# wcs_stars = [[74.8322, -58.6579],\n",
    "#              [74.8279, -58.6548],\n",
    "#              [74.8314, -58.6526],\n",
    "#              [74.8254, -58.6572],\n",
    "#              [74.8303, -58.6543]]\n",
    "wcs_stars = [[74.8322, -58.6579],\n",
    "             [74.8305, -58.6603],\n",
    "             [74.8308, -58.6587],\n",
    "             [74.8254, -58.6572],\n",
    "             [74.8237, -58.6594]]\n",
    "\n",
    "bin_to_2x1 = True\n",
    "\n",
    "# things to add...\n",
    "# plot = False (generic plots)\n",
    "# debug_mode = False (extra print statements, plots, etc.)\n",
    "# overwrite = False (if file exists, assume already processed correctly)\n",
    "# sub_steps = False (show smaller TQDM for each mask where relevant)"
   ]
  },
  {
   "cell_type": "code",
   "execution_count": 3,
   "id": "fe84b6bd-d950-4a1c-8ab7-7dbd7e6349ce",
   "metadata": {},
   "outputs": [],
   "source": [
    "# assert statements!!!\n",
    "bad_masks = [np.array(bad_blues)-1,np.array(bad_reds)-1]\n",
    "wcs_stars = np.array(wcs_stars)\n",
    "if mode == \"STD\":\n",
    "    total_masks = 552\n",
    "    mask_groups = 12\n",
    "    hex_dims = (23,24)\n",
    "elif mode == \"HR\":\n",
    "    total_masks = 864\n",
    "    mask_groups = 16\n",
    "    hex_dims = (27,32)\n",
    "else:\n",
    "    print(\"invalid mode\")\n",
    "\n",
    "if wavelength == \"far red\":\n",
    "    bins = np.arange(7000,10000,1)\n",
    "elif wavelength == \"blue\":\n",
    "    bins = np.arange(4000,6100,1)\n",
    "else:\n",
    "    print(\"invalid wavelength\")"
   ]
  },
  {
   "cell_type": "markdown",
   "id": "a2204d75-610a-4699-9728-2c91e9bf8386",
   "metadata": {},
   "source": [
    "<h1><strong><span style=\"color:purple\">STITCH</h1>\n",
    "\n",
    "<span style=\"color:orange\"><strong>creates 2 files, one for each detector, for both the data and arc files. also produces a cosmic ray mask for the data."
   ]
  },
  {
   "cell_type": "code",
   "execution_count": 4,
   "id": "9f971b0b-fe1a-4984-9779-d3fa8c12b5b7",
   "metadata": {},
   "outputs": [
    {
     "name": "stderr",
     "output_type": "stream",
     "text": [
      "100%|██████████| 6/6 [00:09<00:00,  1.57s/it]"
     ]
    },
    {
     "name": "stdout",
     "output_type": "stream",
     "text": [
      "stitched files saved\n"
     ]
    },
    {
     "name": "stderr",
     "output_type": "stream",
     "text": [
      "\n"
     ]
    }
   ],
   "source": [
    "# out directory where all files are stored\n",
    "if not os.path.exists(\"out\"):\n",
    "    os.makedirs(\"out\")\n",
    "\n",
    "# stitch and create file\n",
    "for file in tqdm(data_filenames+arc_filenames+flat_filenames):\n",
    "    file_to_stitch = Stitch(directory,file,None,None,None,None,None)\n",
    "    file_to_stitch.load_files()\n",
    "    file_to_stitch.save_file(bin_to_2x1)\n",
    "print(\"stitched files saved\")"
   ]
  },
  {
   "cell_type": "code",
   "execution_count": 5,
   "id": "867e5d75-4558-4f46-8e2b-cc12dc3e15f0",
   "metadata": {},
   "outputs": [
    {
     "name": "stderr",
     "output_type": "stream",
     "text": [
      "100%|██████████| 2/2 [00:07<00:00,  3.81s/it]"
     ]
    },
    {
     "name": "stdout",
     "output_type": "stream",
     "text": [
      "internal bias solved\n"
     ]
    },
    {
     "name": "stderr",
     "output_type": "stream",
     "text": [
      "\n"
     ]
    }
   ],
   "source": [
    "# use flat and median filter to get rid of internal bias\n",
    "for datafilename, arcfilename, flatfilename in tqdm(zip(data_filenames, arc_filenames, flat_filenames),total=len(data_filenames)):\n",
    "    file_for_bias = Stitch(directory,None,None,\"b\",datafilename,arcfilename,flatfilename)\n",
    "    file_for_bias.bias_sub()\n",
    "    file_for_bias = Stitch(directory,None,None,\"r\",datafilename,arcfilename,flatfilename)\n",
    "    file_for_bias.bias_sub()\n",
    "print(\"internal bias solved\")"
   ]
  },
  {
   "cell_type": "code",
   "execution_count": 6,
   "id": "c7e4fc5e-cee2-4d39-a16f-45937e3d05c3",
   "metadata": {},
   "outputs": [
    {
     "name": "stderr",
     "output_type": "stream",
     "text": [
      "100%|██████████| 2/2 [00:40<00:00, 20.31s/it]"
     ]
    },
    {
     "name": "stdout",
     "output_type": "stream",
     "text": [
      "cosmic ray masks created\n"
     ]
    },
    {
     "name": "stderr",
     "output_type": "stream",
     "text": [
      "\n"
     ]
    }
   ],
   "source": [
    "# create cosmic ray masks\n",
    "for datafilename in tqdm(data_filenames):\n",
    "    file_for_cmray = Stitch(directory,None,None,\"b\",datafilename,None,None)\n",
    "    file_for_cmray.cmray_mask(data_filenames)\n",
    "    file_for_cmray = Stitch(directory,None,None,\"r\",datafilename,None,None)\n",
    "    file_for_cmray.cmray_mask(data_filenames)\n",
    "print(\"cosmic ray masks created\")"
   ]
  },
  {
   "cell_type": "markdown",
   "id": "d34902f8-4c8e-48f3-b3cc-5cec54c69fcf",
   "metadata": {},
   "source": [
    "<h1><strong><span style=\"color:purple\">OPTIMIZE MASK</h1>\n",
    "\n",
    "<span style=\"color:orange\"><strong>use current mask for single gaussian fits to get better mask guess  "
   ]
  },
  {
   "cell_type": "code",
   "execution_count": 7,
   "id": "2938c38a-cd5c-4050-b739-4d5a602ad64a",
   "metadata": {},
   "outputs": [
    {
     "name": "stderr",
     "output_type": "stream",
     "text": [
      "  0%|          | 0/1 [00:00<?, ?it/s]"
     ]
    },
    {
     "name": "stdout",
     "output_type": "stream",
     "text": [
      "saving...\n",
      "saved\n",
      "saving...\n",
      "saved\n"
     ]
    },
    {
     "name": "stderr",
     "output_type": "stream",
     "text": [
      "100%|██████████| 1/1 [13:13<00:00, 793.22s/it]\n"
     ]
    }
   ],
   "source": [
    "# first guess; complex guess\n",
    "for flatfilename in tqdm(np.unique(flat_filenames)):\n",
    "    file_for_mask = Mask(\"b\",flatfilename,bad_masks,total_masks,mask_groups)\n",
    "    mask_polys0 = file_for_mask.first_guess(3)\n",
    "    file_for_mask.mask_poly(mask_polys0,40)\n",
    "\n",
    "    file_for_mask = Mask(\"r\",flatfilename,bad_masks,total_masks,mask_groups)\n",
    "    mask_polys0 = file_for_mask.first_guess(3)\n",
    "    file_for_mask.mask_poly(mask_polys0,40)"
   ]
  },
  {
   "cell_type": "code",
   "execution_count": 4,
   "id": "501d82b2-3e68-499b-b6f6-a69d8ef0c626",
   "metadata": {
    "scrolled": true
   },
   "outputs": [],
   "source": [
    "# change the degrees until fully confident with all the fits!\n",
    "center_deg = 5\n",
    "sigma_deg = 3\n",
    "\n",
    "for flatfilename in np.unique(flat_filenames):\n",
    "    file_for_mask = Mask(\"b\",flatfilename,bad_masks,total_masks,mask_groups)\n",
    "    file_for_mask.plot_trace_fits(center_deg,sigma_deg)\n",
    "\n",
    "    file_for_mask = Mask(\"r\",flatfilename,bad_masks,total_masks,mask_groups)\n",
    "    file_for_mask.plot_trace_fits(center_deg,sigma_deg)"
   ]
  },
  {
   "cell_type": "code",
   "execution_count": 5,
   "id": "cb568aeb-f3a6-44a9-af49-e9b0303c7be9",
   "metadata": {},
   "outputs": [
    {
     "name": "stderr",
     "output_type": "stream",
     "text": [
      "100%|██████████| 1/1 [02:17<00:00, 137.60s/it]\n"
     ]
    }
   ],
   "source": [
    "# TODO: calculate sig_mult based on mask non-overlap\n",
    "sig_mult = 1.5\n",
    "\n",
    "for flatfilename in tqdm(np.unique(flat_filenames)):\n",
    "    file_for_mask = Mask(\"b\",flatfilename,bad_masks,total_masks,mask_groups)\n",
    "    file_for_mask.get_flat_traces(center_deg,sigma_deg)\n",
    "    file_for_mask.create_mask(sig_mult)\n",
    "    \n",
    "    file_for_mask = Mask(\"r\",flatfilename,bad_masks,total_masks,mask_groups)\n",
    "    file_for_mask.get_flat_traces(center_deg,sigma_deg)\n",
    "    file_for_mask.create_mask(sig_mult)"
   ]
  },
  {
   "cell_type": "code",
   "execution_count": 4,
   "id": "ecfff313",
   "metadata": {},
   "outputs": [
    {
     "name": "stderr",
     "output_type": "stream",
     "text": [
      "100%|██████████| 1/1 [17:30<00:00, 1050.00s/it]\n"
     ]
    }
   ],
   "source": [
    "# optimize arc files\n",
    "expected_peaks = 25#15\n",
    "sig_mult = 1.5\n",
    "optimize = True # depends if not enough lines\n",
    "\n",
    "for arcfilename, flatfilename in tqdm(zip(np.unique(arc_filenames), np.unique(flat_filenames)),total=len(np.unique(arc_filenames))):\n",
    "    file_for_mask = Mask(\"b\",flatfilename,bad_masks,total_masks,mask_groups)\n",
    "    file_for_mask.optimize_trace(arcfilename,sig_mult,expected_peaks=expected_peaks,optimize=optimize)\n",
    "    \n",
    "    file_for_mask = Mask(\"r\",flatfilename,bad_masks,total_masks,mask_groups)\n",
    "    file_for_mask.optimize_trace(arcfilename,sig_mult,expected_peaks=expected_peaks,optimize=optimize)"
   ]
  },
  {
   "cell_type": "code",
   "execution_count": 5,
   "id": "ec5e0476",
   "metadata": {},
   "outputs": [
    {
     "name": "stderr",
     "output_type": "stream",
     "text": [
      "100%|██████████| 2/2 [09:08<00:00, 274.24s/it]\n"
     ]
    }
   ],
   "source": [
    "# optimize data files\n",
    "expected_peaks = 10#25\n",
    "sig_mult = 1.5\n",
    "optimize = False\n",
    "\n",
    "for datafilename, arcfilename, flatfilename in tqdm(zip(data_filenames, arc_filenames, flat_filenames),total=len(data_filenames)):\n",
    "    file_for_mask = Mask(\"b\",flatfilename,bad_masks,total_masks,mask_groups)\n",
    "    file_for_mask.optimize_trace(datafilename,sig_mult,True,expected_peaks=expected_peaks,optimize=optimize)\n",
    "    file_for_mask.get_rots(arcfilename,datafilename,optimize=optimize)\n",
    "    \n",
    "    file_for_mask = Mask(\"r\",flatfilename,bad_masks,total_masks,mask_groups)\n",
    "    file_for_mask.optimize_trace(datafilename,sig_mult,True,expected_peaks=expected_peaks,optimize=optimize)\n",
    "    file_for_mask.get_rots(arcfilename,datafilename,optimize=optimize)"
   ]
  },
  {
   "cell_type": "code",
   "execution_count": 6,
   "id": "04b7d76a",
   "metadata": {},
   "outputs": [
    {
     "name": "stderr",
     "output_type": "stream",
     "text": [
      "100%|██████████| 1/1 [04:15<00:00, 255.81s/it]\n"
     ]
    }
   ],
   "source": [
    "# create masks for arc!\n",
    "sig_mult = 1.5\n",
    "\n",
    "for arcfilename, flatfilename in tqdm(zip(np.unique(arc_filenames), np.unique(flat_filenames)),total=len(np.unique(arc_filenames))):\n",
    "    file_for_mask = Mask(\"b\",flatfilename,bad_masks,total_masks,mask_groups)\n",
    "    file_for_mask.create_mask(sig_mult,arcfilename)\n",
    "    \n",
    "    file_for_mask = Mask(\"r\",flatfilename,bad_masks,total_masks,mask_groups)\n",
    "    file_for_mask.create_mask(sig_mult,arcfilename)"
   ]
  },
  {
   "cell_type": "code",
   "execution_count": 7,
   "id": "5f0a2af9",
   "metadata": {},
   "outputs": [
    {
     "name": "stderr",
     "output_type": "stream",
     "text": [
      "100%|██████████| 2/2 [06:55<00:00, 207.69s/it]\n"
     ]
    }
   ],
   "source": [
    "# create masks for data\n",
    "sig_mult = 1.5\n",
    "\n",
    "for datafilename, arcfilename, flatfilename in tqdm(zip(data_filenames, arc_filenames, flat_filenames),total=len(data_filenames)):\n",
    "    file_for_mask = Mask(\"b\",flatfilename,bad_masks,total_masks,mask_groups)\n",
    "    file_for_mask.create_mask(sig_mult,datafilename,copy=arcfilename)\n",
    "    \n",
    "    file_for_mask = Mask(\"r\",flatfilename,bad_masks,total_masks,mask_groups)\n",
    "    file_for_mask.create_mask(sig_mult,datafilename,copy=arcfilename)"
   ]
  },
  {
   "cell_type": "code",
   "execution_count": 4,
   "id": "d7479f65",
   "metadata": {},
   "outputs": [
    {
     "name": "stderr",
     "output_type": "stream",
     "text": [
      "  0%|          | 0/2 [00:00<?, ?it/s]"
     ]
    },
    {
     "name": "stdout",
     "output_type": "stream",
     "text": [
      "line 2\n",
      "(429, 12, 7)\n",
      "line 10\n",
      "[-0.24643355  0.35356368  1.08151821  0.60920223  0.02138887  0.15116475\n",
      "  0.00852855]\n",
      "7\n",
      "8\n",
      "9\n",
      "10\n",
      "11\n"
     ]
    },
    {
     "name": "stderr",
     "output_type": "stream",
     "text": [
      " 50%|█████     | 1/2 [01:08<01:08, 68.98s/it]"
     ]
    },
    {
     "name": "stdout",
     "output_type": "stream",
     "text": [
      "line 2\n",
      "(429, 12, 7)\n",
      "line 10\n",
      "[-0.24643355  0.35356368  1.08151821  0.60920223  0.02138887  0.15116475\n",
      "  0.00852855]\n",
      "7\n",
      "8\n",
      "9\n",
      "10\n",
      "11\n"
     ]
    },
    {
     "name": "stderr",
     "output_type": "stream",
     "text": [
      "100%|██████████| 2/2 [01:14<00:00, 37.11s/it]\n"
     ]
    }
   ],
   "source": [
    "# TEMP VIZ\n",
    "for datafilename, arcfilename, flatfilename in tqdm(zip(data_filenames, arc_filenames, flat_filenames),total=len(data_filenames)):\n",
    "    file_for_mask = Mask(\"b\",flatfilename,bad_masks,total_masks,mask_groups)\n",
    "    file_for_mask._viz_(arcfilename,\"b\",3)"
   ]
  },
  {
   "cell_type": "markdown",
   "id": "c9501a20",
   "metadata": {},
   "source": [
    "<h1><strong><span style=\"color:purple\">RECTIFY</h1>\n",
    "\n",
    "<span style=\"color:orange\"><strong>rectify + calibrate"
   ]
  },
  {
   "cell_type": "code",
   "execution_count": 8,
   "id": "8fad5c8b",
   "metadata": {},
   "outputs": [
    {
     "name": "stderr",
     "output_type": "stream",
     "text": [
      "  0%|          | 0/2 [00:00<?, ?it/s]"
     ]
    },
    {
     "name": "stdout",
     "output_type": "stream",
     "text": [
      "activated\n"
     ]
    },
    {
     "name": "stderr",
     "output_type": "stream",
     "text": [
      " 50%|█████     | 1/2 [00:24<00:24, 24.21s/it]"
     ]
    },
    {
     "name": "stdout",
     "output_type": "stream",
     "text": [
      "activated\n"
     ]
    },
    {
     "name": "stderr",
     "output_type": "stream",
     "text": [
      "100%|██████████| 2/2 [00:32<00:00, 16.35s/it]\n"
     ]
    }
   ],
   "source": [
    "# TEMP\n",
    "for datafilename, arcfilename, flatfilename in tqdm(zip(data_filenames, arc_filenames, flat_filenames),total=len(data_filenames)):\n",
    "    file_for_rect = Rectify(\"b\",datafilename,arcfilename,flatfilename,wavelength,bad_masks,total_masks,mask_groups)\n",
    "    file_for_rect._viz_wl()"
   ]
  },
  {
   "cell_type": "code",
   "execution_count": 4,
   "id": "14c3c573",
   "metadata": {},
   "outputs": [
    {
     "name": "stderr",
     "output_type": "stream",
     "text": [
      "100%|██████████| 2/2 [07:55<00:00, 237.70s/it]\n",
      "100%|██████████| 1/1 [04:26<00:00, 266.47s/it]\n"
     ]
    }
   ],
   "source": [
    "# usualy it's a good idea to fix sparse if you expect a good density of peaks throughout\n",
    "for datafilename, arcfilename, flatfilename in tqdm(zip(data_filenames, arc_filenames, flat_filenames),total=len(data_filenames)):\n",
    "    file_for_rect = Rectify(\"b\",datafilename,arcfilename,flatfilename,wavelength,bad_masks,total_masks,mask_groups)\n",
    "    file_for_rect.optimize_centers(\"data\")\n",
    "    \n",
    "    file_for_rect = Rectify(\"r\",datafilename,arcfilename,flatfilename,wavelength,bad_masks,total_masks,mask_groups)\n",
    "    file_for_rect.optimize_centers(\"data\")\n",
    "\n",
    "for arcfilename, flatfilename in tqdm(zip(np.unique(arc_filenames), np.unique(flat_filenames)),total=len(np.unique(arc_filenames))):\n",
    "    file_for_rect = Rectify(\"b\",\"NA\",arcfilename,flatfilename,wavelength,bad_masks,total_masks,mask_groups)\n",
    "    file_for_rect.optimize_centers(\"arc\",fix_sparse=True)\n",
    "\n",
    "    file_for_rect = Rectify(\"r\",\"NA\",arcfilename,flatfilename,wavelength,bad_masks,total_masks,mask_groups)\n",
    "    file_for_rect.optimize_centers(\"arc\",fix_sparse=True)"
   ]
  },
  {
   "cell_type": "code",
   "execution_count": 5,
   "id": "242193f8-2862-432f-b525-358c78b8c0d3",
   "metadata": {},
   "outputs": [
    {
     "name": "stderr",
     "output_type": "stream",
     "text": [
      "  0%|          | 0/2 [00:00<?, ?it/s]"
     ]
    },
    {
     "name": "stdout",
     "output_type": "stream",
     "text": [
      "BAD emission line: 1616.918175810298\n",
      "BAD emission line: 1645.3339554077486\n",
      "BAD emission line: 1687.1855584186264\n",
      "BAD emission line: 1734.694587058697\n",
      "GOOD emission line: 1908.7104835600865\n",
      "GOOD emission line: 1930.6988689137763\n",
      "BAD emission line: 1974.543407982069\n",
      "BAD emission line: 2012.7709803030823\n",
      "BAD emission line: 2032.2510293900418\n",
      "BAD emission line: 2039.8220177567694\n",
      "BAD emission line: 2041.2962690324148\n",
      "BAD emission line: 2041.406378311275\n",
      "BAD emission line: 2041.8948648728274\n",
      "GOOD emission line: 1612.4109531253705\n",
      "BAD emission line: 1635.5890465350606\n",
      "BAD emission line: 1670.8218459200455\n",
      "GOOD emission line: 1898.962470491254\n",
      "GOOD emission line: 1925.1599693251508\n",
      "GOOD emission line: 1967.2967012029285\n",
      "BAD emission line: 2007.8954882213652\n",
      "BAD emission line: 2024.3564326542187\n",
      "BAD emission line: 2037.5681309720342\n",
      "BAD emission line: 2042.2080265531802\n",
      "BAD emission line: 2042.0652712178833\n",
      "BAD emission line: 2042.607219028383\n"
     ]
    },
    {
     "name": "stderr",
     "output_type": "stream",
     "text": [
      " 50%|█████     | 1/2 [00:16<00:16, 16.85s/it]"
     ]
    },
    {
     "name": "stdout",
     "output_type": "stream",
     "text": [
      "GOOD emission line: 1617.7224402742154\n",
      "BAD emission line: 1649.311859099005\n",
      "BAD emission line: 1682.6301256781771\n",
      "BAD emission line: 1729.1696164279863\n",
      "GOOD emission line: 1908.6937716409163\n",
      "GOOD emission line: 1931.314485213571\n",
      "GOOD emission line: 1974.2617652753916\n",
      "BAD emission line: 2015.7255220665202\n",
      "BAD emission line: 2029.7443941853576\n",
      "BAD emission line: 2040.7767256081415\n",
      "BAD emission line: 2042.2649375537055\n",
      "GOOD emission line: 1612.8270842019645\n",
      "BAD emission line: 1633.0028256891894\n",
      "BAD emission line: 1726.8073638611793\n",
      "BAD emission line: 1899.2395004300379\n",
      "GOOD emission line: 1925.2962635126576\n",
      "GOOD emission line: 1966.8894589434644\n",
      "BAD emission line: 2006.6096963527796\n",
      "BAD emission line: 2024.9476508332964\n",
      "BAD emission line: 2037.0125497495324\n",
      "BAD emission line: 2041.2813245686696\n",
      "BAD emission line: 2041.8886561999377\n"
     ]
    },
    {
     "name": "stderr",
     "output_type": "stream",
     "text": [
      "100%|██████████| 2/2 [00:35<00:00, 17.84s/it]\n",
      "  0%|          | 0/1 [00:00<?, ?it/s]"
     ]
    },
    {
     "name": "stdout",
     "output_type": "stream",
     "text": [
      "BAD emission line: 267.85894742285603\n",
      "GOOD emission line: 74.62512026028934\n",
      "GOOD emission line: 323.1885631001535\n",
      "GOOD emission line: 393.374947902989\n",
      "BAD emission line: 422.92736388408025\n",
      "GOOD emission line: 445.31885078787144\n",
      "GOOD emission line: 458.9832052182414\n",
      "BAD emission line: 471.00103454951017\n",
      "GOOD emission line: 469.34903500169787\n",
      "BAD emission line: 653.6605949472322\n",
      "GOOD emission line: 589.2608562319281\n",
      "GOOD emission line: 652.8027975167905\n",
      "GOOD emission line: 692.9389703979443\n",
      "GOOD emission line: 701.162622688316\n",
      "GOOD emission line: 756.812659555217\n",
      "GOOD emission line: 778.341165253083\n",
      "GOOD emission line: 806.1468753589114\n",
      "GOOD emission line: 849.041370306964\n",
      "GOOD emission line: 921.606219561431\n",
      "GOOD emission line: 964.4201383447147\n",
      "GOOD emission line: 1056.6394503875865\n",
      "BAD emission line: 1063.665898827526\n",
      "BAD emission line: 1101.5965319327352\n",
      "BAD emission line: 1111.188172208013\n",
      "BAD emission line: 1155.8849215005864\n",
      "BAD emission line: 1199.0327270886833\n",
      "BAD emission line: 1269.581157542276\n",
      "BAD emission line: 1767.9028614180445\n",
      "GOOD emission line: 1893.2931863500203\n",
      "GOOD emission line: 1904.1063809535372\n",
      "GOOD emission line: 1916.5941187103392\n",
      "GOOD emission line: 1943.7259382471832\n",
      "GOOD emission line: 1986.2303911009196\n",
      "GOOD emission line: 2000.6333542966509\n",
      "BAD emission line: 2007.3110095247962\n",
      "BAD emission line: 2028.896707208649\n",
      "GOOD emission line: 197.90179763358236\n",
      "GOOD emission line: 316.654913012658\n",
      "BAD emission line: 682.4266868028758\n",
      "BAD emission line: 420.3023570608768\n",
      "GOOD emission line: 438.43949976754874\n",
      "BAD emission line: 457.49755936992256\n",
      "GOOD emission line: 452.7208811091734\n",
      "BAD emission line: 458.42543992271004\n",
      "BAD emission line: 833.7227620101545\n",
      "GOOD emission line: 584.169244052387\n",
      "GOOD emission line: 684.9682485704552\n",
      "GOOD emission line: 749.1588334929077\n",
      "GOOD emission line: 802.1141759752753\n",
      "GOOD emission line: 843.2971101957195\n",
      "GOOD emission line: 958.5811781902636\n",
      "GOOD emission line: 1051.8828041976005\n",
      "BAD emission line: 1072.9003636718737\n",
      "BAD emission line: 1076.80092070256\n",
      "BAD emission line: 1108.4155171324558\n",
      "BAD emission line: 1115.2594484461574\n",
      "BAD emission line: 1155.3533316072658\n",
      "BAD emission line: 1274.3499309028991\n",
      "BAD emission line: 1759.5662646478515\n",
      "GOOD emission line: 1887.7450694198405\n",
      "GOOD emission line: 1898.581533987467\n",
      "GOOD emission line: 1911.0457745185126\n",
      "GOOD emission line: 1936.5658677384135\n",
      "GOOD emission line: 1980.7081122993218\n",
      "GOOD emission line: 1995.4397877709473\n",
      "BAD emission line: 2009.539445535645\n",
      "BAD emission line: 2007.959069045841\n"
     ]
    },
    {
     "name": "stderr",
     "output_type": "stream",
     "text": [
      "100%|██████████| 1/1 [00:59<00:00, 59.17s/it]\n"
     ]
    }
   ],
   "source": [
    "for datafilename, arcfilename, flatfilename in tqdm(zip(data_filenames, arc_filenames, flat_filenames),total=len(data_filenames)):\n",
    "    file_for_rect = Rectify(\"b\",datafilename,arcfilename,flatfilename,wavelength,bad_masks,total_masks,mask_groups)\n",
    "    file_for_rect.rectify(\"data\")\n",
    "\n",
    "    file_for_rect = Rectify(\"r\",datafilename,arcfilename,flatfilename,wavelength,bad_masks,total_masks,mask_groups)\n",
    "    file_for_rect.rectify(\"data\")\n",
    "\n",
    "for arcfilename, flatfilename in tqdm(zip(np.unique(arc_filenames), np.unique(flat_filenames)),total=len(np.unique(arc_filenames))):\n",
    "    file_for_rect = Rectify(\"b\",\"NA\",arcfilename,flatfilename,wavelength,bad_masks,total_masks,mask_groups)\n",
    "    file_for_rect.rectify(\"arc\")\n",
    "\n",
    "    file_for_rect = Rectify(\"r\",\"NA\",arcfilename,flatfilename,wavelength,bad_masks,total_masks,mask_groups)\n",
    "    file_for_rect.rectify(\"arc\")"
   ]
  },
  {
   "cell_type": "code",
   "execution_count": 6,
   "id": "f8326fb3",
   "metadata": {},
   "outputs": [
    {
     "name": "stderr",
     "output_type": "stream",
     "text": [
      "100%|██████████| 2/2 [00:00<00:00,  5.44it/s]\n"
     ]
    }
   ],
   "source": [
    "# this function is used ONLY if you wish to use x rectification also for y\n",
    "for datafilename, arcfilename, flatfilename in tqdm(zip(data_filenames, arc_filenames, flat_filenames),total=len(data_filenames)):\n",
    "    file_for_calib = Rectify(\"b\",datafilename,arcfilename,flatfilename,wavelength,bad_masks,total_masks,mask_groups)\n",
    "    file_for_calib.overwrite_rect()\n",
    "\n",
    "    file_for_calib = Rectify(\"r\",datafilename,arcfilename,flatfilename,wavelength,bad_masks,total_masks,mask_groups)\n",
    "    file_for_calib.overwrite_rect()"
   ]
  },
  {
   "cell_type": "code",
   "execution_count": 4,
   "id": "ad138d44",
   "metadata": {},
   "outputs": [
    {
     "name": "stderr",
     "output_type": "stream",
     "text": [
      "  0%|          | 0/2 [00:00<?, ?it/s]"
     ]
    },
    {
     "name": "stdout",
     "output_type": "stream",
     "text": [
      "BAD arc fit: 94 5506.113\n",
      "BAD arc fit: 307 5506.113\n",
      "BAD arc fit: 421 5506.113\n",
      "BAD arc fit: 421 4026.1914\n",
      "BAD arc fit: 423 4026.1914\n",
      "BAD arc fit: 424 4026.1914\n",
      "BAD arc fit: 425 4026.1914\n",
      "BAD arc fit: 426 4026.1914\n",
      "BAD arc fit: 427 4026.1914\n",
      "BAD arc fit: 428 4026.1914\n",
      "BAD arc fit: 429 4026.1914\n",
      "BAD arc fit: 430 4026.1914\n",
      "BAD arc fit: 431 4026.1914\n",
      "BAD arc fit: 432 4026.1914\n",
      "BAD arc fit: 1 4026.1914\n",
      "BAD arc fit: 2 4026.1914\n",
      "BAD arc fit: 3 4026.1914\n",
      "BAD arc fit: 4 4026.1914\n",
      "BAD arc fit: 5 4026.1914\n",
      "BAD arc fit: 6 4026.1914\n",
      "BAD arc fit: 7 4026.1914\n",
      "BAD arc fit: 8 4026.1914\n",
      "BAD arc fit: 9 4026.1914\n",
      "BAD arc fit: 64 5187.746\n",
      "BAD arc fit: 64 5451.652\n",
      "BAD arc fit: 64 5495.874\n",
      "BAD arc fit: 64 5506.113\n",
      "BAD arc fit: 64 5558.702\n",
      "BAD arc fit: 64 5572.541\n",
      "BAD arc fit: 64 5650.704\n",
      "BAD arc fit: 64 5400.5616\n",
      "BAD arc fit: 64 5852.4878\n",
      "BAD arc fit: 64 4120.8154\n",
      "BAD arc fit: 64 4143.761\n",
      "BAD arc fit: 64 4387.9296\n",
      "BAD arc fit: 64 4471.4802\n",
      "BAD arc fit: 64 4713.1457\n",
      "BAD arc fit: 64 4921.9313\n",
      "BAD arc fit: 64 5015.6783\n",
      "BAD arc fit: 64 5047.738\n",
      "BAD arc fit: 64 5875.621\n",
      "BAD arc fit: 85 5506.113\n",
      "BAD arc fit: 88 5451.652\n",
      "BAD arc fit: 132 5558.702\n",
      "BAD arc fit: 132 5572.541\n",
      "BAD arc fit: 180 5451.652\n",
      "BAD arc fit: 347 5650.704\n",
      "BAD arc fit: 367 5451.652\n",
      "BAD arc fit: 376 5451.652\n",
      "BAD arc fit: 420 5650.704\n",
      "BAD arc fit: 430 4026.1914\n",
      "BAD arc fit: 431 4026.1914\n"
     ]
    },
    {
     "name": "stderr",
     "output_type": "stream",
     "text": [
      " 50%|█████     | 1/2 [00:42<00:42, 42.03s/it]"
     ]
    },
    {
     "name": "stdout",
     "output_type": "stream",
     "text": [
      "BAD arc fit: 35 5400.5616\n",
      "BAD arc fit: 50 5506.113\n",
      "BAD arc fit: 232 5572.541\n",
      "BAD arc fit: 418 5506.113\n",
      "BAD arc fit: 423 4026.1914\n",
      "BAD arc fit: 424 4026.1914\n",
      "BAD arc fit: 425 4026.1914\n",
      "BAD arc fit: 426 4026.1914\n",
      "BAD arc fit: 427 4026.1914\n",
      "BAD arc fit: 428 4026.1914\n",
      "BAD arc fit: 429 4026.1914\n",
      "BAD arc fit: 430 4026.1914\n",
      "BAD arc fit: 431 4026.1914\n",
      "BAD arc fit: 432 4026.1914\n",
      "BAD arc fit: 1 4026.1914\n",
      "BAD arc fit: 2 4026.1914\n",
      "BAD arc fit: 3 4026.1914\n",
      "BAD arc fit: 4 4026.1914\n",
      "BAD arc fit: 5 4026.1914\n",
      "BAD arc fit: 6 4026.1914\n",
      "BAD arc fit: 7 4026.1914\n",
      "BAD arc fit: 8 4026.1914\n",
      "BAD arc fit: 9 4026.1914\n",
      "BAD arc fit: 10 4026.1914\n",
      "BAD arc fit: 11 4026.1914\n",
      "BAD arc fit: 64 5187.746\n",
      "BAD arc fit: 64 5451.652\n",
      "BAD arc fit: 64 5495.874\n",
      "BAD arc fit: 64 5506.113\n",
      "BAD arc fit: 64 5558.702\n",
      "BAD arc fit: 64 5572.541\n",
      "BAD arc fit: 64 5650.704\n",
      "BAD arc fit: 64 5400.5616\n",
      "BAD arc fit: 64 5852.4878\n",
      "BAD arc fit: 64 4120.8154\n",
      "BAD arc fit: 64 4143.761\n",
      "BAD arc fit: 64 4387.9296\n",
      "BAD arc fit: 64 4471.4802\n",
      "BAD arc fit: 64 4713.1457\n",
      "BAD arc fit: 64 4921.9313\n",
      "BAD arc fit: 64 5015.6783\n",
      "BAD arc fit: 64 5047.738\n",
      "BAD arc fit: 64 5875.621\n",
      "BAD arc fit: 81 5400.5616\n",
      "BAD arc fit: 107 5451.652\n",
      "BAD arc fit: 132 5558.702\n",
      "BAD arc fit: 132 5572.541\n",
      "BAD arc fit: 220 5451.652\n",
      "BAD arc fit: 270 5506.113\n",
      "BAD arc fit: 430 4026.1914\n"
     ]
    },
    {
     "name": "stderr",
     "output_type": "stream",
     "text": [
      "100%|██████████| 2/2 [01:16<00:00, 38.29s/it]\n"
     ]
    }
   ],
   "source": [
    "# calibrate (rectified xs to wls)\n",
    "for datafilename, arcfilename, flatfilename in tqdm(zip(data_filenames, arc_filenames, flat_filenames),total=len(data_filenames)):\n",
    "    file_for_calib = Rectify(\"b\",datafilename,arcfilename,flatfilename,wavelength,bad_masks,total_masks,mask_groups)\n",
    "    file_for_calib.calib(use_sky=False)\n",
    "\n",
    "    file_for_calib = Rectify(\"r\",datafilename,arcfilename,flatfilename,wavelength,bad_masks,total_masks,mask_groups)\n",
    "    file_for_calib.calib(use_sky=False)"
   ]
  },
  {
   "cell_type": "code",
   "execution_count": 5,
   "id": "d2b23388",
   "metadata": {},
   "outputs": [
    {
     "name": "stderr",
     "output_type": "stream",
     "text": [
      "100%|██████████| 2/2 [00:42<00:00, 21.10s/it]\n"
     ]
    }
   ],
   "source": [
    "# viz\n",
    "import matplotlib.pyplot as plt\n",
    "for datafilename, arcfilename, flatfilename in tqdm(zip(data_filenames, arc_filenames, flat_filenames),total=len(data_filenames)):\n",
    "    file_for_calib = Rectify(\"b\",datafilename,arcfilename,flatfilename,wavelength,bad_masks,total_masks,mask_groups)\n",
    "    file_for_calib._viz()\n",
    "\n",
    "    file_for_calib = Rectify(\"r\",datafilename,arcfilename,flatfilename,wavelength,bad_masks,total_masks,mask_groups)\n",
    "    file_for_calib._viz()\n",
    "\n",
    "    plt.show()"
   ]
  },
  {
   "cell_type": "markdown",
   "id": "cf8e450c",
   "metadata": {},
   "source": [
    "<h1><strong><span style=\"color:purple\">CALIBRATE</h1>\n",
    "\n",
    "<span style=\"color:orange\"><strong>calibrate"
   ]
  },
  {
   "cell_type": "code",
   "execution_count": 6,
   "id": "79210543",
   "metadata": {},
   "outputs": [
    {
     "name": "stderr",
     "output_type": "stream",
     "text": [
      "100%|██████████| 2/2 [50:57<00:00, 1528.71s/it]\n"
     ]
    }
   ],
   "source": [
    "sig_mult = 1.5\n",
    "\n",
    "for datafilename, arcfilename, flatfilename in tqdm(zip(data_filenames, arc_filenames, flat_filenames),total=len(data_filenames)):\n",
    "    file_for_calib = Calibrate(datafilename,arcfilename,flatfilename,wavelength,bad_masks,total_masks,mask_groups)\n",
    "    file_for_calib.get_spectra(sig_mult,bins,color=\"b\",use_global=True)\n",
    "    file_for_calib.get_spectra(sig_mult,bins,color=\"r\",use_global=True)"
   ]
  },
  {
   "cell_type": "code",
   "execution_count": 4,
   "id": "bb3db84e",
   "metadata": {},
   "outputs": [
    {
     "name": "stderr",
     "output_type": "stream",
     "text": [
      "  0%|          | 0/2 [00:00<?, ?it/s]"
     ]
    },
    {
     "name": "stdout",
     "output_type": "stream",
     "text": [
      "error in intensity fit\n"
     ]
    },
    {
     "name": "stderr",
     "output_type": "stream",
     "text": [
      "100%|██████████| 2/2 [00:54<00:00, 27.47s/it]\n"
     ]
    }
   ],
   "source": [
    "# intenisty calibrate all spectra, combine blue and red amplifiers\n",
    "use_flat = False\n",
    "\n",
    "for datafilename, arcfilename, flatfilename in tqdm(zip(data_filenames, arc_filenames, flat_filenames),total=len(data_filenames)):\n",
    "    file_for_calib = Calibrate(datafilename,arcfilename,flatfilename,wavelength,bad_masks,total_masks,mask_groups)\n",
    "    file_for_calib.intensity_corr(deg=0,use_flat=use_flat)"
   ]
  },
  {
   "cell_type": "code",
   "execution_count": 5,
   "id": "f20a67eb",
   "metadata": {},
   "outputs": [
    {
     "name": "stderr",
     "output_type": "stream",
     "text": [
      "100%|██████████| 2/2 [00:35<00:00, 17.58s/it]\n"
     ]
    }
   ],
   "source": [
    "# ONLY VIZ\n",
    "\n",
    "for datafilename, arcfilename, flatfilename in tqdm(zip(data_filenames, arc_filenames, flat_filenames),total=len(data_filenames)):\n",
    "    file_for_calib = Calibrate(datafilename,arcfilename,flatfilename,wavelength,bad_masks,total_masks,mask_groups)\n",
    "    file_for_calib._viz()"
   ]
  },
  {
   "cell_type": "markdown",
   "id": "d909ef5c",
   "metadata": {},
   "source": [
    "<h1><strong><span style=\"color:purple\">STACK</h1>\n",
    "\n",
    "<span style=\"color:orange\"><strong>stack dithers"
   ]
  },
  {
   "cell_type": "code",
   "execution_count": 6,
   "id": "e1d41067",
   "metadata": {},
   "outputs": [
    {
     "name": "stdout",
     "output_type": "stream",
     "text": [
      "hexagon grid: 99.000,100.805\n",
      "pixel grid: 99,101\n",
      "9999 pixels\n"
     ]
    },
    {
     "name": "stderr",
     "output_type": "stream",
     "text": [
      "overlap percentages: 100%|\u001b[38;2;255;165;0m██████████\u001b[0m| 9999/9999 [00:40<00:00, 247.64it/s]\n"
     ]
    },
    {
     "name": "stdout",
     "output_type": "stream",
     "text": [
      "9932 (99.330%) of pixels overlap with hexagon grid\n",
      "9428 (94.289%) of pixels overlap fully with hexagon grid\n"
     ]
    },
    {
     "name": "stderr",
     "output_type": "stream",
     "text": [
      "graphing pixels: 100%|\u001b[38;2;218;112;214m██████████\u001b[0m| 9999/9999 [00:12<00:00, 826.13it/s]\n"
     ]
    },
    {
     "name": "stdout",
     "output_type": "stream",
     "text": [
      "plotting...\n"
     ]
    },
    {
     "name": "stderr",
     "output_type": "stream",
     "text": [
      "graphing pixels: 100%|\u001b[38;2;218;112;214m██████████\u001b[0m| 9999/9999 [00:12<00:00, 792.55it/s]\n"
     ]
    },
    {
     "name": "stdout",
     "output_type": "stream",
     "text": [
      "plotting...\n"
     ]
    },
    {
     "name": "stderr",
     "output_type": "stream",
     "text": [
      "100%|██████████| 99/99 [02:10<00:00,  1.32s/it]\n",
      "100%|██████████| 99/99 [02:35<00:00,  1.57s/it]\n"
     ]
    }
   ],
   "source": [
    "# individually create datacubes to be used in dither stack\n",
    "\n",
    "files_for_stack = Stack(data_filenames,bad_masks,total_masks,mask_groups,wcs_stars,hex_dims)\n",
    "files_for_stack.hex_to_grid()\n",
    "files_for_stack.spectra_to_datacube()"
   ]
  },
  {
   "cell_type": "code",
   "execution_count": null,
   "id": "c62b6175",
   "metadata": {},
   "outputs": [
    {
     "name": "stdout",
     "output_type": "stream",
     "text": [
      "calculting 2D cross-correlation shift guesses...\n",
      "select 5 WCS stars in order; see popup window\n",
      "optimizing WCS star coordinates...\n",
      "performing WCS transforms...\n",
      "\t0721 used 5 reference stars\n",
      "\t0722 used 5 reference stars\n",
      "\t0723 used 5 reference stars\n",
      "\t0727 used 5 reference stars\n",
      "\t0728 used 5 reference stars\n",
      "\t0729 used 5 reference stars\n",
      "\t0736 used 5 reference stars\n",
      "\t0737 used 5 reference stars\n",
      "\t0738 used 5 reference stars\n",
      "WCS transformations complete\n"
     ]
    }
   ],
   "source": [
    "# transform data to WCS using cross-correlation\n",
    "files_for_stack = Stack(data_filenames,bad_masks,total_masks,mask_groups,wcs_stars,hex_dims)\n",
    "files_for_stack.wcs_datacubes()"
   ]
  },
  {
   "cell_type": "code",
   "execution_count": null,
   "id": "cf8bb6c6",
   "metadata": {},
   "outputs": [],
   "source": [
    "# calibrate intensity for all datacubes\n",
    "files_for_stack = Stack(data_filenames,bad_masks,total_masks,mask_groups,wcs_stars,hex_dims)\n",
    "files_for_stack.full_intensity_callibration()"
   ]
  },
  {
   "cell_type": "code",
   "execution_count": null,
   "id": "faf096b2",
   "metadata": {},
   "outputs": [
    {
     "name": "stderr",
     "output_type": "stream",
     "text": [
      "overlap percentages: 100%|\u001b[38;2;255;165;0m██████████\u001b[0m| 7821/7821 [05:34<00:00, 23.39it/s]\n",
      "100%|██████████| 99/99 [1:07:33<00:00, 40.94s/it]\n"
     ]
    },
    {
     "name": "stdout",
     "output_type": "stream",
     "text": [
      "final data cubes saved!\n"
     ]
    }
   ],
   "source": [
    "# stack datacubes\n",
    "files_for_stack = Stack(data_filenames,bad_masks,total_masks,mask_groups,wcs_stars,hex_dims)\n",
    "files_for_stack.stack_datacubes()"
   ]
  },
  {
   "cell_type": "code",
   "execution_count": null,
   "id": "b59d0768",
   "metadata": {},
   "outputs": [],
   "source": []
  },
  {
   "cell_type": "code",
   "execution_count": null,
   "id": "0b06a696",
   "metadata": {},
   "outputs": [],
   "source": []
  },
  {
   "cell_type": "code",
   "execution_count": null,
   "id": "cc4bc7ac",
   "metadata": {},
   "outputs": [],
   "source": []
  },
  {
   "cell_type": "code",
   "execution_count": null,
   "id": "175c2632",
   "metadata": {},
   "outputs": [],
   "source": []
  }
 ],
 "metadata": {
  "kernelspec": {
   "display_name": "IFUM",
   "language": "python",
   "name": "python3"
  },
  "language_info": {
   "codemirror_mode": {
    "name": "ipython",
    "version": 3
   },
   "file_extension": ".py",
   "mimetype": "text/x-python",
   "name": "python",
   "nbconvert_exporter": "python",
   "pygments_lexer": "ipython3",
   "version": "3.13.2"
  }
 },
 "nbformat": 4,
 "nbformat_minor": 5
}
