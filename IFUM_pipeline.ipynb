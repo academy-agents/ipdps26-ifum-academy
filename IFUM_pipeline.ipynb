{
 "cells": [
  {
   "cell_type": "code",
   "execution_count": 1,
   "id": "2b64c1fc-8229-4002-ba6b-1547ad980376",
   "metadata": {},
   "outputs": [],
   "source": [
    "# import libraries\n",
    "import os\n",
    "import numpy as np\n",
    "from tqdm import tqdm\n",
    "\n",
    "from ifum_stitch import Stitch\n",
    "from ifum_maskopt import Mask\n",
    "from ifum_rectify import Rectify\n",
    "from ifum_calibrate import Calibrate\n",
    "from ifum_stack import Stack\n",
    "\n",
    "# suppress warnings\n",
    "import warnings\n",
    "warnings.filterwarnings('ignore')"
   ]
  },
  {
   "cell_type": "code",
   "execution_count": 2,
   "id": "e19ce70a-5c4a-4840-9d39-3f459cc1ec3e",
   "metadata": {},
   "outputs": [],
   "source": [
    "# directory containing unprocessed files\n",
    "\n",
    "# directory = \"C:\\\\Users\\\\daniel\\\\OneDrive - The University of Chicago\\\\Documents\\\\cool lamps\\\\summer_24\\\\IFUM data\\\\ut20240212\\\\\"\n",
    "directory = \"C:\\\\Users\\\\daniel\\\\OneDrive - The University of Chicago\\\\Documents\\\\cool lamps\\\\summer_24\\\\IFUM data\\\\ut20240210\\\\\"\n",
    "\n",
    "# all files included in a single stack, repeat where necessary\n",
    "# only include string in file that includes all files from single exposure\n",
    "\n",
    "# data_filenames = [\"1156\",\"1157\",\"1158\",\"1162\",\"1163\",\"1164\",\"1168\",\"1169\",\"1170\"]\n",
    "# arc_filenames = [\"1161\",\"1161\",\"1161\",\"1167\",\"1167\",\"1167\",\"1172\",\"1172\",\"1172\"]\n",
    "# flat_filenames = [\"1160\",\"1160\",\"1160\",\"1166\",\"1166\",\"1166\",\"1171\",\"1171\",\"1171\"]\n",
    "data_filenames = [\"0721\",\"0722\",\"0723\",\"0727\",\"0728\",\"0729\",\"0736\",\"0737\",\"0738\"]\n",
    "arc_filenames = [\"0725\",\"0725\",\"0725\",\"0733\",\"0733\",\"0733\",\"0740\",\"0740\",\"0740\"]\n",
    "flat_filenames = [\"0724\",\"0724\",\"0724\",\"0734\",\"0734\",\"0734\",\"0739\",\"0739\",\"0739\"]\n",
    "\n",
    "# mask???\n",
    "# mode LR,STD,HR\n",
    "mode = \"STD\"\n",
    "\n",
    "# bad masks (on scale 1-276)\n",
    "bad_blues = [23]\n",
    "bad_reds = []\n",
    "\n",
    "# stars to use in WCS (list RA,Dec)\n",
    "# all stars should be present in at least some dithers\n",
    "\n",
    "# wcs_stars = [[74.8322, -58.6579],\n",
    "#              [74.8279, -58.6548],\n",
    "#              [74.8314, -58.6526],\n",
    "#              [74.8254, -58.6572],\n",
    "#              [74.8303, -58.6543]]\n",
    "wcs_stars = [[74.8322, -58.6579],\n",
    "             [74.8305, -58.6603],\n",
    "             [74.8308, -58.6587],\n",
    "             [74.8254, -58.6572],\n",
    "             [74.8237, -58.6594]]\n",
    "\n",
    "\n",
    "# things to add...\n",
    "# plot = False (generic plots)\n",
    "# debug_mode = False (extra print statements, plots, etc.)\n",
    "# overwrite = False (if file exists, assume already processed correctly)"
   ]
  },
  {
   "cell_type": "code",
   "execution_count": 3,
   "id": "fe84b6bd-d950-4a1c-8ab7-7dbd7e6349ce",
   "metadata": {},
   "outputs": [],
   "source": [
    "# assert statements!!!\n",
    "bad_masks = [np.array(bad_blues)-1,np.array(bad_reds)-1]\n",
    "wcs_stars = np.array(wcs_stars)\n",
    "if mode == \"STD\":\n",
    "    total_masks = 552\n",
    "    mask_groups = 12\n",
    "else:\n",
    "    print(\"invalid mode\")"
   ]
  },
  {
   "cell_type": "markdown",
   "id": "a2204d75-610a-4699-9728-2c91e9bf8386",
   "metadata": {},
   "source": [
    "<h1><strong><span style=\"color:purple\">STITCH</h1>\n",
    "\n",
    "<span style=\"color:orange\"><strong>creates 2 files, one for each detector, for both the data and arc files. also produces a cosmic ray mask for the data."
   ]
  },
  {
   "cell_type": "code",
   "execution_count": 4,
   "id": "9f971b0b-fe1a-4984-9779-d3fa8c12b5b7",
   "metadata": {},
   "outputs": [
    {
     "name": "stderr",
     "output_type": "stream",
     "text": [
      "  0%|          | 0/27 [00:00<?, ?it/s]"
     ]
    },
    {
     "name": "stderr",
     "output_type": "stream",
     "text": [
      "100%|██████████| 27/27 [00:24<00:00,  1.11it/s]"
     ]
    },
    {
     "name": "stdout",
     "output_type": "stream",
     "text": [
      "stitched files saved\n"
     ]
    },
    {
     "name": "stderr",
     "output_type": "stream",
     "text": [
      "\n"
     ]
    }
   ],
   "source": [
    "# out directory where all files are stored\n",
    "if not os.path.exists(\"out\"):\n",
    "    os.makedirs(\"out\")\n",
    "\n",
    "# stitch and create file\n",
    "for file in tqdm(data_filenames+arc_filenames+flat_filenames):\n",
    "    file_to_stitch = Stitch(directory,file,None,None,None,None,None)\n",
    "    file_to_stitch.load_files()\n",
    "    file_to_stitch.save_file()\n",
    "print(\"stitched files saved\")"
   ]
  },
  {
   "cell_type": "code",
   "execution_count": 5,
   "id": "867e5d75-4558-4f46-8e2b-cc12dc3e15f0",
   "metadata": {},
   "outputs": [
    {
     "name": "stderr",
     "output_type": "stream",
     "text": [
      "100%|██████████| 9/9 [00:32<00:00,  3.65s/it]"
     ]
    },
    {
     "name": "stdout",
     "output_type": "stream",
     "text": [
      "internal bias solved\n"
     ]
    },
    {
     "name": "stderr",
     "output_type": "stream",
     "text": [
      "\n"
     ]
    }
   ],
   "source": [
    "# use flat and median filter to get rid of internal bias\n",
    "for datafilename, arcfilename, flatfilename in tqdm(zip(data_filenames, arc_filenames, flat_filenames),total=len(data_filenames)):\n",
    "    file_for_bias = Stitch(directory,None,None,\"b\",datafilename,arcfilename,flatfilename)\n",
    "    file_for_bias.bias_sub()\n",
    "    file_for_bias = Stitch(directory,None,None,\"r\",datafilename,arcfilename,flatfilename)\n",
    "    file_for_bias.bias_sub()\n",
    "print(\"internal bias solved\")"
   ]
  },
  {
   "cell_type": "code",
   "execution_count": 4,
   "id": "c7e4fc5e-cee2-4d39-a16f-45937e3d05c3",
   "metadata": {},
   "outputs": [
    {
     "name": "stderr",
     "output_type": "stream",
     "text": [
      "100%|██████████| 9/9 [15:07<00:00, 100.86s/it]"
     ]
    },
    {
     "name": "stdout",
     "output_type": "stream",
     "text": [
      "cosmic ray masks created\n"
     ]
    },
    {
     "name": "stderr",
     "output_type": "stream",
     "text": [
      "\n"
     ]
    }
   ],
   "source": [
    "# create cosmic ray masks\n",
    "for datafilename in tqdm(data_filenames):\n",
    "    file_for_cmray = Stitch(directory,None,None,\"b\",datafilename,None,None)\n",
    "    file_for_cmray.cmray_mask(data_filenames)\n",
    "    file_for_cmray = Stitch(directory,None,None,\"r\",datafilename,None,None)\n",
    "    file_for_cmray.cmray_mask(data_filenames)\n",
    "print(\"cosmic ray masks created\")"
   ]
  },
  {
   "cell_type": "markdown",
   "id": "d34902f8-4c8e-48f3-b3cc-5cec54c69fcf",
   "metadata": {},
   "source": [
    "<h1><strong><span style=\"color:purple\">OPTIMIZE MASK</h1>\n",
    "\n",
    "<span style=\"color:orange\"><strong>use current mask for single gaussian fits to get better mask guess  "
   ]
  },
  {
   "cell_type": "code",
   "execution_count": 5,
   "id": "2938c38a-cd5c-4050-b739-4d5a602ad64a",
   "metadata": {},
   "outputs": [
    {
     "name": "stderr",
     "output_type": "stream",
     "text": [
      "100%|██████████| 3/3 [37:42<00:00, 754.29s/it]\n"
     ]
    }
   ],
   "source": [
    "# first guess; complex guess\n",
    "# IMPLEMENT RANSAC??? (HBDSCAN?)\n",
    "for flatfilename in tqdm(np.unique(flat_filenames)):\n",
    "    file_for_mask = Mask(\"b\",flatfilename,bad_masks,total_masks,mask_groups)\n",
    "    mask_polys0 = file_for_mask.first_guess(3)\n",
    "    file_for_mask.mask_poly(mask_polys0,40)\n",
    "\n",
    "    file_for_mask = Mask(\"r\",flatfilename,bad_masks,total_masks,mask_groups)\n",
    "    mask_polys0 = file_for_mask.first_guess(3)\n",
    "    file_for_mask.mask_poly(mask_polys0,40)"
   ]
  },
  {
   "cell_type": "code",
   "execution_count": 6,
   "id": "501d82b2-3e68-499b-b6f6-a69d8ef0c626",
   "metadata": {
    "scrolled": true
   },
   "outputs": [],
   "source": [
    "# change the degrees until fully confident with all the fits!\n",
    "center_deg = 5\n",
    "sigma_deg = 3\n",
    "\n",
    "for flatfilename in np.unique(flat_filenames):\n",
    "    file_for_mask = Mask(\"b\",flatfilename,bad_masks,total_masks,mask_groups)\n",
    "    file_for_mask.plot_trace_fits(center_deg,sigma_deg)\n",
    "\n",
    "    file_for_mask = Mask(\"r\",flatfilename,bad_masks,total_masks,mask_groups)\n",
    "    file_for_mask.plot_trace_fits(center_deg,sigma_deg)    "
   ]
  },
  {
   "cell_type": "code",
   "execution_count": null,
   "id": "cb568aeb-f3a6-44a9-af49-e9b0303c7be9",
   "metadata": {},
   "outputs": [
    {
     "name": "stderr",
     "output_type": "stream",
     "text": [
      "100%|██████████| 3/3 [05:49<00:00, 116.63s/it]\n"
     ]
    }
   ],
   "source": [
    "# TODO: calculate sig_mult based on mask non-overlap\n",
    "sig_mult = 1.5\n",
    "\n",
    "for flatfilename in tqdm(np.unique(flat_filenames)):\n",
    "    file_for_mask = Mask(\"b\",flatfilename,bad_masks,total_masks,mask_groups)\n",
    "    file_for_mask.get_flat_traces(center_deg,sigma_deg)\n",
    "    file_for_mask.create_mask(sig_mult)\n",
    "    \n",
    "    file_for_mask = Mask(\"r\",flatfilename,bad_masks,total_masks,mask_groups)\n",
    "    file_for_mask.get_flat_traces(center_deg,sigma_deg)\n",
    "    file_for_mask.create_mask(sig_mult)"
   ]
  },
  {
   "cell_type": "code",
   "execution_count": 8,
   "id": "ecfff313",
   "metadata": {},
   "outputs": [
    {
     "name": "stderr",
     "output_type": "stream",
     "text": [
      "100%|██████████| 3/3 [41:16<00:00, 825.39s/it]\n"
     ]
    }
   ],
   "source": [
    "# optimize arc files\n",
    "expected_peaks = 15\n",
    "sig_mult = 1.5\n",
    "\n",
    "for arcfilename, flatfilename in tqdm(zip(np.unique(arc_filenames), np.unique(flat_filenames)),total=len(np.unique(arc_filenames))):\n",
    "    file_for_mask = Mask(\"b\",flatfilename,bad_masks,total_masks,mask_groups)\n",
    "    file_for_mask.optimize_trace(arcfilename,sig_mult,expected_peaks=expected_peaks)\n",
    "    \n",
    "    file_for_mask = Mask(\"r\",flatfilename,bad_masks,total_masks,mask_groups)\n",
    "    file_for_mask.optimize_trace(arcfilename,sig_mult,expected_peaks=expected_peaks)"
   ]
  },
  {
   "cell_type": "code",
   "execution_count": 9,
   "id": "ec5e0476",
   "metadata": {},
   "outputs": [
    {
     "name": "stderr",
     "output_type": "stream",
     "text": [
      "100%|██████████| 9/9 [3:05:37<00:00, 1237.49s/it]  \n"
     ]
    }
   ],
   "source": [
    "# optimize data files\n",
    "expected_peaks = 25\n",
    "sig_mult = 1.5\n",
    "\n",
    "for datafilename, arcfilename, flatfilename in tqdm(zip(data_filenames, arc_filenames, flat_filenames),total=len(data_filenames)):\n",
    "    file_for_mask = Mask(\"b\",flatfilename,bad_masks,total_masks,mask_groups)\n",
    "    file_for_mask.optimize_trace(datafilename,sig_mult,True,expected_peaks=expected_peaks)\n",
    "    file_for_mask.get_rots(arcfilename,datafilename)\n",
    "    \n",
    "    file_for_mask = Mask(\"r\",flatfilename,bad_masks,total_masks,mask_groups)\n",
    "    file_for_mask.optimize_trace(datafilename,sig_mult,True,expected_peaks=expected_peaks)\n",
    "    file_for_mask.get_rots(arcfilename,datafilename)"
   ]
  },
  {
   "cell_type": "code",
   "execution_count": 10,
   "id": "5f0a2af9",
   "metadata": {},
   "outputs": [
    {
     "name": "stderr",
     "output_type": "stream",
     "text": [
      "100%|██████████| 9/9 [25:19<00:00, 168.81s/it]\n"
     ]
    }
   ],
   "source": [
    "# create masks for data\n",
    "sig_mult = 1.5\n",
    "\n",
    "for datafilename, flatfilename in tqdm(zip(data_filenames, flat_filenames),total=len(data_filenames)):\n",
    "    file_for_mask = Mask(\"b\",flatfilename,bad_masks,total_masks,mask_groups)\n",
    "    file_for_mask.create_mask(sig_mult,datafilename)\n",
    "    \n",
    "    file_for_mask = Mask(\"r\",flatfilename,bad_masks,total_masks,mask_groups)\n",
    "    file_for_mask.create_mask(sig_mult,datafilename)"
   ]
  },
  {
   "cell_type": "code",
   "execution_count": 11,
   "id": "04b7d76a",
   "metadata": {},
   "outputs": [
    {
     "name": "stderr",
     "output_type": "stream",
     "text": [
      "100%|██████████| 3/3 [07:21<00:00, 147.24s/it]\n"
     ]
    }
   ],
   "source": [
    "# create masks for arc!\n",
    "sig_mult = 1.5\n",
    "\n",
    "for arcfilename, flatfilename in tqdm(zip(np.unique(arc_filenames), np.unique(flat_filenames)),total=len(np.unique(arc_filenames))):\n",
    "    file_for_mask = Mask(\"b\",flatfilename,bad_masks,total_masks,mask_groups)\n",
    "    file_for_mask.create_mask(sig_mult,arcfilename)\n",
    "    \n",
    "    file_for_mask = Mask(\"r\",flatfilename,bad_masks,total_masks,mask_groups)\n",
    "    file_for_mask.create_mask(sig_mult,arcfilename)"
   ]
  },
  {
   "cell_type": "markdown",
   "id": "c9501a20",
   "metadata": {},
   "source": [
    "<h1><strong><span style=\"color:purple\">RECTIFY</h1>\n",
    "\n",
    "<span style=\"color:orange\"><strong>rectify + calibrate"
   ]
  },
  {
   "cell_type": "code",
   "execution_count": 12,
   "id": "14c3c573",
   "metadata": {},
   "outputs": [
    {
     "name": "stderr",
     "output_type": "stream",
     "text": [
      "100%|██████████| 9/9 [33:27<00:00, 223.02s/it]\n",
      "100%|██████████| 3/3 [05:55<00:00, 118.54s/it]\n"
     ]
    }
   ],
   "source": [
    "sig_mult = 1.5\n",
    "\n",
    "for datafilename, arcfilename, flatfilename in tqdm(zip(data_filenames, arc_filenames, flat_filenames),total=len(data_filenames)):\n",
    "    file_for_rect = Rectify(\"b\",datafilename,arcfilename,flatfilename,bad_masks,total_masks,mask_groups)\n",
    "    file_for_rect.optimize_centers(\"data\",sig_mult)\n",
    "    \n",
    "    file_for_rect = Rectify(\"r\",datafilename,arcfilename,flatfilename,bad_masks,total_masks,mask_groups)\n",
    "    file_for_rect.optimize_centers(\"data\",sig_mult)\n",
    "\n",
    "for arcfilename, flatfilename in tqdm(zip(np.unique(arc_filenames), np.unique(flat_filenames)),total=len(np.unique(arc_filenames))):\n",
    "    file_for_rect = Rectify(\"b\",\"NA\",arcfilename,flatfilename,bad_masks,total_masks,mask_groups)\n",
    "    file_for_rect.optimize_centers(\"arc\",sig_mult)    \n",
    "\n",
    "    file_for_rect = Rectify(\"r\",\"NA\",arcfilename,flatfilename,bad_masks,total_masks,mask_groups)\n",
    "    file_for_rect.optimize_centers(\"arc\",sig_mult)    "
   ]
  },
  {
   "cell_type": "code",
   "execution_count": 13,
   "id": "242193f8-2862-432f-b525-358c78b8c0d3",
   "metadata": {},
   "outputs": [
    {
     "name": "stderr",
     "output_type": "stream",
     "text": [
      "  0%|          | 0/9 [00:00<?, ?it/s]"
     ]
    },
    {
     "name": "stdout",
     "output_type": "stream",
     "text": [
      "BAD emission line\n"
     ]
    },
    {
     "name": "stderr",
     "output_type": "stream",
     "text": [
      " 11%|█         | 1/9 [00:08<01:10,  8.86s/it]"
     ]
    },
    {
     "name": "stdout",
     "output_type": "stream",
     "text": [
      "BAD emission line\n"
     ]
    },
    {
     "name": "stderr",
     "output_type": "stream",
     "text": [
      " 22%|██▏       | 2/9 [00:17<01:00,  8.60s/it]"
     ]
    },
    {
     "name": "stdout",
     "output_type": "stream",
     "text": [
      "BAD emission line\n"
     ]
    },
    {
     "name": "stderr",
     "output_type": "stream",
     "text": [
      " 33%|███▎      | 3/9 [00:25<00:50,  8.41s/it]"
     ]
    },
    {
     "name": "stdout",
     "output_type": "stream",
     "text": [
      "BAD emission line\n"
     ]
    },
    {
     "name": "stderr",
     "output_type": "stream",
     "text": [
      " 44%|████▍     | 4/9 [00:33<00:41,  8.22s/it]"
     ]
    },
    {
     "name": "stdout",
     "output_type": "stream",
     "text": [
      "BAD emission line\n",
      "BAD emission line\n"
     ]
    },
    {
     "name": "stderr",
     "output_type": "stream",
     "text": [
      " 56%|█████▌    | 5/9 [00:40<00:31,  7.92s/it]"
     ]
    },
    {
     "name": "stdout",
     "output_type": "stream",
     "text": [
      "BAD emission line\n",
      "BAD emission line\n"
     ]
    },
    {
     "name": "stderr",
     "output_type": "stream",
     "text": [
      " 67%|██████▋   | 6/9 [00:49<00:24,  8.11s/it]"
     ]
    },
    {
     "name": "stdout",
     "output_type": "stream",
     "text": [
      "BAD emission line\n"
     ]
    },
    {
     "name": "stderr",
     "output_type": "stream",
     "text": [
      " 78%|███████▊  | 7/9 [00:57<00:16,  8.02s/it]"
     ]
    },
    {
     "name": "stdout",
     "output_type": "stream",
     "text": [
      "BAD emission line\n"
     ]
    },
    {
     "name": "stderr",
     "output_type": "stream",
     "text": [
      " 89%|████████▉ | 8/9 [01:06<00:08,  8.38s/it]"
     ]
    },
    {
     "name": "stdout",
     "output_type": "stream",
     "text": [
      "BAD emission line\n"
     ]
    },
    {
     "name": "stderr",
     "output_type": "stream",
     "text": [
      "100%|██████████| 9/9 [01:14<00:00,  8.24s/it]\n",
      "100%|██████████| 3/3 [00:13<00:00,  4.48s/it]\n"
     ]
    }
   ],
   "source": [
    "for datafilename, arcfilename, flatfilename in tqdm(zip(data_filenames, arc_filenames, flat_filenames),total=len(data_filenames)):\n",
    "    file_for_rect = Rectify(\"b\",datafilename,arcfilename,flatfilename,bad_masks,total_masks,mask_groups)\n",
    "    file_for_rect.rectify(\"data\")\n",
    "\n",
    "    file_for_rect = Rectify(\"r\",datafilename,arcfilename,flatfilename,bad_masks,total_masks,mask_groups)\n",
    "    file_for_rect.rectify(\"data\")\n",
    "\n",
    "for arcfilename, flatfilename in tqdm(zip(np.unique(arc_filenames), np.unique(flat_filenames)),total=len(np.unique(arc_filenames))):\n",
    "    file_for_rect = Rectify(\"b\",\"NA\",arcfilename,flatfilename,bad_masks,total_masks,mask_groups)\n",
    "    file_for_rect.rectify(\"arc\")\n",
    "\n",
    "    file_for_rect = Rectify(\"r\",\"NA\",arcfilename,flatfilename,bad_masks,total_masks,mask_groups)\n",
    "    file_for_rect.rectify(\"arc\")"
   ]
  },
  {
   "cell_type": "code",
   "execution_count": 14,
   "id": "ad138d44",
   "metadata": {},
   "outputs": [
    {
     "name": "stderr",
     "output_type": "stream",
     "text": [
      "100%|██████████| 9/9 [04:00<00:00, 26.75s/it]\n"
     ]
    }
   ],
   "source": [
    "# calibrate (rectified xs to wls)\n",
    "for datafilename, arcfilename, flatfilename in tqdm(zip(data_filenames, arc_filenames, flat_filenames),total=len(data_filenames)):\n",
    "    file_for_calib = Rectify(\"b\",datafilename,arcfilename,flatfilename,bad_masks,total_masks,mask_groups)\n",
    "    file_for_calib.calib()\n",
    "\n",
    "    file_for_calib = Rectify(\"r\",datafilename,arcfilename,flatfilename,bad_masks,total_masks,mask_groups)\n",
    "    file_for_calib.calib()"
   ]
  },
  {
   "cell_type": "code",
   "execution_count": 15,
   "id": "d2b23388",
   "metadata": {},
   "outputs": [
    {
     "name": "stderr",
     "output_type": "stream",
     "text": [
      "100%|██████████| 9/9 [03:55<00:00, 26.16s/it]\n"
     ]
    }
   ],
   "source": [
    "# viz\n",
    "for datafilename, arcfilename, flatfilename in tqdm(zip(data_filenames, arc_filenames, flat_filenames),total=len(data_filenames)):\n",
    "    file_for_calib = Rectify(\"b\",datafilename,arcfilename,flatfilename,bad_masks,total_masks,mask_groups)\n",
    "    file_for_calib._viz()\n",
    "\n",
    "    file_for_calib = Rectify(\"r\",datafilename,arcfilename,flatfilename,bad_masks,total_masks,mask_groups)\n",
    "    file_for_calib._viz()"
   ]
  },
  {
   "cell_type": "markdown",
   "id": "cf8e450c",
   "metadata": {},
   "source": [
    "<h1><strong><span style=\"color:purple\">CALIBRATE</h1>\n",
    "\n",
    "<span style=\"color:orange\"><strong>calibrate"
   ]
  },
  {
   "cell_type": "code",
   "execution_count": 16,
   "id": "79210543",
   "metadata": {},
   "outputs": [
    {
     "name": "stderr",
     "output_type": "stream",
     "text": [
      "100%|██████████| 9/9 [4:51:35<00:00, 1943.90s/it]  \n"
     ]
    }
   ],
   "source": [
    "sig_mult = 1.5\n",
    "bins = np.arange(7500,10000,1)\n",
    "\n",
    "for datafilename, arcfilename, flatfilename in tqdm(zip(data_filenames, arc_filenames, flat_filenames),total=len(data_filenames)):\n",
    "    file_for_calib = Calibrate(datafilename,arcfilename,flatfilename,bad_masks,total_masks,mask_groups)\n",
    "    file_for_calib.get_spectra(sig_mult,bins,color=\"b\")\n",
    "    file_for_calib.get_spectra(sig_mult,bins,color=\"r\")"
   ]
  },
  {
   "cell_type": "code",
   "execution_count": 17,
   "id": "bb3db84e",
   "metadata": {},
   "outputs": [
    {
     "name": "stderr",
     "output_type": "stream",
     "text": [
      "100%|██████████| 9/9 [05:10<00:00, 34.55s/it]\n"
     ]
    }
   ],
   "source": [
    "# intenisty calibrate all spectra, combine blue and red amplifiers\n",
    "\n",
    "for datafilename, arcfilename, flatfilename in tqdm(zip(data_filenames, arc_filenames, flat_filenames),total=len(data_filenames)):\n",
    "    file_for_calib = Calibrate(datafilename,arcfilename,flatfilename,bad_masks,total_masks,mask_groups)\n",
    "    file_for_calib.intensity_corr()"
   ]
  },
  {
   "cell_type": "code",
   "execution_count": null,
   "id": "f20a67eb",
   "metadata": {},
   "outputs": [],
   "source": [
    "# ONLY VIZ\n",
    "\n",
    "for datafilename, arcfilename, flatfilename in tqdm(zip(data_filenames, arc_filenames, flat_filenames),total=len(data_filenames)):\n",
    "    file_for_calib = Calibrate(datafilename,arcfilename,flatfilename,bad_masks,total_masks,mask_groups)\n",
    "    file_for_calib._viz()"
   ]
  },
  {
   "cell_type": "markdown",
   "id": "d909ef5c",
   "metadata": {},
   "source": [
    "<h1><strong><span style=\"color:purple\">STACK</h1>\n",
    "\n",
    "<span style=\"color:orange\"><strong>stack dithers"
   ]
  },
  {
   "cell_type": "code",
   "execution_count": 18,
   "id": "e1d41067",
   "metadata": {},
   "outputs": [
    {
     "name": "stdout",
     "output_type": "stream",
     "text": [
      "hexagon grid: 99.000,88.777\n",
      "pixel grid: 99,89\n",
      "8811 pixels\n"
     ]
    },
    {
     "name": "stderr",
     "output_type": "stream",
     "text": [
      "overlap percentages: 100%|\u001b[38;2;255;165;0m██████████\u001b[0m| 8811/8811 [00:33<00:00, 263.25it/s]\n"
     ]
    },
    {
     "name": "stdout",
     "output_type": "stream",
     "text": [
      "8691 (98.638%) of pixels overlap with hexagon grid\n",
      "8183 (92.873%) of pixels overlap fully with hexagon grid\n"
     ]
    },
    {
     "name": "stderr",
     "output_type": "stream",
     "text": [
      "graphing pixels: 100%|\u001b[38;2;218;112;214m██████████\u001b[0m| 8811/8811 [00:12<00:00, 699.24it/s]\n"
     ]
    },
    {
     "name": "stdout",
     "output_type": "stream",
     "text": [
      "plotting...\n"
     ]
    },
    {
     "name": "stderr",
     "output_type": "stream",
     "text": [
      "graphing pixels: 100%|\u001b[38;2;218;112;214m██████████\u001b[0m| 8811/8811 [00:13<00:00, 632.08it/s]\n"
     ]
    },
    {
     "name": "stdout",
     "output_type": "stream",
     "text": [
      "plotting...\n"
     ]
    },
    {
     "name": "stderr",
     "output_type": "stream",
     "text": [
      "100%|██████████| 99/99 [02:22<00:00,  1.44s/it]\n",
      "100%|██████████| 99/99 [02:22<00:00,  1.44s/it]\n",
      "100%|██████████| 99/99 [02:07<00:00,  1.28s/it]\n",
      "100%|██████████| 99/99 [02:22<00:00,  1.44s/it]\n",
      "100%|██████████| 99/99 [02:24<00:00,  1.45s/it]\n",
      "100%|██████████| 99/99 [02:18<00:00,  1.40s/it]\n",
      "100%|██████████| 99/99 [02:24<00:00,  1.46s/it]\n",
      "100%|██████████| 99/99 [02:07<00:00,  1.29s/it]\n",
      "100%|██████████| 99/99 [02:24<00:00,  1.46s/it]\n"
     ]
    }
   ],
   "source": [
    "# individually create datacubes to be used in dither stack\n",
    "\n",
    "files_for_stack = Stack(data_filenames,bad_masks,total_masks,mask_groups,wcs_stars)\n",
    "files_for_stack.hex_to_grid()\n",
    "files_for_stack.spectra_to_datacube()"
   ]
  },
  {
   "cell_type": "code",
   "execution_count": 4,
   "id": "c62b6175",
   "metadata": {},
   "outputs": [
    {
     "name": "stdout",
     "output_type": "stream",
     "text": [
      "calculting 2D cross-correlation shift guesses...\n",
      "select 5 WCS stars in order; see popup window\n",
      "optimizing WCS star coordinates...\n",
      "performing WCS transforms...\n",
      "\t0721 used 5 reference stars\n",
      "\t0722 used 5 reference stars\n",
      "\t0723 used 5 reference stars\n",
      "\t0727 used 5 reference stars\n",
      "\t0728 used 5 reference stars\n",
      "\t0729 used 5 reference stars\n",
      "\t0736 used 5 reference stars\n",
      "\t0737 used 5 reference stars\n",
      "\t0738 used 5 reference stars\n",
      "WCS transformations complete\n"
     ]
    }
   ],
   "source": [
    "# transform data to WCS using cross-correlation\n",
    "files_for_stack = Stack(data_filenames,bad_masks,total_masks,mask_groups,wcs_stars)\n",
    "files_for_stack.wcs_datacubes()"
   ]
  },
  {
   "cell_type": "code",
   "execution_count": 5,
   "id": "cf8bb6c6",
   "metadata": {},
   "outputs": [],
   "source": [
    "# calibrate intensity for all datacubes\n",
    "files_for_stack = Stack(data_filenames,bad_masks,total_masks,mask_groups,wcs_stars)\n",
    "files_for_stack.full_intensity_callibration()"
   ]
  },
  {
   "cell_type": "code",
   "execution_count": 6,
   "id": "faf096b2",
   "metadata": {},
   "outputs": [
    {
     "name": "stderr",
     "output_type": "stream",
     "text": [
      "overlap percentages: 100%|\u001b[38;2;255;165;0m██████████\u001b[0m| 7821/7821 [05:34<00:00, 23.39it/s]\n",
      "100%|██████████| 99/99 [1:07:33<00:00, 40.94s/it]\n"
     ]
    },
    {
     "name": "stdout",
     "output_type": "stream",
     "text": [
      "final data cubes saved!\n"
     ]
    }
   ],
   "source": [
    "# stack datacubes\n",
    "files_for_stack = Stack(data_filenames,bad_masks,total_masks,mask_groups,wcs_stars)\n",
    "files_for_stack.stack_datacubes()"
   ]
  },
  {
   "cell_type": "code",
   "execution_count": null,
   "id": "b59d0768",
   "metadata": {},
   "outputs": [],
   "source": []
  },
  {
   "cell_type": "code",
   "execution_count": null,
   "id": "0b06a696",
   "metadata": {},
   "outputs": [],
   "source": []
  },
  {
   "cell_type": "code",
   "execution_count": null,
   "id": "cc4bc7ac",
   "metadata": {},
   "outputs": [],
   "source": []
  },
  {
   "cell_type": "code",
   "execution_count": null,
   "id": "175c2632",
   "metadata": {},
   "outputs": [],
   "source": []
  }
 ],
 "metadata": {
  "kernelspec": {
   "display_name": "IFUM",
   "language": "python",
   "name": "python3"
  },
  "language_info": {
   "codemirror_mode": {
    "name": "ipython",
    "version": 3
   },
   "file_extension": ".py",
   "mimetype": "text/x-python",
   "name": "python",
   "nbconvert_exporter": "python",
   "pygments_lexer": "ipython3",
   "version": "3.13.2"
  }
 },
 "nbformat": 4,
 "nbformat_minor": 5
}
